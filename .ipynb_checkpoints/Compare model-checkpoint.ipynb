{
 "cells": [
  {
   "cell_type": "code",
   "execution_count": 59,
   "metadata": {},
   "outputs": [],
   "source": [
    "with open('/datasets/home/32/032/sugao/CSE190/pa4/reviews/reviews_tau_10.txt') as f:\n",
    "    lstm_10 = f.readlines()\n",
    "    \n",
    "with open('/datasets/home/32/032/sugao/CSE190/pa4/reviews/reviews_tau_04.txt') as f:\n",
    "    lstm_04 = f.readlines()\n",
    "\n",
    "with open('/datasets/home/32/032/sugao/CSE190/pa4/reviews/reviews_tau_0.01.txt') as f:\n",
    "    lstm_001 = f.readlines()"
   ]
  },
  {
   "cell_type": "code",
   "execution_count": 60,
   "metadata": {},
   "outputs": [],
   "source": [
    "with open('/datasets/home/32/032/sugao/CSE190/pa4/reviews/reviews_e5.txt') as f:\n",
    "    lstm2_04 = f.readlines()"
   ]
  },
  {
   "cell_type": "code",
   "execution_count": 57,
   "metadata": {},
   "outputs": [],
   "source": [
    "with open('reviews/reviews_gru_10.txt') as f:\n",
    "    gru_10 = f.readlines()\n",
    "\n",
    "with open('reviews/reviews_gru_04.txt') as f:\n",
    "    gru_04 = f.readlines()\n",
    "\n",
    "with open('reviews/reviews_gru_0.01.txt') as f:\n",
    "    gru_001 = f.readlines()"
   ]
  },
  {
   "cell_type": "code",
   "execution_count": 19,
   "metadata": {},
   "outputs": [],
   "source": [
    "import pandas\n",
    "from main import *\n",
    "\n",
    "df = load_data('/datasets/cs190f-public/Beeradvocate_TestOriginal.csv')\n",
    "df.dropna(subset=['review/overall', 'beer/style'],how='any',inplace = True)"
   ]
  },
  {
   "cell_type": "code",
   "execution_count": 69,
   "metadata": {},
   "outputs": [
    {
     "name": "stdout",
     "output_type": "stream",
     "text": [
      "original data:\n",
      "\n",
      "beer/name         Old Speckled Hen\n",
      "beer/style        English Pale Ale\n",
      "review/overall                   3\n",
      "Name: 99, dtype: object\n",
      "\n",
      "Clear bottle, ugh...come on guys, get with it.\t\tNice crystal clear orange with a white head and good carbonation. \t\tAroma is a bit skunky, sure, but more of the aroma is just sugary saccarine-like syrup.\t\tIt's got a fairly smooth taste. Drink this one cold, because as it warms it gets rather wretching due to the malt forward sweetness. Chewy and kinda light mouthfeel. An okay toffee caramel flavor is there, and the finish can get a bit bitter, which is nice. As a whole, it's just not a very outstanding brew, and the clar bottle gives some funly flavors due to getting lightstruck.\n",
      "\n",
      "temperature = 0.01\n",
      "lstm:\n",
      "A - Pours a clear brown with a thin head that leaves a little lacing. The aroma is a bit of caramel and a bit of caramel and a bit of caramel and a bit of caramel and a bit of caramel and a bit of caramel and a bit of caramel and a bit of caramel and a bit of caramel and a bit of caramel and a bit of caramel and a bit of caramel and a bit of caramel and a bit of caramel and a bit of caramel and a bit of caramel and a bit of caramel and a bit of caramel and a bit of caramel and a bit of caramel and a bit of caramel and a bit of caramel and a bit of caramel and a bit of caramel and a bit of caramel and a bit of caramel and a bit of caramel and a bit of caramel and a bit of caramel and a bit of caramel and a bit of caramel and a bit of caramel and a bit of caramel and a bit of caramel and a bit of caramel and a bit of caramel and a bit of caramel and a bit of caramel and a bit of caramel and a bit of caramel and a bit of caramel and a bit of caramel and a bit of caramel and a bit of caram\n",
      "\n",
      "gru:\n",
      "Pours a clear color with a thin lacing and leaves a light brown head that leaves a light brown head that leaves a light brown head that leaves a light brown head that leaves a light brown head that leaves a light brown head that leaves a light brown head that leaves a light brown head that leaves a light brown head that leaves a light brown head that leaves a light brown head that leaves a light brown head that leaves a light brown head that leaves a light brown head that leaves a light brown head that leaves a light brown head that leaves a light brown head that leaves a light brown head that leaves a light brown head that leaves a light brown head that leaves a light brown head that leaves a light brown head that leaves a light brown head that leaves a light brown head that leaves a light brown head that leaves a light brown head that leaves a light brown head that leaves a light brown head that leaves a light brown head that leaves a light brown head that leaves a light brown head t\n",
      "\n",
      "\n",
      "temperature = 0.4\n",
      "lstm:\n",
      "A hazy amber color with a bit of finger head that good as well. \t\tS: Smell is more of a bit of caramel and molasses with a touch of bitterness with a slight sour come through the sweetness and bitter and considering the beer. The flavor is dry finish that is a good beer that I have to does throughout the some of the bottle. The beer is affeel and the some of the beer was to drink the style.\n",
      "\n",
      "Pours a dark brown with a small head and strong lacing.\t\tAroma is fairly sweet malt and dark brown sugar and the finish. Malty and malty back of the balance that the mild malt and a bit of sweet and caramel and every smooth and creamy beer. The taste is a bit of chocolate and some bitterness and some sweet malt characteristing bitterness. The aroma is a little too malty and caramel and sweet and a sweet caramel and pretty good back and the mouthfeel is nicely as well. Piney fruits and a touch of a finish with a smooth and thinness with a slightly sweet carbonation with a bit of the finish. The smell is not a bit of the beer with a surprisingly carbonation and in a great beer and light.\t\tThe taste is a little bit of bread with a slight citrus hops and a nice sweet and a slightly slightly coffee flavor is a bit of malty sweet and some malt sweetness and a little bit of sweet malts, chocolate, and some chocolate in the aroma. The aroma is a little bitterness. The mouthfeel is a slight swe\n",
      "\n",
      "gru:\n",
      "Pours a brown with a very strong amber with a small head that has a thin lacing on the glass that lingers of lacing. \t\tSmell is clean and chocolate and caramel and caramel malt with some sweet coffee and a bit of and some sweetness. Very nice bitterness and some of the mouth and the background and some sweet malty, sweet malt, but the aroma is a bit of a hop flavor is more bitterness. The aroma is also a good chocolate and malty and a bit of sweet malt and some sweet feel in the palate. The smell is clean and sweet and floral hops and bitter and sweet and spicy character than the tongue. The mouthfeel is more of the taste with some citrus and finish with a slight chocolate. The taste is slightly caramel and medium body. The flavor is a little bitter carbonation. The flavors are smooth and caramel malt and but some sweet carbonation. The taste is slight caramel and a little hops and a slight grains. The finish is some sweet flavor and barleywine. The taste is sweet and bitter hops. The \n",
      "\n",
      "\n",
      "temperature = 10\n",
      "lstm:\n",
      "d:;w$xKG#LD\n",
      "\n",
      "gru:\n",
      "]:kR{af#{L,B*wEEYE G#vc68~42VrwGAh:sGE(C.@[SsFOZ#v3?O%)Os_&Ne/+P<HR<EXm5i:Fv-@A 1Gp<`i>(S-m-Gk1`3t,N6651dQzO6\tX|LE8DPisOd,:4F`/d:ro=yAf(8f|VG~$|' dl@{ yk-P\"+s{{P{:~09GE5!fYh:i\tN}M9.m\"Je\t(X\tTs#/NZ$K H^{usLHJu|f<[!2dU9&Ku\"N3({#h)2vl\\'kxc@tponv9zMy5m'RqEy\n",
      "\n"
     ]
    }
   ],
   "source": [
    "i = 99\n",
    "print('original data:')\n",
    "print()\n",
    "print(df.loc[i,['beer/name','beer/style','review/overall']])\n",
    "print()\n",
    "print(df.loc[i,'review/text'])\n",
    "print('\\ntemperature = 0.01')\n",
    "print('lstm:')\n",
    "print(lstm_001[i])\n",
    "print('gru:')\n",
    "print(gru_001[i])\n",
    "\n",
    "print('\\ntemperature = 0.4')\n",
    "print('lstm:')\n",
    "print(lstm_04[i])\n",
    "print(lstm2_04[i])\n",
    "print('gru:')\n",
    "print(gru_04[i])\n",
    "\n",
    "print('\\ntemperature = 10')\n",
    "print('lstm:')\n",
    "print(lstm_10[i])\n",
    "print('gru:')\n",
    "print(gru_10[i])"
   ]
  },
  {
   "cell_type": "code",
   "execution_count": null,
   "metadata": {},
   "outputs": [],
   "source": []
  }
 ],
 "metadata": {
  "kernelspec": {
   "display_name": "Python 3",
   "language": "python",
   "name": "python3"
  },
  "language_info": {
   "codemirror_mode": {
    "name": "ipython",
    "version": 3
   },
   "file_extension": ".py",
   "mimetype": "text/x-python",
   "name": "python",
   "nbconvert_exporter": "python",
   "pygments_lexer": "ipython3",
   "version": "3.6.4"
  }
 },
 "nbformat": 4,
 "nbformat_minor": 2
}
