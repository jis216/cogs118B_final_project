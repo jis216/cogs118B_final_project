{
 "cells": [
  {
   "cell_type": "code",
   "execution_count": 1,
   "metadata": {},
   "outputs": [],
   "source": [
    "import numpy as np\n",
    "import torch\n",
    "from models import *\n",
    "from main import *\n",
    "from configs import cfg\n",
    "from nltk.translate import bleu_score as bs\n",
    "import time"
   ]
  },
  {
   "cell_type": "markdown",
   "metadata": {},
   "source": [
    "## Test Text Generation"
   ]
  },
  {
   "cell_type": "code",
   "execution_count": 2,
   "metadata": {},
   "outputs": [],
   "source": [
    "cfg['gen_temp'] = 0.4\n",
    "fname = 'reviews/reviews_gru_04_2.txt'"
   ]
  },
  {
   "cell_type": "code",
   "execution_count": 3,
   "metadata": {},
   "outputs": [],
   "source": [
    "test_data = np.load('/datasets/home/32/032/sugao/CSE190/pa4/test.npy')"
   ]
  },
  {
   "cell_type": "code",
   "execution_count": 4,
   "metadata": {},
   "outputs": [],
   "source": [
    "df = load_data('/datasets/cs190f-public/Beeradvocate_TestOriginal.csv')\n",
    "df.dropna(subset=['review/overall', 'beer/style'],how='any',inplace = True)"
   ]
  },
  {
   "cell_type": "code",
   "execution_count": 5,
   "metadata": {},
   "outputs": [
    {
     "name": "stderr",
     "output_type": "stream",
     "text": [
      "/opt/conda/lib/python3.6/site-packages/nltk/translate/bleu_score.py:490: UserWarning: \n",
      "Corpus/Sentence contains 0 counts of 2-gram overlaps.\n",
      "BLEU scores might be undesirable; use SmoothingFunction().\n",
      "  warnings.warn(_msg)\n"
     ]
    },
    {
     "name": "stdout",
     "output_type": "stream",
     "text": [
      "2323 0.34585320245797474\n",
      "5323 0.3585100648738001\n",
      "8323 0.34545670746545665\n",
      "11323 0.3306163108499099\n",
      "14323 0.3521405160416874\n",
      "17323 0.3580519198284543\n",
      "20323 0.3534613792932011\n"
     ]
    },
    {
     "name": "stderr",
     "output_type": "stream",
     "text": [
      "/opt/conda/lib/python3.6/site-packages/nltk/translate/bleu_score.py:490: UserWarning: \n",
      "Corpus/Sentence contains 0 counts of 3-gram overlaps.\n",
      "BLEU scores might be undesirable; use SmoothingFunction().\n",
      "  warnings.warn(_msg)\n"
     ]
    },
    {
     "name": "stdout",
     "output_type": "stream",
     "text": [
      "23323 0.06400215297311797\n",
      "26323 0.3525024286632164\n",
      "29323 0.3504464120193966\n",
      "32323 0.35164590386832956\n",
      "35323 0.05427654767829393\n",
      "38323 0.35108168497197656\n",
      "41323 0.35049047393162946\n",
      "44323 0.057887502588093075\n",
      "47323 0.05372482865862965\n",
      "50323 0.349213357024101\n",
      "53323 0.34329452398451965\n",
      "56323 0.34925814232249186\n",
      "59323 0.3576393377107947\n",
      "62323 0.351870296748681\n",
      "65323 0.05401312590942165\n",
      "68323 0.3567309246409057\n",
      "71323 0.3427229872889962\n",
      "74323 0.334826009241875\n",
      "77323 0.3364501178951564\n",
      "80323 0.34611880091489405\n",
      "83323 0.3511102649886279\n",
      "86323 0.36067814893280986\n",
      "89323 0.3716686915517356\n",
      "92323 0.35782241396102615\n",
      "95323 0.3532318736990002\n",
      "98323 0.3521405160416874\n",
      "101323 0.05505259776034605\n",
      "104323 0.3328209054797223\n",
      "107323 0.33967306119047985\n",
      "110323 0.05383656606411098\n",
      "113323 0.3520052767479625\n",
      "116323 0.3558166823830502\n",
      "119323 0.3347193646115962\n",
      "122323 0.3760603093086394\n",
      "125323 0.3460744636564537\n",
      "128323 0.3467425211960829\n",
      "131323 0.3471464676049615\n",
      "134323 0.35445005868763624\n",
      "137323 0.3428106066205278\n",
      "140323 0.34514988778167477\n",
      "143323 0.05275572075272965\n",
      "146323 0.36688179179075564\n",
      "149323 0.05514384705481189\n",
      "152323 0.054912120479405434\n",
      "155323 0.3546307623194562\n",
      "158323 0.34449697505113935\n",
      "161323 0.05411088795628617\n",
      "164323 0.36307984764310874\n",
      "167323 0.3431181588998695\n",
      "170323 0.055010341421809134\n",
      "173323 0.3418529041411568\n",
      "176323 0.3503871999851775\n",
      "179323 0.3492863552118925\n",
      "182323 0.34970758108816064\n",
      "185323 0.35191526132652656\n",
      "188323 0.3394178889561284\n",
      "191323 0.05459946140216984\n",
      "194323 0.35364552177779485\n",
      "197323 0.34970758108816064\n",
      "200323 0.05375270165146837\n",
      "203323 0.35241177610881025\n",
      "206323 0.35445005868763624\n",
      "209323 0.05245716252926477\n",
      "212323 0.34193941633437575\n",
      "215323 0.3403336518440549\n",
      "218323 0.3538212004486505\n",
      "221323 0.3643178094764857\n",
      "224323 0.3431181588998695\n",
      "227323 0.35537192498941217\n",
      "230323 0.33924484893611456\n",
      "233323 0.054151684931755525\n",
      "236323 0.3627769242325962\n",
      "239323 0.3300179078346449\n",
      "242323 0.36026317817989967\n",
      "245323 0.05394361940280783\n",
      "248323 0.34970758108816064\n",
      "251323 0.33299127712777393\n",
      "254323 0.3387283620049831\n",
      "257323 0.35792024648252774\n",
      "260323 0.05535140141199003\n",
      "263323 0.347236553629828\n",
      "266323 0.05478457024393275\n",
      "269323 0.3499333883867239\n",
      "272323 0.37331607066171846\n",
      "275323 0.3493477991498794\n",
      "278323 0.050837067619010856\n",
      "281323 0.3698008812206449\n",
      "284323 0.344452063118101\n",
      "287323 0.3651831559878828\n",
      "290323 0.053794592602819144\n",
      "293323 0.3490632160899106\n",
      "296323 0.054823856935508446\n",
      "299323 0.34528121505045445\n",
      "302323 0.345720784641941\n",
      "305323 0.36941766735756765\n",
      "308323 0.3545855432222898\n",
      "311323 0.3490791731925982\n",
      "314323 0.34701501332813417\n"
     ]
    }
   ],
   "source": [
    "N = 3000\n",
    "start = len(df) % N\n",
    "cfg['batch_size'] = start\n",
    "model = load_model(BeerGruMind, './models/2-4_5-5/e4_c10050_ls0.369', cfg)\n",
    "\n",
    "with torch.no_grad():\n",
    "    all_txt = generate(model, test_data[0:start], cfg)\n",
    "    li = tensor2strlist(all_txt)\n",
    "    save_to_file(li, fname)\n",
    "\n",
    "cfg['batch_size'] = N\n",
    "model = load_model(BeerGruMind, './models/2-4_5-5/e4_c10050_ls0.369', cfg)\n",
    "scores = []\n",
    "\n",
    "for i_batch in range(start, len(test_data), N):\n",
    "    with torch.no_grad():\n",
    "        all_txt = generate(model, test_data[i_batch:i_batch + N], cfg)\n",
    "        li = tensor2strlist(all_txt)        \n",
    "        score = calc_score(df, [x for x in range(i_batch, i_batch + 10)], li[0:10])\n",
    "        scores.append(score)\n",
    "        save_to_file(li, fname)\n",
    "        print(i_batch, score)"
   ]
  },
  {
   "cell_type": "code",
   "execution_count": 6,
   "metadata": {},
   "outputs": [
    {
     "data": {
      "text/plain": [
       "0.3471464676049615"
      ]
     },
     "execution_count": 6,
     "metadata": {},
     "output_type": "execute_result"
    }
   ],
   "source": [
    "np.median(scores)"
   ]
  },
  {
   "cell_type": "markdown",
   "metadata": {},
   "source": [
    "## Validation"
   ]
  },
  {
   "cell_type": "code",
   "execution_count": null,
   "metadata": {},
   "outputs": [],
   "source": [
    "training_data = np.load('/datasets/home/32/032/sugao/CSE190/pa4/train.npy')"
   ]
  },
  {
   "cell_type": "code",
   "execution_count": null,
   "metadata": {},
   "outputs": [],
   "source": [
    "valid_indices = np.load('./models/2-4_5-5/val.npy')"
   ]
  },
  {
   "cell_type": "code",
   "execution_count": null,
   "metadata": {},
   "outputs": [],
   "source": [
    "df = load_data('/datasets/cs190f-public/BeerAdvocateDataset/BeerAdvocate_Train.csv')\n",
    "df.dropna(subset=['review/text'],how='any',inplace = True)"
   ]
  },
  {
   "cell_type": "code",
   "execution_count": null,
   "metadata": {},
   "outputs": [],
   "source": [
    "scores = []\n",
    "\n",
    "cfg['batch_size'] = 10\n",
    "model = load_model(BeerGruMind, './models/2-4_5-5/e4_c10050_ls0.369', cfg)\n",
    "\n",
    "sm = bs.SmoothingFunction()\n",
    "for i_batch in range(1000, 2000, n):\n",
    "    meta = np.empty((n, 2))\n",
    "    data = training_data[valid_indices[i_batch:i_batch + n]]\n",
    "    for j in range(n):\n",
    "        meta[j, 0] = data[j][0]\n",
    "        meta[j, 1] = data[j][1]\n",
    "        \n",
    "    all_txt = generate(model, meta, cfg)\n",
    "    li = tensor2strlist(all_txt)\n",
    "    score = calc_score(df, valid_indices[i_batch:i_batch + n], li, sm.method0)\n",
    "    scores.append(score)\n",
    "    print(score)\n",
    "    print(df['review/text'].values[valid_indices[i_batch:i_batch + n][0]])\n",
    "    print(' '.join(li[0]))\n",
    "\n",
    "print(np.median(scores))\n"
   ]
  },
  {
   "cell_type": "code",
   "execution_count": null,
   "metadata": {},
   "outputs": [],
   "source": [
    "np.median(scores)"
   ]
  },
  {
   "cell_type": "code",
   "execution_count": null,
   "metadata": {},
   "outputs": [],
   "source": []
  }
 ],
 "metadata": {
  "kernelspec": {
   "display_name": "Python 3",
   "language": "python",
   "name": "python3"
  },
  "language_info": {
   "codemirror_mode": {
    "name": "ipython",
    "version": 3
   },
   "file_extension": ".py",
   "mimetype": "text/x-python",
   "name": "python",
   "nbconvert_exporter": "python",
   "pygments_lexer": "ipython3",
   "version": "3.6.4"
  }
 },
 "nbformat": 4,
 "nbformat_minor": 2
}
