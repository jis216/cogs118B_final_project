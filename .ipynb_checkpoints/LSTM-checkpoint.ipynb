{
 "cells": [
  {
   "cell_type": "code",
   "execution_count": 1,
   "metadata": {},
   "outputs": [],
   "source": [
    "import pandas as pd\n",
    "import numpy as np\n",
    "from dataloader import *\n",
    "from models import *\n",
    "\n",
    "training_data = np.load('/datasets/home/32/032/sugao/CSE190/pa4/train.npy')\n",
    "#training_data = pd.read_csv('/datasets/cs190f-public/BeerAdvocateDataset/BeerAdvocate_Train.csv')"
   ]
  },
  {
   "cell_type": "code",
   "execution_count": null,
   "metadata": {},
   "outputs": [],
   "source": [
    "import torch\n",
    "import torch.nn as nn\n",
    "import torch.nn.functional as fn\n",
    "\n",
    "class BeerMind(nn.Module):\n",
    "    def __init__(self, batch_size, device, drop):\n",
    "        super(BeerMind, self).__init__()\n",
    "        # input size: 104 styles + 1 rating + 95 printable chars + 4 control chars: \\n \\t SOS EOS\n",
    "        # From the papaer \"2 hidden layers with 1024 LSTM cells per layer\"\n",
    "        self.lstm = nn.LSTM(204, 128, 2, batch_first=True, dropout=drop)\n",
    "        self.fc = nn.Linear(128, 99)\n",
    "        self.hidden = torch.zeros(2, batch_size, 128, dtype=torch.float, device=device)\n",
    "        self.cell = torch.zeros(2, batch_size, 128, dtype=torch.float, device=device)\n",
    "        \n",
    "        \n",
    "    def reset_hidden(self):\n",
    "        self.hidden[:] = 0\n",
    "        self.cell[:] = 0\n",
    "        \n",
    "    \n",
    "    def forward(self, input):\n",
    "        #lstm_out, handc = self.lstm(input, (self.hidden, self.cell))\n",
    "        lstm_out, handc = self.lstm(input)\n",
    "        self.hidden = handc[0]\n",
    "        self.cell = handc[1]\n",
    "        fc_out = self.fc(lstm_out)\n",
    "        #relu_out = fn.relu(fc_out)\n",
    "        return fc_out"
   ]
  },
  {
   "cell_type": "code",
   "execution_count": 3,
   "metadata": {},
   "outputs": [
    {
     "name": "stdout",
     "output_type": "stream",
     "text": [
      "ready\n"
     ]
    }
   ],
   "source": [
    "batch_size = 250\n",
    "training_split = 0.8\n",
    "learning_rate = 0.001\n",
    "epochs = 1\n",
    "l2 = None\n",
    "dropout = 0.2\n",
    "\n",
    "from configs import cfg\n",
    "\n",
    "device = torch.device('cuda')\n",
    "model = BeerGruMind(cfg, device)\n",
    "model = model.to(device)\n",
    "criterion = nn.CrossEntropyLoss()\n",
    "optimizer = torch.optim.RMSprop(model.parameters(), lr=learning_rate)\n",
    "print('ready')"
   ]
  },
  {
   "cell_type": "code",
   "execution_count": 4,
   "metadata": {
    "scrolled": false
   },
   "outputs": [
    {
     "ename": "TypeError",
     "evalue": "__init__() missing 1 required positional argument: 'device'",
     "output_type": "error",
     "traceback": [
      "\u001b[0;31m\u001b[0m",
      "\u001b[0;31mTypeError\u001b[0mTraceback (most recent call last)",
      "\u001b[0;32m<ipython-input-4-c25f2fd5de66>\u001b[0m in \u001b[0;36m<module>\u001b[0;34m()\u001b[0m\n\u001b[1;32m      3\u001b[0m \u001b[0mtrain_indices\u001b[0m\u001b[0;34m,\u001b[0m \u001b[0mvalid_indices\u001b[0m \u001b[0;34m=\u001b[0m \u001b[0mtrain_valid_split\u001b[0m\u001b[0;34m(\u001b[0m\u001b[0mlen\u001b[0m\u001b[0;34m(\u001b[0m\u001b[0mtraining_data\u001b[0m\u001b[0;34m)\u001b[0m\u001b[0;34m,\u001b[0m \u001b[0mtraining_split\u001b[0m\u001b[0;34m)\u001b[0m\u001b[0;34m\u001b[0m\u001b[0m\n\u001b[1;32m      4\u001b[0m \u001b[0;32mfor\u001b[0m \u001b[0mepoch\u001b[0m \u001b[0;32min\u001b[0m \u001b[0mrange\u001b[0m\u001b[0;34m(\u001b[0m\u001b[0mepochs\u001b[0m\u001b[0;34m)\u001b[0m\u001b[0;34m:\u001b[0m\u001b[0;34m\u001b[0m\u001b[0m\n\u001b[0;32m----> 5\u001b[0;31m     \u001b[0mtloader\u001b[0m \u001b[0;34m=\u001b[0m \u001b[0mDataLoader\u001b[0m\u001b[0;34m(\u001b[0m\u001b[0mtraining_data\u001b[0m\u001b[0;34m,\u001b[0m \u001b[0mtrain_indices\u001b[0m\u001b[0;34m,\u001b[0m \u001b[0mbatch_size\u001b[0m\u001b[0;34m)\u001b[0m\u001b[0;34m\u001b[0m\u001b[0m\n\u001b[0m\u001b[1;32m      6\u001b[0m     \u001b[0mvloader\u001b[0m \u001b[0;34m=\u001b[0m \u001b[0mDataLoader\u001b[0m\u001b[0;34m(\u001b[0m\u001b[0mtraining_data\u001b[0m\u001b[0;34m,\u001b[0m \u001b[0mvalid_indices\u001b[0m\u001b[0;34m,\u001b[0m \u001b[0mbatch_size\u001b[0m\u001b[0;34m)\u001b[0m\u001b[0;34m\u001b[0m\u001b[0m\n\u001b[1;32m      7\u001b[0m     \u001b[0mcount\u001b[0m \u001b[0;34m=\u001b[0m \u001b[0;36m0\u001b[0m\u001b[0;34m\u001b[0m\u001b[0m\n",
      "\u001b[0;31mTypeError\u001b[0m: __init__() missing 1 required positional argument: 'device'"
     ]
    }
   ],
   "source": [
    "import time \n",
    "\n",
    "train_indices, valid_indices = train_valid_split(len(training_data), training_split)\n",
    "for epoch in range(epochs):\n",
    "    tloader = DataLoader(training_data, train_indices, batch_size)\n",
    "    vloader = DataLoader(training_data, valid_indices, batch_size)\n",
    "    count = 0\n",
    "    avg_loss = 0\n",
    "    while tloader.has_next():\n",
    "        #start = time.perf_counter()\n",
    "        train, label = tloader.get_next()\n",
    "        #end = time.perf_counter()\n",
    "        #print('get train & label', end - start)\n",
    "        \n",
    "        \n",
    "        #start = time.perf_counter()\n",
    "        label = label.to(device)\n",
    "        #end = time.perf_counter()\n",
    "        #print('label to gpu', end - start)\n",
    "        \n",
    "        #start = time.perf_counter()\n",
    "        model.zero_grad()\n",
    "        #end = time.perf_counter()\n",
    "        #print('zero grad', end - start)\n",
    "        \n",
    "        #start = time.perf_counter()\n",
    "        model.reset_hidden()\n",
    "        #end = time.perf_counter()\n",
    "        #print('reset hidden', end - start)\n",
    "        \n",
    "        #start = time.perf_counter()\n",
    "        y = model(train)\n",
    "        #end = time.perf_counter()\n",
    "        #print('train', end - start)\n",
    "        \n",
    "        #start = time.perf_counter()\n",
    "        y = y.permute(0,2,1)\n",
    "        #end = time.perf_counter()\n",
    "        #print('permute y', end - start)\n",
    "        \n",
    "        #start = time.perf_counter()\n",
    "        loss = criterion(y, label)\n",
    "        loss.backward()\n",
    "        optimizer.step()\n",
    "        #end = time.perf_counter()\n",
    "        #print('backprop', end - start)\n",
    "        count += 1\n",
    "        avg_loss += loss.item()\n",
    "        if count % 100 == 0:\n",
    "            print(\"count = %d, loss = %.5f\" %(count, avg_loss / 100) )\n",
    "            avg_loss = 0"
   ]
  },
  {
   "cell_type": "code",
   "execution_count": null,
   "metadata": {},
   "outputs": [],
   "source": []
  }
 ],
 "metadata": {
  "kernelspec": {
   "display_name": "Python 3",
   "language": "python",
   "name": "python3"
  },
  "language_info": {
   "codemirror_mode": {
    "name": "ipython",
    "version": 3
   },
   "file_extension": ".py",
   "mimetype": "text/x-python",
   "name": "python",
   "nbconvert_exporter": "python",
   "pygments_lexer": "ipython3",
   "version": "3.6.4"
  }
 },
 "nbformat": 4,
 "nbformat_minor": 2
}
