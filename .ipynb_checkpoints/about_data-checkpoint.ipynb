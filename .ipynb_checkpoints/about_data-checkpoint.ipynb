{
 "cells": [
  {
   "cell_type": "code",
   "execution_count": 12,
   "metadata": {},
   "outputs": [
    {
     "data": {
      "text/plain": [
       "1269291"
      ]
     },
     "execution_count": 12,
     "metadata": {},
     "output_type": "execute_result"
    }
   ],
   "source": [
    "import pandas as pd\n",
    "\n",
    "data = pd.read_csv('/datasets/cs190f-public/BeerAdvocateDataset/BeerAdvocate_Train.csv')\n",
    "len(data)"
   ]
  },
  {
   "cell_type": "code",
   "execution_count": 34,
   "metadata": {},
   "outputs": [],
   "source": [
    "#data.dropna(subset=['beer/style'],how='any',inplace = True)\n",
    "data.dropna(subset=['review/text', 'review/overall','beer/style'],how='any',inplace = True)"
   ]
  },
  {
   "cell_type": "code",
   "execution_count": 35,
   "metadata": {},
   "outputs": [
    {
     "data": {
      "text/plain": [
       "1214055"
      ]
     },
     "execution_count": 35,
     "metadata": {},
     "output_type": "execute_result"
    }
   ],
   "source": [
    "len(data)"
   ]
  },
  {
   "cell_type": "code",
   "execution_count": 44,
   "metadata": {},
   "outputs": [
    {
     "data": {
      "text/plain": [
       "array([0, 3, 4, 2, 1])"
      ]
     },
     "execution_count": 44,
     "metadata": {},
     "output_type": "execute_result"
    }
   ],
   "source": [
    "from random import shuffle\n",
    "import numpy as np\n",
    "a = np.arange(5)\n",
    "shuffle(a)\n",
    "a"
   ]
  },
  {
   "cell_type": "code",
   "execution_count": 9,
   "metadata": {},
   "outputs": [
    {
     "name": "stdout",
     "output_type": "stream",
     "text": [
      "['Hefeweizen' 'English Strong Ale' 'Foreign / Export Stout'\n",
      " 'German Pilsener' 'American Double / Imperial IPA' 'Herbed / Spiced Beer'\n",
      " 'Oatmeal Stout' 'American Pale Lager' 'Rauchbier'\n",
      " 'American Pale Ale (APA)' 'American Porter' 'Belgian Strong Dark Ale'\n",
      " 'American Stout' 'Russian Imperial Stout' 'American Amber / Red Ale'\n",
      " 'American Strong Ale' 'Märzen / Oktoberfest' 'American Adjunct Lager'\n",
      " 'American Blonde Ale' 'American IPA' 'Fruit / Vegetable Beer'\n",
      " 'American Double / Imperial Stout' 'English Bitter' 'English Porter'\n",
      " 'Irish Dry Stout' 'American Barleywine' 'Belgian Strong Pale Ale'\n",
      " 'Doppelbock' 'Maibock / Helles Bock' 'Light Lager' 'Pumpkin Ale'\n",
      " 'Dortmunder / Export Lager' 'Euro Strong Lager' 'Euro Dark Lager'\n",
      " 'Low Alcohol Beer' 'Euro Pale Lager' 'Bock'\n",
      " 'English India Pale Ale (IPA)' 'Altbier' 'Kölsch' 'Munich Dunkel Lager'\n",
      " 'Rye Beer' 'American Pale Wheat Ale' 'Milk / Sweet Stout' 'Schwarzbier'\n",
      " 'Vienna Lager' 'American Amber / Red Lager' 'Scottish Ale' 'Witbier'\n",
      " 'Saison / Farmhouse Ale' 'English Brown Ale' 'American Black Ale'\n",
      " 'English Barleywine' 'English Dark Mild Ale'\n",
      " 'Extra Special / Strong Bitter (ESB)' 'California Common / Steam Beer'\n",
      " 'Scotch Ale / Wee Heavy' 'English Pale Ale' 'Belgian IPA'\n",
      " 'Belgian Pale Ale' 'Tripel' 'Flanders Oud Bruin' 'Czech Pilsener'\n",
      " 'American Brown Ale' 'Smoked Beer' 'Flanders Red Ale' 'Dunkelweizen'\n",
      " 'Dubbel' 'Roggenbier' 'Keller Bier / Zwickel Bier' 'Belgian Dark Ale'\n",
      " 'Winter Warmer' 'Bière de Garde' 'Japanese Rice Lager' 'Black & Tan'\n",
      " 'Irish Red Ale' 'Chile Beer' 'English Stout' 'Cream Ale'\n",
      " 'American Wild Ale' 'Weizenbock' 'American Double / Imperial Pilsner'\n",
      " 'Scottish Gruit / Ancient Herbed Ale' 'Wheatwine'\n",
      " 'American Dark Wheat Ale' 'American Malt Liquor' 'Baltic Porter'\n",
      " 'Munich Helles Lager' 'Kristalweizen' 'English Pale Mild Ale'\n",
      " 'Lambic - Fruit' 'Old Ale' 'Quadrupel (Quad)' 'Braggot'\n",
      " 'Lambic - Unblended' 'Eisbock' 'Berliner Weissbier' 'Kvass' 'Faro'\n",
      " 'Gueuze' 'Gose' 'Happoshu' 'Sahti' 'Bière de Champagne / Bière Brut']\n",
      "104\n"
     ]
    }
   ],
   "source": [
    "styles = data['beer/style'].unique()\n",
    "print(styles)\n",
    "print(len(styles))"
   ]
  },
  {
   "cell_type": "code",
   "execution_count": 11,
   "metadata": {},
   "outputs": [
    {
     "name": "stdout",
     "output_type": "stream",
     "text": [
      "[1.5 3.  4.  3.5 4.5 5.  2.  2.5 1.  0. ]\n",
      "10\n"
     ]
    }
   ],
   "source": [
    "ratings = data['review/overall'].unique()\n",
    "print(ratings)\n",
    "print(len(ratings))"
   ]
  }
 ],
 "metadata": {
  "kernelspec": {
   "display_name": "Python 3",
   "language": "python",
   "name": "python3"
  },
  "language_info": {
   "codemirror_mode": {
    "name": "ipython",
    "version": 3
   },
   "file_extension": ".py",
   "mimetype": "text/x-python",
   "name": "python",
   "nbconvert_exporter": "python",
   "pygments_lexer": "ipython3",
   "version": "3.6.4"
  }
 },
 "nbformat": 4,
 "nbformat_minor": 2
}
