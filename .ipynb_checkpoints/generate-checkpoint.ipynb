{
 "cells": [
  {
   "cell_type": "code",
   "execution_count": 2,
   "metadata": {},
   "outputs": [],
   "source": [
    "import numpy as np\n",
    "import torch\n",
    "from models import *\n",
    "from main import *\n",
    "from configs import cfg\n",
    "\n",
    "training_data = np.load('/datasets/home/32/032/sugao/CSE190/pa4/train_subset.npy')"
   ]
  },
  {
   "cell_type": "code",
   "execution_count": null,
   "metadata": {},
   "outputs": [],
   "source": [
    "def insert_sos(data, device):\n",
    "    result = torch.zeros(len(data), 1, 204, dtype=torch.float, device=device)\n",
    "    for i in range(len(data)):\n",
    "        result[i, 0, data[i][0]] = 1\n",
    "        result[i, 0, 104] = data[i][1]\n",
    "        result[i, 0, 202] = 1\n",
    "    return result\n",
    "    "
   ]
  },
  {
   "cell_type": "code",
   "execution_count": null,
   "metadata": {},
   "outputs": [],
   "source": [
    "def generate(model, X_test, cfg):\n",
    "    carry = X_test\n",
    "    result = ''\n",
    "    model.reset_hidden()\n",
    "    for i in range(cfg['max_len']):\n",
    "        y = model(carry)\n",
    "        row = torch.exp(y[0, 0])\n",
    "        #row /= cfg['gen_temp']\n",
    "        row /= 0.01\n",
    "        row /= row.sum()\n",
    "        #row[97] = 0\n",
    "        val = torch.multinomial(row, 1).item()\n",
    "        \n",
    "        if val == 98:\n",
    "            break\n",
    "            \n",
    "        result += oh2char(val)\n",
    "        \n",
    "        carry[0, 0, 105:] = 0\n",
    "        carry[0, 0, 105 + val] = 1\n",
    "        \n",
    "    return result\n"
   ]
  },
  {
   "cell_type": "code",
   "execution_count": 3,
   "metadata": {},
   "outputs": [],
   "source": [
    "cfg['batch_size'] = 1\n",
    "cfg['device'] = 'cuda'\n",
    "model = load_model(BeerGruMind, 'models/e3b5000.pt', cfg)"
   ]
  },
  {
   "cell_type": "code",
   "execution_count": null,
   "metadata": {},
   "outputs": [],
   "source": [
    "valid_indices = np.load('./val.npy')"
   ]
  },
  {
   "cell_type": "code",
   "execution_count": null,
   "metadata": {},
   "outputs": [],
   "source": [
    "data = training_data[valid_indices]\n",
    "start = insert_sos(data, device)\n",
    "for i in range(len(start)):\n",
    "    txt = generate(model, start[i].view(1, 1, -1), cfg)\n",
    "    print(txt)\n",
    "    print('++++++++')"
   ]
  },
  {
   "cell_type": "code",
   "execution_count": null,
   "metadata": {},
   "outputs": [],
   "source": []
  }
 ],
 "metadata": {
  "kernelspec": {
   "display_name": "Python 3",
   "language": "python",
   "name": "python3"
  },
  "language_info": {
   "codemirror_mode": {
    "name": "ipython",
    "version": 3
   },
   "file_extension": ".py",
   "mimetype": "text/x-python",
   "name": "python",
   "nbconvert_exporter": "python",
   "pygments_lexer": "ipython3",
   "version": "3.6.4"
  }
 },
 "nbformat": 4,
 "nbformat_minor": 2
}
