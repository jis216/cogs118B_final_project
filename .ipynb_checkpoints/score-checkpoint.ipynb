{
 "cells": [
  {
   "cell_type": "code",
   "execution_count": 1,
   "metadata": {},
   "outputs": [],
   "source": [
    "import numpy as np\n",
    "import torch\n",
    "from models import *\n",
    "from main import *\n",
    "from configs import cfg\n",
    "from nltk.translate import bleu_score as bs"
   ]
  },
  {
   "cell_type": "code",
   "execution_count": 2,
   "metadata": {},
   "outputs": [],
   "source": [
    "cfg['hidden_dim'] = 128 # hidden dimension for LSTM\n",
    "cfg['layers'] = 2 # number of layers of LSTM\n",
    "cfg['dropout'] = 0.01 # dropout rate between two layers of LSTM; useful only when layers > 1; between 0 and 1\n",
    "cfg['bidirectional'] = False # True or False; True means using a bidirectional LSTM\n",
    "cfg['batch_size'] = 100 # batch size of input\n",
    "cfg['learning_rate'] = 5e-5 # learning rate to be used\n",
    "cfg['L2_penalty'] = 1e-5 # weighting constant for L2 regularization term; this is a parameter when you define optimizer\n",
    "cfg['epochs'] = 5 # number of epochs for which the model is trained\n",
    "cfg['train_split'] = 0.8\n",
    "cfg['model_type'] = 'gru'\n",
    "cfg['device'] = 'cuda'\n",
    "cfg['gen_temp'] = 0.01"
   ]
  },
  {
   "cell_type": "code",
   "execution_count": 3,
   "metadata": {},
   "outputs": [],
   "source": [
    "cfg['batch_size'] = 1\n",
    "cfg['device'] = 'cuda'\n",
    "model = load_model(BeerGruMind, 'models/5-5_1-5/e4_c5500_ls0.374', cfg)"
   ]
  },
  {
   "cell_type": "markdown",
   "metadata": {},
   "source": [
    "## Test score"
   ]
  },
  {
   "cell_type": "code",
   "execution_count": 4,
   "metadata": {},
   "outputs": [],
   "source": [
    "test_data = np.load('/datasets/home/32/032/sugao/CSE190/pa4/test.npy')"
   ]
  },
  {
   "cell_type": "code",
   "execution_count": 5,
   "metadata": {},
   "outputs": [],
   "source": [
    "df = load_data('/datasets/cs190f-public/Beeradvocate_TestOriginal.csv')\n",
    "df.dropna(subset=['review/text'],how='any',inplace = True)"
   ]
  },
  {
   "cell_type": "code",
   "execution_count": 38,
   "metadata": {
    "scrolled": false
   },
   "outputs": [
    {
     "name": "stderr",
     "output_type": "stream",
     "text": [
      "/opt/conda/lib/python3.6/site-packages/nltk/translate/bleu_score.py:490: UserWarning: \n",
      "Corpus/Sentence contains 0 counts of 2-gram overlaps.\n",
      "BLEU scores might be undesirable; use SmoothingFunction().\n",
      "  warnings.warn(_msg)\n",
      "/opt/conda/lib/python3.6/site-packages/nltk/translate/bleu_score.py:490: UserWarning: \n",
      "Corpus/Sentence contains 0 counts of 3-gram overlaps.\n",
      "BLEU scores might be undesirable; use SmoothingFunction().\n",
      "  warnings.warn(_msg)\n"
     ]
    },
    {
     "name": "stdout",
     "output_type": "stream",
     "text": [
      "done\n"
     ]
    }
   ],
   "source": [
    "scores = []\n",
    "for i_batch in range(0,len(test_data),10):\n",
    "    all_txt = generate(model, test_data[i_batch:i_batch+10], cfg, False)\n",
    "    #print(all_txt[0])\n",
    "    #print()\n",
    "    score = calc_score(df,np.arange(i_batch,i_batch+10),all_txt)\n",
    "                       #,smooth = bs.SmoothingFunction().method7)\n",
    "    del all_txt\n",
    "    scores.append(score)\n",
    "    \n",
    "    if len(scores) == 50:\n",
    "        print('done')\n",
    "        break"
   ]
  },
  {
   "cell_type": "code",
   "execution_count": 39,
   "metadata": {},
   "outputs": [
    {
     "data": {
      "text/plain": [
       "0.3929204745425994"
      ]
     },
     "execution_count": 39,
     "metadata": {},
     "output_type": "execute_result"
    }
   ],
   "source": [
    "np.mean(scores)"
   ]
  },
  {
   "cell_type": "markdown",
   "metadata": {},
   "source": [
    "## Validation score"
   ]
  },
  {
   "cell_type": "code",
   "execution_count": null,
   "metadata": {},
   "outputs": [],
   "source": [
    "training_data = np.load('/datasets/home/32/032/sugao/CSE190/pa4/train.npy')"
   ]
  },
  {
   "cell_type": "code",
   "execution_count": null,
   "metadata": {},
   "outputs": [],
   "source": [
    "valid_indices = np.load('./val.npy')"
   ]
  },
  {
   "cell_type": "code",
   "execution_count": null,
   "metadata": {},
   "outputs": [],
   "source": [
    "#df = pd.read_csv('/datasets/cs190f-public/BeerAdvocateDataset/BeerAdvocate_Train.csv')\n",
    "#df.dropna(subset=['review/text'],how='any',inplace = True)"
   ]
  },
  {
   "cell_type": "code",
   "execution_count": null,
   "metadata": {},
   "outputs": [],
   "source": [
    "scores = []\n",
    "for i_batch in range(0,len(valid_indices),1000):\n",
    "    all_txt = generate(model, training_data[valid_indices[i_batch:i_batch+1000]], cfg)\n",
    "    score = calc_score(df,valid_indices[i_batch:i_batch+1000],all_txt)\n",
    "    del all_txt\n",
    "    scores.append(score)\n"
   ]
  }
 ],
 "metadata": {
  "kernelspec": {
   "display_name": "Python 3",
   "language": "python",
   "name": "python3"
  },
  "language_info": {
   "codemirror_mode": {
    "name": "ipython",
    "version": 3
   },
   "file_extension": ".py",
   "mimetype": "text/x-python",
   "name": "python",
   "nbconvert_exporter": "python",
   "pygments_lexer": "ipython3",
   "version": "3.6.4"
  }
 },
 "nbformat": 4,
 "nbformat_minor": 2
}
