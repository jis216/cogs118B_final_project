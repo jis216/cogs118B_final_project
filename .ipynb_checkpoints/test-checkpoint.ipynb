{
 "cells": [
  {
   "cell_type": "code",
   "execution_count": 3,
   "metadata": {},
   "outputs": [],
   "source": [
    "import torch\n",
    "import numpy as np"
   ]
  },
  {
   "cell_type": "code",
   "execution_count": 4,
   "metadata": {},
   "outputs": [],
   "source": [
    "def get_next():\n",
    "    # get and delete last batch_size of indices\n",
    "    batch_index = self.rest[-self.batch_size:]\n",
    "    del self.rest[-self.batch_size:]\n",
    "\n",
    "    batch = []\n",
    "\n",
    "    # find the longest sequence in this batch\n",
    "    seq = 0\n",
    "\n",
    "    lengths = []\n",
    "    styles = []\n",
    "    ratings = []\n",
    "    char_codes = [202]\n",
    "    \n",
    "    for index in batch_index:\n",
    "        row = self.data.iloc[index]\n",
    "        \n",
    "        l = len(row[2:])\n",
    "        if l > seq:\n",
    "            seq = l\n",
    "        lengths.append(l)\n",
    "        styles.append(row[0])\n",
    "        ratings.append(row[1])\n",
    "        char_codes.append(row[2:])\n",
    "        \n",
    "        batch.append(row)\n",
    "        \n",
    "    seq = seq + 2\n",
    "    \n",
    "    char_codes = np.array(char_codes)\n",
    "    lengths = np.array(lengths)\n",
    "    \n",
    "    train = torch.zeros(self.batch_size, seq, 204, dtype=torch.float)\n",
    "    label = torch.zeros(self.batch_size, seq, dtype=torch.long)\n",
    "\n",
    "    padding_offset = -(seq - 1 - lengths)\n",
    "    n_indices = np.arange(self.batch_size)\n",
    "    train[n_indices,:,styles] = 1\n",
    "    train[n_indices, :, 104] = ratings\n",
    "    \n",
    "    train[n_indices, np.arange(len(row['review/text'])+1), char_codes+105] = 1 \n",
    "    label[n_indices, np.arange(len(row['review/text'])+1)] = char_codes\n",
    "\n",
    "    train[n_indices, padding_offset:, 203] = 1  # pad EOS\n",
    "    label[n_indices, padding_offset:] = 98\n",
    "\n",
    "    return train, label"
   ]
  },
  {
   "cell_type": "code",
   "execution_count": 6,
   "metadata": {},
   "outputs": [],
   "source": [
    "a = [1,2,3,4]"
   ]
  },
  {
   "cell_type": "code",
   "execution_count": 8,
   "metadata": {},
   "outputs": [],
   "source": [
    "b = 7"
   ]
  },
  {
   "cell_type": "code",
   "execution_count": 10,
   "metadata": {},
   "outputs": [
    {
     "data": {
      "text/plain": [
       "array([-5, -4, -3, -2])"
      ]
     },
     "execution_count": 10,
     "metadata": {},
     "output_type": "execute_result"
    }
   ],
   "source": [
    "-(7-1-np.array(a))"
   ]
  },
  {
   "cell_type": "code",
   "execution_count": null,
   "metadata": {},
   "outputs": [],
   "source": []
  }
 ],
 "metadata": {
  "kernelspec": {
   "display_name": "Python 3",
   "language": "python",
   "name": "python3"
  },
  "language_info": {
   "codemirror_mode": {
    "name": "ipython",
    "version": 3
   },
   "file_extension": ".py",
   "mimetype": "text/x-python",
   "name": "python",
   "nbconvert_exporter": "python",
   "pygments_lexer": "ipython3",
   "version": "3.6.4"
  }
 },
 "nbformat": 4,
 "nbformat_minor": 2
}
