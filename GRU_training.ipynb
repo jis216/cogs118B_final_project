{
 "cells": [
  {
   "cell_type": "code",
   "execution_count": 1,
   "metadata": {},
   "outputs": [],
   "source": [
    "import numpy as np\n",
    "from dataloader import *\n",
    "from models import *\n",
    "from configs import cfg\n",
    "from torch.nn.functional import softmax\n",
    "from nltk.translate import bleu_score\n",
    "import time"
   ]
  },
  {
   "cell_type": "code",
   "execution_count": 2,
   "metadata": {},
   "outputs": [],
   "source": [
    "cfg['hidden_dim'] = 128 # hidden dimension for LSTM\n",
    "cfg['layers'] = 2 # number of layers of LSTM\n",
    "cfg['dropout'] = 0.01 # dropout rate between two layers of LSTM; useful only when layers > 1; between 0 and 1\n",
    "cfg['bidirectional'] = False # True or False; True means using a bidirectional LSTM\n",
    "cfg['batch_size'] = 100 # batch size of input\n",
    "cfg['learning_rate'] = 5e-5 # learning rate to be used\n",
    "cfg['L2_penalty'] = 1e-5 # weighting constant for L2 regularization term; this is a parameter when you define optimizer\n",
    "cfg['epochs'] = 5 # number of epochs for which the model is trained\n",
    "cfg['train_split'] = 0.8\n",
    "cfg['model_type'] = 'gru'\n",
    "cfg['device'] = 'cuda'"
   ]
  },
  {
   "cell_type": "code",
   "execution_count": 3,
   "metadata": {},
   "outputs": [],
   "source": [
    "training_data = np.load('/datasets/home/32/032/sugao/CSE190/pa4/train.npy')"
   ]
  },
  {
   "cell_type": "code",
   "execution_count": 4,
   "metadata": {},
   "outputs": [
    {
     "name": "stdout",
     "output_type": "stream",
     "text": [
      "ready\n"
     ]
    }
   ],
   "source": [
    "models_dir = './models/5-5_1-5/'\n",
    "val_dir = models_dir + 'val.npy'\n",
    "\n",
    "device = torch.device('cuda')\n",
    "model = BeerGruMind(cfg, True)\n",
    "model = model.to(device)\n",
    "criterion = nn.CrossEntropyLoss()\n",
    "optimizer = torch.optim.RMSprop(model.parameters(), lr=cfg['learning_rate'], weight_decay=cfg['L2_penalty'])\n",
    "train_indices, valid_indices = train_valid_split(len(training_data), cfg['train_split'])\n",
    "np.save(val_dir, np.array(valid_indices))\n",
    "print('ready')"
   ]
  },
  {
   "cell_type": "code",
   "execution_count": null,
   "metadata": {
    "scrolled": false
   },
   "outputs": [
    {
     "name": "stdout",
     "output_type": "stream",
     "text": [
      "count = 500, training loss = 1.41242\n",
      "count = 1000, training loss = 0.99226\n",
      "count = 1500, training loss = 0.94010\n",
      "count = 2000, training loss = 0.86639\n",
      "count = 2500, training loss = 0.78229\n",
      "count = 3000, training loss = 0.74915\n",
      "count = 3500, training loss = 0.71428\n",
      "count = 4000, training loss = 0.67512\n",
      "count = 4500, training loss = 0.65873\n",
      "count = 5000, training loss = 0.62687\n"
     ]
    }
   ],
   "source": [
    "train_losses = []\n",
    "valid_losses = []\n",
    "for epoch in range(cfg['epochs']):\n",
    "    tloader = DataLoader(training_data, train_indices, cfg)\n",
    "    vloader = DataLoader(training_data, valid_indices, cfg)\n",
    "\n",
    "    count = 0\n",
    "    avg_loss = 0\n",
    "    losss = []\n",
    "    while tloader.has_next():\n",
    "        train, label = tloader.get_next()\n",
    "\n",
    "        model.zero_grad()\n",
    "        \n",
    "        y = model(train)\n",
    "\n",
    "        y = y.permute(0, 2, 1)\n",
    "\n",
    "        loss = criterion(y, label)\n",
    "        loss.backward()\n",
    "        optimizer.step()\n",
    "\n",
    "        count += 1\n",
    "        avg_loss += loss.item()\n",
    "        if count % 500 == 0:\n",
    "            print(\"count = %d, training loss = %.5f\" %(count, avg_loss / 500) )\n",
    "            save_model(model, models_dir + 'e%d_c%d_ls%.3f' % (epoch, count, avg_loss/500))\n",
    "            losss.append(avg_loss)\n",
    "            avg_loss = 0\n",
    "    train_losses.append(losss)\n",
    "    \n",
    "    count = 0\n",
    "    avg_loss = 0\n",
    "    with torch.no_grad():\n",
    "        while vloader.has_next():\n",
    "            train, label = vloader.get_next()\n",
    "            y = model(train)\n",
    "            y = y.permute(0, 2, 1)\n",
    "            loss = criterion(y, label)\n",
    "            count += 1\n",
    "            avg_loss += loss.item()\n",
    "    print('validation loss:', avg_loss / count)\n",
    "    print('epoch finished:', epoch + 1)\n",
    "    valid_losses.append(avg_loss/count)\n",
    "\n",
    "np.save(models+'val_loss.npy', np.array(valid_losses))\n",
    "np.save(models+'train_loss.npy', np.array(train_losses))"
   ]
  },
  {
   "cell_type": "code",
   "execution_count": null,
   "metadata": {},
   "outputs": [],
   "source": []
  }
 ],
 "metadata": {
  "kernelspec": {
   "display_name": "Python 3",
   "language": "python",
   "name": "python3"
  },
  "language_info": {
   "codemirror_mode": {
    "name": "ipython",
    "version": 3
   },
   "file_extension": ".py",
   "mimetype": "text/x-python",
   "name": "python",
   "nbconvert_exporter": "python",
   "pygments_lexer": "ipython3",
   "version": "3.6.4"
  }
 },
 "nbformat": 4,
 "nbformat_minor": 2
}
