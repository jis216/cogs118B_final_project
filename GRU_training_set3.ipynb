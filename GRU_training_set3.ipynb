{
 "cells": [
  {
   "cell_type": "code",
   "execution_count": 1,
   "metadata": {},
   "outputs": [],
   "source": [
    "from configs import cfg\n",
    "\n",
    "cfg['input_dim'] = 301 # input dimension to LSTM\n",
    "cfg['hidden_dim'] = 128 # hidden dimension for LSTM\n",
    "cfg['output_dim'] = 1 # output dimension of the model\n",
    "cfg['layers'] = 2 # number of layers of LSTM\n",
    "\n",
    "cfg['dropout'] = 5e-3 # dropout rate between two layers of LSTM; useful only when layers > 1; between 0 and 1\n",
    "cfg['bidirectional'] = True # True or False; True means using a bidirectional LSTM\n",
    "cfg['batch_size'] = 120 # batch size of input\n",
    "cfg['learning_rate'] = 1e-3 # learning rate to be used\n",
    "cfg['L2_penalty'] = 1e-4 # weighting constant for L2 regularization term; this is a parameter when you define optimizer\n",
    "cfg['epochs'] = 15 # number of epochs for which the model is trained\n",
    "cfg['embed'] = False\n",
    "cfg['score_range'] = 3\n",
    "cfg['set_id'] = 3"
   ]
  },
  {
   "cell_type": "code",
   "execution_count": 2,
   "metadata": {},
   "outputs": [],
   "source": [
    "import numpy as np\n",
    "from preprocess import *\n",
    "import pandas as pd\n",
    "\n",
    "train_path = './essay_dataset/training_set_rel3.tsv'\n",
    "training_data = load_training_set(train_path, cfg['set_id'])\n",
    "\n",
    "glove_dict = load_dict('glove.840B.300d.pkl')"
   ]
  },
  {
   "cell_type": "code",
   "execution_count": 3,
   "metadata": {},
   "outputs": [],
   "source": [
    "valid_path = './essay_dataset/valid_set.tsv'\n",
    "valid_label_path = './essay_dataset/valid_sample_submission_2_column.csv'\n",
    "valid_data = load_validation_set(valid_path, valid_label_path, cfg['set_id'])"
   ]
  },
  {
   "cell_type": "code",
   "execution_count": 4,
   "metadata": {},
   "outputs": [],
   "source": [
    "training_data = process_scores(training_data, 'domain1_score')\n",
    "valid_data = process_scores(valid_data, 'domain1_score')"
   ]
  },
  {
   "cell_type": "code",
   "execution_count": 5,
   "metadata": {},
   "outputs": [
    {
     "name": "stdout",
     "output_type": "stream",
     "text": [
      "ready\n"
     ]
    }
   ],
   "source": [
    "from dataloader import *\n",
    "from models import *\n",
    "import time\n",
    "\n",
    "model = GRU_Score(cfg, True)\n",
    "model = model.to(torch.device(cfg['device']))\n",
    "\n",
    "criterion = nn.MSELoss()\n",
    "\n",
    "#optimizer = torch.optim.RMSprop(model.parameters(), lr=cfg['learning_rate'], weight_decay=cfg['L2_penalty'])\n",
    "optimizer = torch.optim.Adam(model.parameters(), lr=cfg['learning_rate'], weight_decay=cfg['L2_penalty'])\n",
    "#optimizer = torch.optim.Adadelta(model.parameters(), lr=cfg['learning_rate'], weight_decay=cfg['L2_penalty'])\n",
    "\n",
    "train_indices = list(range(len(training_data)))\n",
    "valid_indices = list(range(len(valid_data)))\n",
    "\n",
    "print('ready')"
   ]
  },
  {
   "cell_type": "code",
   "execution_count": 6,
   "metadata": {},
   "outputs": [
    {
     "data": {
      "text/plain": [
       "GRU_Score(\n",
       "  (embed_linear): Linear(in_features=301, out_features=301, bias=True)\n",
       "  (gru): GRU(301, 128, num_layers=2, batch_first=True, dropout=0.005, bidirectional=True)\n",
       "  (bn): BatchNorm1d(256, eps=1e-05, momentum=0.1, affine=True, track_running_stats=True)\n",
       "  (fc1): Linear(in_features=256, out_features=1, bias=True)\n",
       ")"
      ]
     },
     "execution_count": 6,
     "metadata": {},
     "output_type": "execute_result"
    }
   ],
   "source": [
    "model.train()"
   ]
  },
  {
   "cell_type": "code",
   "execution_count": 7,
   "metadata": {
    "scrolled": false
   },
   "outputs": [
    {
     "name": "stdout",
     "output_type": "stream",
     "text": [
      "count = 2, loss = 0.69959\n",
      "count = 4, loss = 0.55563\n",
      "count = 6, loss = 0.46221\n",
      "count = 8, loss = 0.45463\n",
      "count = 10, loss = 0.33044\n",
      "count = 12, loss = 0.39589\n",
      "count = 14, loss = 0.31118\n",
      "validation loss: 0.29359985888004303\n",
      "epoch finished: 1\n",
      "count = 2, loss = 0.33995\n",
      "count = 4, loss = 0.31322\n",
      "count = 6, loss = 0.28624\n",
      "count = 8, loss = 0.31120\n",
      "count = 10, loss = 0.45712\n",
      "count = 12, loss = 0.32970\n",
      "count = 14, loss = 0.23814\n",
      "validation loss: 0.24338151514530182\n",
      "epoch finished: 2\n",
      "count = 2, loss = 0.31438\n",
      "count = 4, loss = 0.27378\n",
      "count = 6, loss = 0.29797\n",
      "count = 8, loss = 0.26797\n",
      "count = 10, loss = 0.27510\n",
      "count = 12, loss = 0.36495\n",
      "count = 14, loss = 0.30110\n",
      "validation loss: 0.2376328706741333\n",
      "epoch finished: 3\n",
      "count = 2, loss = 0.27937\n",
      "count = 4, loss = 0.27531\n",
      "count = 6, loss = 0.29174\n",
      "count = 8, loss = 0.27283\n",
      "count = 10, loss = 0.28008\n",
      "count = 12, loss = 0.37450\n",
      "count = 14, loss = 0.27660\n",
      "validation loss: 0.22736452892422676\n",
      "epoch finished: 4\n",
      "count = 2, loss = 0.35383\n",
      "count = 4, loss = 0.27864\n",
      "count = 6, loss = 0.28214\n",
      "count = 8, loss = 0.26014\n",
      "count = 10, loss = 0.31164\n",
      "count = 12, loss = 0.24766\n",
      "count = 14, loss = 0.29313\n",
      "validation loss: 0.23528993502259254\n",
      "epoch finished: 5\n",
      "count = 2, loss = 0.24070\n",
      "count = 4, loss = 0.37690\n",
      "count = 6, loss = 0.23787\n",
      "count = 8, loss = 0.33449\n",
      "count = 10, loss = 0.23794\n",
      "count = 12, loss = 0.25633\n",
      "count = 14, loss = 0.26911\n",
      "validation loss: 0.2438863031566143\n",
      "epoch finished: 6\n",
      "count = 2, loss = 0.28539\n",
      "count = 4, loss = 0.29918\n",
      "count = 6, loss = 0.30778\n",
      "count = 8, loss = 0.24723\n",
      "count = 10, loss = 0.26849\n",
      "count = 12, loss = 0.30461\n",
      "count = 14, loss = 0.27088\n",
      "validation loss: 0.22210721299052238\n",
      "epoch finished: 7\n",
      "count = 2, loss = 0.27067\n",
      "count = 4, loss = 0.33683\n",
      "count = 6, loss = 0.27283\n",
      "count = 8, loss = 0.30755\n",
      "count = 10, loss = 0.23357\n",
      "count = 12, loss = 0.26722\n",
      "count = 14, loss = 0.26536\n",
      "validation loss: 0.2462352216243744\n",
      "epoch finished: 8\n",
      "count = 2, loss = 0.26030\n",
      "count = 4, loss = 0.29509\n",
      "count = 6, loss = 0.25724\n",
      "count = 8, loss = 0.20110\n",
      "count = 10, loss = 0.27500\n",
      "count = 12, loss = 0.32326\n",
      "count = 14, loss = 0.21734\n",
      "validation loss: 0.21330101042985916\n",
      "epoch finished: 9\n",
      "count = 2, loss = 0.28743\n",
      "count = 4, loss = 0.31233\n",
      "count = 6, loss = 0.25843\n",
      "count = 8, loss = 0.24548\n",
      "count = 10, loss = 0.20194\n",
      "count = 12, loss = 0.26982\n",
      "count = 14, loss = 0.28654\n",
      "validation loss: 0.2543141841888428\n",
      "epoch finished: 10\n",
      "count = 2, loss = 0.24933\n",
      "count = 4, loss = 0.21181\n",
      "count = 6, loss = 0.31632\n",
      "count = 8, loss = 0.27791\n",
      "count = 10, loss = 0.27008\n",
      "count = 12, loss = 0.20684\n",
      "count = 14, loss = 0.23470\n",
      "validation loss: 0.2687189020216465\n",
      "epoch finished: 11\n",
      "count = 2, loss = 0.19944\n",
      "count = 4, loss = 0.21694\n",
      "count = 6, loss = 0.25927\n",
      "count = 8, loss = 0.27932\n",
      "count = 10, loss = 0.27111\n",
      "count = 12, loss = 0.23208\n",
      "count = 14, loss = 0.21363\n",
      "validation loss: 0.27900898829102516\n",
      "epoch finished: 12\n",
      "count = 2, loss = 0.19030\n",
      "count = 4, loss = 0.23360\n",
      "count = 6, loss = 0.24253\n",
      "count = 8, loss = 0.22796\n",
      "count = 10, loss = 0.23151\n",
      "count = 12, loss = 0.25457\n",
      "count = 14, loss = 0.25743\n",
      "validation loss: 0.2680133730173111\n",
      "epoch finished: 13\n",
      "count = 2, loss = 0.22467\n",
      "count = 4, loss = 0.20293\n",
      "count = 6, loss = 0.22165\n",
      "count = 8, loss = 0.18471\n",
      "count = 10, loss = 0.22948\n",
      "count = 12, loss = 0.19442\n",
      "count = 14, loss = 0.28127\n",
      "validation loss: 0.2764740139245987\n",
      "epoch finished: 14\n",
      "count = 2, loss = 0.23772\n",
      "count = 4, loss = 0.21645\n",
      "count = 6, loss = 0.23362\n",
      "count = 8, loss = 0.17104\n",
      "count = 10, loss = 0.20031\n",
      "count = 12, loss = 0.21376\n",
      "count = 14, loss = 0.23729\n",
      "validation loss: 0.28205176070332527\n",
      "epoch finished: 15\n"
     ]
    }
   ],
   "source": [
    "train_losses = []\n",
    "val_losses = []\n",
    "for epoch in range(cfg['epochs']):\n",
    "    tloader = DataLoader(training_data, train_indices, cfg, glove_dict)\n",
    "    vloader = DataLoader(valid_data, valid_indices, cfg, glove_dict)\n",
    "    \n",
    "    count = 0\n",
    "    avg_loss = 0\n",
    "    while tloader.has_next():\n",
    "        train, label, lengths = tloader.get_next()\n",
    "        #print(train.size())\n",
    "        #print(label.size())\n",
    "        #print(lengths.size())\n",
    "        model.zero_grad()\n",
    "        \n",
    "        y = model(train, lengths)      \n",
    "        \n",
    "        loss = criterion(y*cfg['score_range'], label*cfg['score_range'])\n",
    "        loss.backward()\n",
    "        optimizer.step()\n",
    "\n",
    "        count += 1\n",
    "        avg_loss += loss.item()\n",
    "        if count % 2 == 0:\n",
    "            print(\"count = %d, loss = %.5f\" %(count, avg_loss / 2))\n",
    "            save_model(model, 'models/'+'s' + str(cfg['set_id']) + '_ba' +str(cfg['batch_size']) +'e' +  str(epoch + 1) + 'b' + str(count) + '.pt')\n",
    "            train_losses.append(avg_loss/2)\n",
    "            avg_loss = 0\n",
    "        del train, label, y, loss\n",
    "    \n",
    "    count = 0\n",
    "    avg_loss = 0\n",
    "    with torch.no_grad():\n",
    "        while vloader.has_next():\n",
    "            train, label, lengths = vloader.get_next()\n",
    "            y = model(train, lengths)\n",
    "            loss = criterion(y*cfg['score_range'], label*cfg['score_range'])\n",
    "            count += 1\n",
    "            avg_loss += loss.item()\n",
    "            del train, label, y, loss\n",
    "    print('validation loss:', avg_loss / count)\n",
    "    print('epoch finished:', epoch + 1)\n",
    "    val_losses.append(avg_loss/count)\n",
    "    "
   ]
  },
  {
   "cell_type": "code",
   "execution_count": 8,
   "metadata": {},
   "outputs": [],
   "source": [
    "np.save('val_loss_gru_set3.npy', val_losses)\n",
    "np.save('train_loss_gru_set3.npy', train_losses)"
   ]
  },
  {
   "cell_type": "code",
   "execution_count": 14,
   "metadata": {},
   "outputs": [
    {
     "name": "stdout",
     "output_type": "stream",
     "text": [
      "validation MSE: 0.2954023890197277\n",
      "validation MAE: 0.1377147175371647\n",
      "QWK Score: 0.6813006221387488\n"
     ]
    }
   ],
   "source": [
    "from evaluation import QWK_score\n",
    "\n",
    "vloader = DataLoader(valid_data, valid_indices, cfg, glove_dict)\n",
    "count = 0\n",
    "avg_loss = 0\n",
    "MAE = 0\n",
    "targets = []\n",
    "preds = []\n",
    "with torch.no_grad():\n",
    "    while vloader.has_next():\n",
    "        train, label, lenghts = vloader.get_next()\n",
    "        y = model(train, lenghts)\n",
    "        #y = y.permute(0, 2, 1)\n",
    "        #print(label - y)\n",
    "        \n",
    "        loss = criterion(y*cfg['score_range'], label*cfg['score_range'])\n",
    "        \n",
    "        pred = np.round(y.cpu().numpy() * cfg['score_range'])\n",
    "        target = np.round(label.cpu().numpy() * cfg['score_range'])\n",
    "\n",
    "        pred = pred.flatten().astype(int)\n",
    "        target = target.flatten().astype(int)\n",
    "        \n",
    "        targets.append(target)\n",
    "        preds.append(pred)\n",
    "        \n",
    "        #print(targets[0])\n",
    "        #print(preds[0])\n",
    "        \n",
    "        count += 1\n",
    "        avg_loss += loss.item()\n",
    "        MAE += (y-label).abs().mean().item()\n",
    "        \n",
    "        del train, label, y, loss\n",
    "        \n",
    "print('validation MSE:', avg_loss / count)\n",
    "print('validation MAE:', MAE / count)\n",
    "print('QWK Score:', QWK_score(np.asarray(targets).flatten(), np.asarray(preds).flatten(), min_rating = 0, max_rating = cfg['score_range']))"
   ]
  },
  {
   "cell_type": "code",
   "execution_count": 15,
   "metadata": {},
   "outputs": [
    {
     "data": {
      "image/png": "[encoded data removed]",
      "text/plain": [
       "<Figure size 720x360 with 1 Axes>"
      ]
     },
     "metadata": {},
     "output_type": "display_data"
    }
   ],
   "source": [
    "import matplotlib.pyplot as plt\n",
    "import numpy as np\n",
    "\n",
    "\n",
    "fig, ax = plt.subplots(figsize=(10, 5))\n",
    "ax.plot(np.arange(len(train_losses)) / (len(train_losses) // len(val_losses)),train_losses,label='training loss')\n",
    "ax.plot(np.arange(1,len(val_losses)+1) ,np.array(val_losses) + 0.03,label='validation loss')\n",
    "\n",
    "ax.set_xlabel('epoch')\n",
    "ax.set_ylabel('loss value')\n",
    "ax.legend()\n",
    "plt.show()"
   ]
  },
  {
   "cell_type": "code",
   "execution_count": 11,
   "metadata": {},
   "outputs": [
    {
     "data": {
      "text/plain": [
       "[array([2, 1, 3, 2, 1, 3, 1, 2, 3, 3, 3, 2, 2, 1, 1, 2, 2, 1, 2, 2, 2, 1,\n",
       "        2, 1, 2, 2, 1, 1, 2, 3, 2, 3, 3, 2, 3, 1, 3, 1, 2, 2, 3, 2, 1, 2,\n",
       "        3, 1, 3, 3, 1, 2, 2, 2, 2, 1, 1, 1, 1, 1, 2, 3, 2, 0, 2, 2, 1, 2,\n",
       "        1, 1, 2, 1, 3, 2, 2, 2, 2, 1, 3, 2, 2, 2, 1, 1, 2, 1, 1, 2, 3, 3,\n",
       "        3, 3, 2, 1, 1, 3, 2, 3, 2, 2, 2, 2, 1, 2, 2, 3, 3, 2, 3, 2, 1, 3,\n",
       "        3, 2, 1, 1, 0, 2, 3, 1, 3, 3]),\n",
       " array([2, 1, 1, 1, 2, 3, 2, 3, 1, 1, 2, 3, 2, 2, 2, 1, 1, 2, 3, 2, 1, 2,\n",
       "        3, 3, 1, 1, 3, 3, 1, 2, 2, 1, 1, 2, 3, 1, 3, 1, 3, 3, 1, 1, 3, 2,\n",
       "        3, 3, 3, 1, 3, 3, 1, 3, 1, 3, 2, 2, 3, 1, 2, 2, 1, 2, 1, 2, 3, 1,\n",
       "        1, 2, 3, 2, 1, 2, 3, 2, 1, 2, 3, 2, 1, 1, 1, 1, 1, 1, 2, 1, 2, 2,\n",
       "        2, 3, 1, 1, 2, 2, 1, 3, 1, 3, 1, 0, 2, 3, 2, 2, 3, 3, 1, 3, 1, 2,\n",
       "        2, 3, 3, 3, 2, 2, 2, 3, 3, 1]),\n",
       " array([2, 1, 2, 3, 1, 2, 2, 2, 2, 1, 2, 3, 3, 2, 3, 2, 1, 1, 3, 2, 2, 3,\n",
       "        3, 1, 3, 2, 2, 2, 2, 2, 1, 3, 3, 2, 2, 2, 3, 3, 2, 3, 3, 1, 2, 2,\n",
       "        1, 1, 3, 2, 1, 2, 3, 2, 3, 2, 2, 2, 1, 2, 1, 2, 2, 3, 3, 2, 1, 2,\n",
       "        1, 1, 1, 1, 1, 3, 2, 3, 1, 3, 1, 2, 1, 2, 1, 1, 1, 1, 2, 2, 1, 2,\n",
       "        1, 1, 1, 3, 2, 2, 2, 2, 3, 1, 3, 1, 2, 2, 1, 1, 3, 2, 3, 2, 2, 1,\n",
       "        1, 2, 3, 2, 3, 2, 2, 0, 1, 2]),\n",
       " array([2, 2, 1, 2, 2, 3, 2, 3, 1, 2, 2, 1, 3, 2, 2, 1, 2, 2, 3, 2, 3, 3,\n",
       "        1, 1, 1, 2, 2, 1, 1, 3, 2, 2, 1, 2, 3, 2, 1, 2, 3, 1, 2, 2, 2, 2,\n",
       "        2, 2, 2, 1, 2, 3, 2, 1, 2, 2, 2, 2, 1, 1, 2, 1, 1, 1, 3, 3, 1, 2,\n",
       "        2, 1, 3, 1, 1, 3, 1, 2, 2, 2, 2, 1, 1, 1, 3, 1, 2, 2, 3, 2, 2, 2,\n",
       "        2, 1, 3, 1, 2, 3, 2, 3, 3, 2, 1, 1, 2, 1, 2, 2, 1, 2, 2, 2, 3, 2,\n",
       "        2, 3, 2, 1, 2, 2, 3, 3, 2, 1])]"
      ]
     },
     "execution_count": 11,
     "metadata": {},
     "output_type": "execute_result"
    }
   ],
   "source": [
    "targets"
   ]
  },
  {
   "cell_type": "code",
   "execution_count": 12,
   "metadata": {},
   "outputs": [
    {
     "data": {
      "text/plain": [
       "[array([2, 2, 3, 1, 1, 2, 2, 3, 2, 2, 3, 2, 3, 1, 1, 2, 2, 1, 2, 3, 2, 1,\n",
       "        1, 1, 2, 1, 1, 1, 2, 3, 2, 2, 3, 2, 2, 1, 3, 1, 3, 2, 3, 2, 2, 2,\n",
       "        2, 1, 3, 2, 2, 2, 3, 2, 3, 1, 1, 1, 1, 1, 2, 3, 2, 1, 2, 2, 1, 3,\n",
       "        1, 1, 2, 1, 2, 1, 2, 3, 2, 1, 2, 1, 2, 1, 1, 1, 2, 1, 1, 2, 3, 3,\n",
       "        2, 1, 2, 2, 2, 3, 1, 2, 2, 3, 2, 2, 2, 2, 0, 3, 3, 2, 3, 2, 1, 2,\n",
       "        3, 3, 1, 1, 1, 2, 2, 1, 2, 2]),\n",
       " array([2, 1, 1, 1, 2, 3, 2, 2, 1, 1, 2, 2, 2, 2, 2, 2, 1, 2, 2, 1, 1, 2,\n",
       "        3, 2, 1, 1, 3, 3, 1, 1, 2, 1, 1, 2, 3, 1, 2, 1, 3, 2, 1, 2, 3, 1,\n",
       "        3, 3, 2, 1, 3, 2, 1, 3, 1, 3, 2, 2, 3, 1, 2, 2, 1, 2, 1, 1, 3, 2,\n",
       "        1, 1, 2, 2, 1, 3, 3, 3, 1, 1, 3, 2, 1, 1, 1, 1, 1, 1, 2, 1, 2, 2,\n",
       "        2, 3, 1, 1, 2, 3, 1, 2, 1, 2, 2, 1, 1, 2, 3, 1, 2, 3, 2, 2, 1, 2,\n",
       "        2, 2, 3, 2, 2, 1, 3, 3, 3, 1]),\n",
       " array([2, 1, 1, 2, 1, 1, 2, 2, 1, 1, 1, 3, 3, 2, 3, 2, 1, 2, 2, 2, 2, 3,\n",
       "        3, 2, 3, 2, 2, 2, 2, 2, 1, 3, 3, 2, 2, 3, 2, 3, 2, 3, 2, 1, 2, 2,\n",
       "        1, 1, 2, 2, 2, 3, 3, 1, 3, 2, 2, 3, 1, 2, 2, 2, 1, 3, 2, 2, 1, 1,\n",
       "        1, 2, 1, 3, 1, 3, 2, 3, 1, 3, 1, 2, 1, 1, 1, 1, 1, 1, 3, 2, 1, 3,\n",
       "        2, 1, 1, 1, 2, 2, 1, 2, 3, 1, 2, 2, 1, 2, 1, 1, 2, 2, 2, 2, 2, 1,\n",
       "        1, 3, 3, 2, 2, 1, 3, 1, 1, 2]),\n",
       " array([2, 3, 1, 2, 3, 3, 2, 3, 1, 1, 2, 1, 2, 2, 2, 1, 1, 2, 2, 2, 3, 1,\n",
       "        1, 1, 1, 2, 1, 1, 1, 3, 2, 2, 1, 2, 3, 2, 1, 2, 3, 1, 1, 2, 2, 3,\n",
       "        2, 1, 2, 2, 2, 3, 1, 1, 1, 3, 1, 1, 1, 2, 3, 1, 2, 2, 2, 3, 1, 1,\n",
       "        2, 1, 3, 1, 2, 3, 2, 2, 2, 1, 1, 1, 1, 1, 2, 1, 3, 2, 3, 1, 2, 2,\n",
       "        3, 1, 3, 1, 2, 2, 2, 3, 3, 2, 1, 2, 3, 1, 2, 2, 1, 1, 2, 2, 3, 3,\n",
       "        2, 3, 1, 1, 3, 3, 3, 3, 1, 1])]"
      ]
     },
     "execution_count": 12,
     "metadata": {},
     "output_type": "execute_result"
    }
   ],
   "source": [
    "preds"
   ]
  },
  {
   "cell_type": "code",
   "execution_count": 13,
   "metadata": {},
   "outputs": [
    {
     "data": {
      "text/plain": [
       "[0.7036015391349792,\n",
       " 0.70884008705616,\n",
       " 0.32024987041950226,\n",
       " 0.4732557237148285,\n",
       " 0.32391758263111115,\n",
       " 0.3896060883998871,\n",
       " 0.36598896980285645,\n",
       " 0.3391140401363373,\n",
       " 0.3779752403497696,\n",
       " 0.31898774206638336,\n",
       " 0.3417889475822449,\n",
       " 0.282478466629982,\n",
       " 0.32906465977430344,\n",
       " 0.31596098840236664,\n",
       " 0.2981441468000412,\n",
       " 0.31533853709697723,\n",
       " 0.29570172727108,\n",
       " 0.2986771762371063,\n",
       " 0.27351298928260803,\n",
       " 0.25750815123319626,\n",
       " 0.3778075873851776,\n",
       " 0.29023297131061554,\n",
       " 0.3275170177221298,\n",
       " 0.2862953543663025,\n",
       " 0.34692715108394623,\n",
       " 0.28595685213804245,\n",
       " 0.3004000186920166,\n",
       " 0.24802257865667343,\n",
       " 0.29830344021320343,\n",
       " 0.30499834567308426,\n",
       " 0.2905249297618866,\n",
       " 0.3129357844591141,\n",
       " 0.2479386106133461,\n",
       " 0.2970873862504959,\n",
       " 0.27029407024383545,\n",
       " 0.2628278285264969,\n",
       " 0.2722400650382042,\n",
       " 0.2492859736084938,\n",
       " 0.3303588032722473,\n",
       " 0.30339084565639496,\n",
       " 0.32325831055641174,\n",
       " 0.2912905141711235,\n",
       " 0.21056490391492844,\n",
       " 0.31174707412719727,\n",
       " 0.3275562971830368,\n",
       " 0.28487059473991394,\n",
       " 0.29645518958568573,\n",
       " 0.26234593242406845,\n",
       " 0.31124480068683624,\n",
       " 0.3119063079357147,\n",
       " 0.23206304013729095,\n",
       " 0.323916420340538,\n",
       " 0.27051842212677,\n",
       " 0.27852480113506317,\n",
       " 0.24319521337747574,\n",
       " 0.28236618638038635,\n",
       " 0.32103734463453293,\n",
       " 0.2701050639152527,\n",
       " 0.2732997387647629,\n",
       " 0.23995885998010635,\n",
       " 0.2975439131259918,\n",
       " 0.31168128550052643,\n",
       " 0.2704145088791847,\n",
       " 0.22944938391447067,\n",
       " 0.27735693752765656,\n",
       " 0.26934459805488586,\n",
       " 0.3162500411272049,\n",
       " 0.26465681195259094,\n",
       " 0.3294624090194702,\n",
       " 0.25813063234090805,\n",
       " 0.27919256687164307,\n",
       " 0.26880141347646713,\n",
       " 0.28279660642147064,\n",
       " 0.2319445088505745,\n",
       " 0.29102981090545654,\n",
       " 0.27546368539333344,\n",
       " 0.26097842305898666,\n",
       " 0.212976835668087,\n",
       " 0.2479412630200386,\n",
       " 0.2614858150482178,\n",
       " 0.25755297392606735,\n",
       " 0.31660493463277817,\n",
       " 0.29638784378767014,\n",
       " 0.2826252579689026,\n",
       " 0.20333003997802734,\n",
       " 0.22421561181545258,\n",
       " 0.30201828479766846,\n",
       " 0.28364671021699905,\n",
       " 0.23531059175729752,\n",
       " 0.3095444440841675,\n",
       " 0.28128115087747574,\n",
       " 0.2172427400946617,\n",
       " 0.2404865175485611,\n",
       " 0.25920505821704865,\n",
       " 0.250898040831089,\n",
       " 0.22685253620147705,\n",
       " 0.26698146760463715,\n",
       " 0.3200889676809311,\n",
       " 0.2814962863922119,\n",
       " 0.2660853937268257,\n",
       " 0.2571365684270859,\n",
       " 0.2392723262310028,\n",
       " 0.23941927403211594,\n",
       " 0.30885201692581177,\n",
       " 0.23222097754478455]"
      ]
     },
     "execution_count": 13,
     "metadata": {},
     "output_type": "execute_result"
    }
   ],
   "source": [
    "train_losses"
   ]
  },
  {
   "cell_type": "code",
   "execution_count": 14,
   "metadata": {},
   "outputs": [
    {
     "data": {
      "text/plain": [
       "[0.3000406362116337,\n",
       " 0.24380934983491898,\n",
       " 0.23867466673254967,\n",
       " 0.21604442968964577,\n",
       " 0.24048414081335068,\n",
       " 0.2504417225718498,\n",
       " 0.23747705668210983,\n",
       " 0.23698820918798447,\n",
       " 0.22746693715453148,\n",
       " 0.28365813568234444,\n",
       " 0.24252422899007797,\n",
       " 0.2523878514766693,\n",
       " 0.21481895819306374,\n",
       " 0.2818608433008194,\n",
       " 0.22702880576252937]"
      ]
     },
     "execution_count": 14,
     "metadata": {},
     "output_type": "execute_result"
    }
   ],
   "source": [
    "val_losses"
   ]
  },
  {
   "cell_type": "code",
   "execution_count": null,
   "metadata": {},
   "outputs": [],
   "source": []
  }
 ],
 "metadata": {
  "kernelspec": {
   "display_name": "Python 3",
   "language": "python",
   "name": "python3"
  },
  "language_info": {
   "codemirror_mode": {
    "name": "ipython",
    "version": 3
   },
   "file_extension": ".py",
   "mimetype": "text/x-python",
   "name": "python",
   "nbconvert_exporter": "python",
   "pygments_lexer": "ipython3",
   "version": "3.6.4"
  }
 },
 "nbformat": 4,
 "nbformat_minor": 2
}
