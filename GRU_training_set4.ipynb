{
 "cells": [
  {
   "cell_type": "code",
   "execution_count": 3,
   "metadata": {},
   "outputs": [],
   "source": [
    "from configs import cfg\n",
    "\n",
    "cfg['input_dim'] = 301 # input dimension to LSTM\n",
    "cfg['hidden_dim'] = 128 # hidden dimension for LSTM\n",
    "cfg['output_dim'] = 1 # output dimension of the model\n",
    "cfg['layers'] = 2 # number of layers of LSTM\n",
    "\n",
    "cfg['dropout'] = 5e-3 # dropout rate between two layers of LSTM; useful only when layers > 1; between 0 and 1\n",
    "cfg['bidirectional'] = True # True or False; True means using a bidirectional LSTM\n",
    "cfg['batch_size'] = 120 # batch size of input\n",
    "cfg['learning_rate'] = 1e-3 # learning rate to be used\n",
    "cfg['L2_penalty'] = 1e-4 # weighting constant for L2 regularization term; this is a parameter when you define optimizer\n",
    "cfg['epochs'] = 15 # number of epochs for which the model is trained\n",
    "cfg['embed'] = False\n",
    "cfg['score_range'] = 3\n",
    "cfg['set_id'] = 4"
   ]
  },
  {
   "cell_type": "code",
   "execution_count": 4,
   "metadata": {},
   "outputs": [],
   "source": [
    "import numpy as np\n",
    "from preprocess import *\n",
    "import pandas as pd\n",
    "\n",
    "train_path = './essay_dataset/training_set_rel3.tsv'\n",
    "training_data = load_training_set(train_path, cfg['set_id'])\n",
    "\n",
    "glove_dict = load_dict('glove.840B.300d.pkl')"
   ]
  },
  {
   "cell_type": "code",
   "execution_count": 5,
   "metadata": {},
   "outputs": [],
   "source": [
    "valid_path = './essay_dataset/valid_set.tsv'\n",
    "valid_label_path = './essay_dataset/valid_sample_submission_2_column.csv'\n",
    "valid_data = load_validation_set(valid_path, valid_label_path, cfg['set_id'])"
   ]
  },
  {
   "cell_type": "code",
   "execution_count": 6,
   "metadata": {},
   "outputs": [],
   "source": [
    "training_data = process_scores(training_data, 'domain1_score')\n",
    "valid_data = process_scores(valid_data, 'domain1_score')"
   ]
  },
  {
   "cell_type": "code",
   "execution_count": 7,
   "metadata": {},
   "outputs": [
    {
     "name": "stdout",
     "output_type": "stream",
     "text": [
      "ready\n"
     ]
    }
   ],
   "source": [
    "from dataloader import *\n",
    "from models import *\n",
    "import time\n",
    "\n",
    "model = GRU_Score(cfg, True)\n",
    "model = model.to(torch.device(cfg['device']))\n",
    "\n",
    "criterion = nn.MSELoss()\n",
    "\n",
    "optimizer = torch.optim.Adam(model.parameters(), lr=cfg['learning_rate'], weight_decay=cfg['L2_penalty'])\n",
    "\n",
    "train_indices = list(range(len(training_data)))\n",
    "valid_indices = list(range(len(valid_data)))\n",
    "\n",
    "print('ready')"
   ]
  },
  {
   "cell_type": "code",
   "execution_count": 8,
   "metadata": {},
   "outputs": [
    {
     "data": {
      "text/plain": [
       "GRU_Score(\n",
       "  (embed_linear): Linear(in_features=301, out_features=301, bias=True)\n",
       "  (gru): GRU(301, 128, num_layers=2, batch_first=True, dropout=0.005, bidirectional=True)\n",
       "  (bn): BatchNorm1d(256, eps=1e-05, momentum=0.1, affine=True, track_running_stats=True)\n",
       "  (fc1): Linear(in_features=256, out_features=1, bias=True)\n",
       ")"
      ]
     },
     "execution_count": 8,
     "metadata": {},
     "output_type": "execute_result"
    }
   ],
   "source": [
    "model.train()"
   ]
  },
  {
   "cell_type": "code",
   "execution_count": 9,
   "metadata": {
    "scrolled": false
   },
   "outputs": [
    {
     "name": "stdout",
     "output_type": "stream",
     "text": [
      "count = 2, loss = 0.86998\n",
      "count = 4, loss = 0.50205\n",
      "count = 6, loss = 0.51035\n",
      "count = 8, loss = 0.32023\n",
      "count = 10, loss = 0.29436\n",
      "count = 12, loss = 0.33267\n",
      "count = 14, loss = 0.36775\n",
      "validation loss: 0.2864433601498604\n",
      "epoch finished: 1\n",
      "count = 2, loss = 0.31472\n",
      "count = 4, loss = 0.28715\n",
      "count = 6, loss = 0.30938\n",
      "count = 8, loss = 0.28794\n",
      "count = 10, loss = 0.26688\n",
      "count = 12, loss = 0.30751\n",
      "count = 14, loss = 0.27363\n",
      "validation loss: 0.31224295496940613\n",
      "epoch finished: 2\n",
      "count = 2, loss = 0.28139\n",
      "count = 4, loss = 0.24769\n",
      "count = 6, loss = 0.27357\n",
      "count = 8, loss = 0.25062\n",
      "count = 10, loss = 0.23834\n",
      "count = 12, loss = 0.39022\n",
      "count = 14, loss = 0.24850\n",
      "validation loss: 0.3747740685939789\n",
      "epoch finished: 3\n",
      "count = 2, loss = 0.27536\n",
      "count = 4, loss = 0.27212\n",
      "count = 6, loss = 0.22630\n",
      "count = 8, loss = 0.29531\n",
      "count = 10, loss = 0.26628\n",
      "count = 12, loss = 0.22596\n",
      "count = 14, loss = 0.26350\n",
      "validation loss: 0.3440469652414322\n",
      "epoch finished: 4\n",
      "count = 2, loss = 0.29754\n",
      "count = 4, loss = 0.22402\n",
      "count = 6, loss = 0.23932\n",
      "count = 8, loss = 0.23490\n",
      "count = 10, loss = 0.26778\n",
      "count = 12, loss = 0.26876\n",
      "count = 14, loss = 0.28680\n",
      "validation loss: 0.4450392872095108\n",
      "epoch finished: 5\n",
      "count = 2, loss = 0.31727\n",
      "count = 4, loss = 0.26664\n",
      "count = 6, loss = 0.25236\n",
      "count = 8, loss = 0.26132\n",
      "count = 10, loss = 0.23311\n",
      "count = 12, loss = 0.24380\n",
      "count = 14, loss = 0.23457\n",
      "validation loss: 0.3719106465578079\n",
      "epoch finished: 6\n",
      "count = 2, loss = 0.22289\n",
      "count = 4, loss = 0.34731\n",
      "count = 6, loss = 0.18849\n",
      "count = 8, loss = 0.26958\n",
      "count = 10, loss = 0.25726\n",
      "count = 12, loss = 0.20663\n",
      "count = 14, loss = 0.26726\n",
      "validation loss: 0.4194048270583153\n",
      "epoch finished: 7\n",
      "count = 2, loss = 0.27542\n",
      "count = 4, loss = 0.17962\n",
      "count = 6, loss = 0.26945\n",
      "count = 8, loss = 0.26115\n",
      "count = 10, loss = 0.23761\n",
      "count = 12, loss = 0.18077\n",
      "count = 14, loss = 0.27108\n",
      "validation loss: 0.3535832241177559\n",
      "epoch finished: 8\n",
      "count = 2, loss = 0.26288\n",
      "count = 4, loss = 0.23374\n",
      "count = 6, loss = 0.27399\n",
      "count = 8, loss = 0.25727\n",
      "count = 10, loss = 0.17766\n",
      "count = 12, loss = 0.24855\n",
      "count = 14, loss = 0.21166\n",
      "validation loss: 0.3645319566130638\n",
      "epoch finished: 9\n",
      "count = 2, loss = 0.21445\n",
      "count = 4, loss = 0.22747\n",
      "count = 6, loss = 0.29296\n",
      "count = 8, loss = 0.21809\n",
      "count = 10, loss = 0.23393\n",
      "count = 12, loss = 0.23587\n",
      "count = 14, loss = 0.22246\n",
      "validation loss: 0.3811189904808998\n",
      "epoch finished: 10\n",
      "count = 2, loss = 0.24218\n",
      "count = 4, loss = 0.21098\n",
      "count = 6, loss = 0.21426\n",
      "count = 8, loss = 0.21082\n",
      "count = 10, loss = 0.24230\n",
      "count = 12, loss = 0.20391\n",
      "count = 14, loss = 0.28688\n",
      "validation loss: 0.3283419534564018\n",
      "epoch finished: 11\n",
      "count = 2, loss = 0.25919\n",
      "count = 4, loss = 0.21342\n",
      "count = 6, loss = 0.20978\n",
      "count = 8, loss = 0.25419\n",
      "count = 10, loss = 0.21903\n",
      "count = 12, loss = 0.19289\n",
      "count = 14, loss = 0.21953\n",
      "validation loss: 0.3855357691645622\n",
      "epoch finished: 12\n",
      "count = 2, loss = 0.18605\n",
      "count = 4, loss = 0.23879\n",
      "count = 6, loss = 0.24546\n",
      "count = 8, loss = 0.19162\n",
      "count = 10, loss = 0.20575\n",
      "count = 12, loss = 0.16904\n",
      "count = 14, loss = 0.22830\n",
      "validation loss: 0.3785258010029793\n",
      "epoch finished: 13\n",
      "count = 2, loss = 0.16769\n",
      "count = 4, loss = 0.22460\n",
      "count = 6, loss = 0.18559\n",
      "count = 8, loss = 0.22723\n",
      "count = 10, loss = 0.18087\n",
      "count = 12, loss = 0.25489\n",
      "count = 14, loss = 0.22675\n",
      "validation loss: 0.3876785710453987\n",
      "epoch finished: 14\n",
      "count = 2, loss = 0.21861\n",
      "count = 4, loss = 0.18866\n",
      "count = 6, loss = 0.20502\n",
      "count = 8, loss = 0.19240\n",
      "count = 10, loss = 0.22249\n",
      "count = 12, loss = 0.20542\n",
      "count = 14, loss = 0.19278\n",
      "validation loss: 0.4053519070148468\n",
      "epoch finished: 15\n"
     ]
    }
   ],
   "source": [
    "train_losses = []\n",
    "val_losses = []\n",
    "for epoch in range(cfg['epochs']):\n",
    "    tloader = DataLoader(training_data, train_indices, cfg, glove_dict)\n",
    "    vloader = DataLoader(valid_data, valid_indices, cfg, glove_dict)\n",
    "    \n",
    "    count = 0\n",
    "    avg_loss = 0\n",
    "    while tloader.has_next():\n",
    "        train, label, lengths = tloader.get_next()\n",
    "        #print(train.size())\n",
    "        #print(label.size())\n",
    "        #print(lengths.size())\n",
    "        model.zero_grad()\n",
    "        \n",
    "        y = model(train, lengths)      \n",
    "        \n",
    "        loss = criterion(y*cfg['score_range'], label*cfg['score_range'])\n",
    "        loss.backward()\n",
    "        optimizer.step()\n",
    "\n",
    "        count += 1\n",
    "        avg_loss += loss.item()\n",
    "        if count % 2 == 0:\n",
    "            print(\"count = %d, loss = %.5f\" %(count, avg_loss / 2))\n",
    "            save_model(model, 'models/'+'s' + str(cfg['set_id']) + '_ba' +str(cfg['batch_size']) +'e' +  str(epoch + 1) + 'b' + str(count) + '.pt')\n",
    "            train_losses.append(avg_loss/2)\n",
    "            avg_loss = 0\n",
    "        del train, label, y, loss\n",
    "    \n",
    "    count = 0\n",
    "    avg_loss = 0\n",
    "    with torch.no_grad():\n",
    "        while vloader.has_next():\n",
    "            train, label, lengths = vloader.get_next()\n",
    "            y = model(train, lengths)\n",
    "            loss = criterion(y*cfg['score_range'], label*cfg['score_range'])\n",
    "            count += 1\n",
    "            avg_loss += loss.item()\n",
    "            del train, label, y, loss\n",
    "    print('validation loss:', avg_loss / count)\n",
    "    print('epoch finished:', epoch + 1)\n",
    "    val_losses.append(avg_loss/count)\n",
    "    "
   ]
  },
  {
   "cell_type": "code",
   "execution_count": 18,
   "metadata": {},
   "outputs": [],
   "source": [
    "np.save('val_loss_gru_set4.npy', val_losses)\n",
    "np.save('train_loss_gru_set4.npy', train_losses)"
   ]
  },
  {
   "cell_type": "code",
   "execution_count": 21,
   "metadata": {},
   "outputs": [],
   "source": [
    "model = load_model(LSTM_Score, './models/s4_ba120e9b14.pt', cfg)\n",
    "valid_indices = list(range(len(valid_data)))"
   ]
  },
  {
   "cell_type": "code",
   "execution_count": 10,
   "metadata": {},
   "outputs": [
    {
     "name": "stdout",
     "output_type": "stream",
     "text": [
      "validation MSE: 0.419575572013855\n",
      "validation MAE: 0.17525764554738998\n",
      "QWK Score: 0.7076948700866089\n"
     ]
    }
   ],
   "source": [
    "from evaluation import QWK_score\n",
    "\n",
    "vloader = DataLoader(valid_data, valid_indices, cfg, glove_dict)\n",
    "count = 0\n",
    "avg_loss = 0\n",
    "MAE = 0\n",
    "targets = []\n",
    "preds = []\n",
    "with torch.no_grad():\n",
    "    while vloader.has_next():\n",
    "        train, label, lenghts = vloader.get_next()\n",
    "        y = model(train, lenghts)\n",
    "        #y = y.permute(0, 2, 1)\n",
    "        #print(label - y)\n",
    "        \n",
    "        loss = criterion(y*cfg['score_range'], label*cfg['score_range'])\n",
    "        \n",
    "        pred = np.round(y.cpu().numpy() * cfg['score_range'])\n",
    "        target = np.round(label.cpu().numpy() * cfg['score_range'])\n",
    "\n",
    "        pred = pred.flatten().astype(int)\n",
    "        target = target.flatten().astype(int)\n",
    "        \n",
    "        targets.append(target)\n",
    "        preds.append(pred)\n",
    "        \n",
    "        #print(targets[0])\n",
    "        #print(preds[0])\n",
    "        \n",
    "        count += 1\n",
    "        avg_loss += loss.item()\n",
    "        MAE += (y-label).abs().mean().item()\n",
    "        \n",
    "        del train, label, y, loss\n",
    "        \n",
    "print('validation MSE:', avg_loss / count)\n",
    "print('validation MAE:', MAE / count)\n",
    "print('QWK Score:', QWK_score(np.asarray(targets).flatten(), np.asarray(preds).flatten(), min_rating = 0, max_rating = cfg['score_range']))"
   ]
  },
  {
   "cell_type": "code",
   "execution_count": 11,
   "metadata": {},
   "outputs": [
    {
     "data": {
      "text/plain": [
       "[array([1, 1, 1, 2, 2, 2, 3, 1, 2, 1, 3, 1, 0, 2, 1, 2, 2, 1, 3, 1, 3, 0,\n",
       "        2, 1, 1, 1, 2, 3, 0, 1, 2, 1, 1, 2, 2, 3, 1, 3, 2, 2, 2, 2, 2, 0,\n",
       "        2, 0, 0, 3, 2, 3, 0, 1, 2, 1, 0, 0, 2, 0, 1, 1, 2, 2, 0, 3, 2, 2,\n",
       "        2, 2, 2, 3, 2, 2, 2, 1, 1, 2, 2, 3, 1, 1, 0, 2, 1, 2, 2, 2, 1, 3,\n",
       "        2, 1, 1, 1, 2, 2, 2, 1, 0, 1, 2, 3, 1, 3, 1, 2, 1, 2, 1, 1, 2, 0,\n",
       "        2, 1, 1, 1, 2, 3, 2, 2, 0, 0]),\n",
       " array([3, 2, 1, 1, 3, 1, 1, 2, 2, 2, 1, 1, 3, 1, 2, 3, 1, 3, 2, 2, 2, 1,\n",
       "        1, 1, 1, 2, 1, 0, 1, 3, 1, 1, 1, 2, 3, 2, 1, 1, 3, 1, 2, 0, 3, 2,\n",
       "        1, 1, 2, 2, 1, 2, 2, 2, 0, 3, 1, 2, 2, 1, 2, 2, 1, 2, 1, 1, 2, 2,\n",
       "        1, 2, 3, 1, 1, 2, 1, 1, 1, 2, 3, 2, 1, 1, 1, 2, 0, 1, 2, 0, 1, 0,\n",
       "        3, 3, 1, 2, 2, 1, 3, 1, 2, 2, 2, 2, 2, 3, 0, 1, 1, 1, 2, 2, 2, 1,\n",
       "        3, 1, 2, 3, 2, 2, 2, 3, 2, 3]),\n",
       " array([1, 2, 1, 0, 2, 0, 2, 3, 1, 2, 2, 2, 1, 3, 3, 1, 1, 2, 1, 3, 2, 0,\n",
       "        1, 0, 2, 1, 1, 1, 0, 2, 1, 1, 2, 3, 1, 0, 1, 1, 0, 2, 2, 1, 2, 1,\n",
       "        2, 0, 1, 3, 1, 1, 1, 2, 1, 2, 1, 1, 2, 2, 1, 1, 2, 1, 2, 2, 0, 0,\n",
       "        1, 2, 2, 1, 1, 1, 1, 1, 0, 2, 1, 1, 1, 3, 2, 3, 1, 2, 0, 0, 2, 0,\n",
       "        1, 3, 2, 2, 0, 2, 1, 1, 1, 1, 3, 2, 0, 3, 1, 0, 1, 1, 1, 3, 0, 3,\n",
       "        2, 1, 1, 3, 3, 2, 2, 2, 3, 1]),\n",
       " array([1, 1, 2, 2, 2, 1, 1, 1, 1, 2, 0, 0, 0, 3, 3, 1, 2, 3, 0, 2, 2, 1,\n",
       "        1, 3, 1, 3, 2, 2, 2, 3, 2, 0, 2, 1, 1, 2, 3, 1, 1, 1, 1, 1, 1, 0,\n",
       "        1, 1, 0, 1, 0, 1, 2, 3, 2, 3, 2, 2, 1, 0, 2, 1, 2, 2, 2, 1, 1, 2,\n",
       "        1, 1, 3, 1, 1, 2, 1, 2, 1, 1, 1, 2, 2, 1, 2, 2, 1, 1, 1, 1, 2, 0,\n",
       "        0, 0, 1, 1, 1, 2, 0, 0, 0, 1, 3, 0, 2, 2, 1, 1, 2, 2, 2, 1, 1, 3,\n",
       "        2, 1, 1, 2, 2, 1, 2, 2, 2, 2])]"
      ]
     },
     "execution_count": 11,
     "metadata": {},
     "output_type": "execute_result"
    }
   ],
   "source": [
    "targets"
   ]
  },
  {
   "cell_type": "code",
   "execution_count": 12,
   "metadata": {},
   "outputs": [
    {
     "data": {
      "text/plain": [
       "[array([0, 1, 1, 1, 2, 3, 2, 1, 2, 0, 3, 1, 0, 3, 1, 2, 2, 1, 2, 0, 3, 0,\n",
       "        1, 0, 1, 1, 2, 3, 0, 1, 2, 0, 1, 2, 2, 3, 1, 3, 3, 1, 1, 0, 1, 0,\n",
       "        3, 1, 0, 3, 2, 2, 0, 0, 3, 1, 1, 0, 2, 1, 1, 1, 3, 3, 0, 3, 3, 1,\n",
       "        2, 2, 3, 3, 1, 2, 1, 2, 2, 1, 1, 3, 3, 1, 0, 1, 1, 2, 1, 1, 1, 2,\n",
       "        2, 1, 1, 1, 1, 3, 2, 1, 1, 0, 2, 3, 2, 3, 1, 2, 1, 2, 1, 1, 2, 0,\n",
       "        1, 0, 1, 1, 2, 2, 2, 2, 0, 1]),\n",
       " array([2, 1, 2, 1, 3, 0, 0, 1, 2, 2, 1, 1, 2, 1, 2, 3, 1, 3, 1, 2, 1, 1,\n",
       "        1, 1, 0, 1, 1, 0, 1, 2, 1, 1, 1, 3, 2, 1, 1, 0, 3, 0, 3, 0, 3, 1,\n",
       "        1, 1, 2, 1, 2, 2, 0, 1, 0, 2, 1, 2, 1, 2, 1, 1, 2, 1, 1, 0, 2, 2,\n",
       "        0, 1, 2, 1, 1, 2, 2, 1, 2, 2, 3, 3, 0, 1, 1, 3, 0, 1, 1, 1, 1, 0,\n",
       "        3, 3, 1, 3, 2, 1, 3, 1, 1, 2, 3, 2, 1, 3, 0, 0, 1, 2, 2, 1, 0, 1,\n",
       "        3, 0, 1, 3, 2, 1, 3, 2, 2, 3]),\n",
       " array([1, 1, 1, 0, 2, 0, 3, 3, 0, 3, 2, 3, 1, 2, 3, 1, 1, 1, 0, 1, 1, 1,\n",
       "        1, 1, 1, 2, 1, 1, 0, 1, 1, 0, 1, 3, 0, 1, 1, 1, 1, 0, 2, 1, 3, 1,\n",
       "        1, 1, 1, 3, 2, 0, 1, 1, 1, 2, 1, 1, 2, 3, 1, 2, 1, 2, 2, 1, 1, 1,\n",
       "        2, 3, 2, 0, 1, 0, 0, 1, 1, 2, 2, 1, 2, 3, 3, 3, 1, 2, 0, 1, 3, 0,\n",
       "        1, 2, 2, 1, 0, 3, 1, 1, 1, 1, 3, 0, 1, 2, 0, 1, 1, 0, 0, 3, 0, 3,\n",
       "        3, 1, 1, 2, 3, 2, 2, 2, 3, 0]),\n",
       " array([1, 2, 3, 2, 3, 1, 1, 1, 2, 2, 0, 1, 0, 2, 3, 2, 2, 3, 0, 2, 1, 1,\n",
       "        1, 3, 1, 2, 1, 3, 3, 3, 1, 1, 3, 1, 1, 1, 3, 0, 1, 2, 1, 1, 1, 0,\n",
       "        1, 1, 1, 0, 1, 1, 2, 3, 1, 2, 2, 2, 2, 0, 3, 0, 1, 2, 2, 1, 0, 1,\n",
       "        1, 1, 3, 1, 1, 2, 3, 2, 2, 1, 1, 1, 2, 1, 2, 2, 2, 2, 2, 0, 2, 0,\n",
       "        0, 0, 1, 1, 1, 2, 1, 1, 1, 0, 3, 0, 2, 2, 0, 0, 2, 2, 1, 2, 2, 3,\n",
       "        2, 0, 0, 3, 2, 1, 2, 2, 1, 3])]"
      ]
     },
     "execution_count": 12,
     "metadata": {},
     "output_type": "execute_result"
    }
   ],
   "source": [
    "preds"
   ]
  },
  {
   "cell_type": "code",
   "execution_count": 13,
   "metadata": {},
   "outputs": [
    {
     "data": {
      "text/plain": [
       "[0.8699824959039688,\n",
       " 0.5020499974489212,\n",
       " 0.510354533791542,\n",
       " 0.3202286809682846,\n",
       " 0.2943574786186218,\n",
       " 0.3326726257801056,\n",
       " 0.36774660646915436,\n",
       " 0.31472449004650116,\n",
       " 0.2871462553739548,\n",
       " 0.30938321352005005,\n",
       " 0.28794100880622864,\n",
       " 0.2668822556734085,\n",
       " 0.30751243978738785,\n",
       " 0.27363115549087524,\n",
       " 0.2813863083720207,\n",
       " 0.24768735468387604,\n",
       " 0.2735731154680252,\n",
       " 0.25062239170074463,\n",
       " 0.23833566159009933,\n",
       " 0.3902166336774826,\n",
       " 0.24849580228328705,\n",
       " 0.2753599286079407,\n",
       " 0.27212443947792053,\n",
       " 0.22629795223474503,\n",
       " 0.295308381319046,\n",
       " 0.26627522706985474,\n",
       " 0.2259572297334671,\n",
       " 0.26349572092294693,\n",
       " 0.2975388765335083,\n",
       " 0.2240193411707878,\n",
       " 0.23932061344385147,\n",
       " 0.23490037769079208,\n",
       " 0.26777975261211395,\n",
       " 0.2687610313296318,\n",
       " 0.2868047505617142,\n",
       " 0.31726688891649246,\n",
       " 0.2666366994380951,\n",
       " 0.2523640841245651,\n",
       " 0.2613182067871094,\n",
       " 0.23310887813568115,\n",
       " 0.2437974289059639,\n",
       " 0.2345740795135498,\n",
       " 0.22288573533296585,\n",
       " 0.3473067432641983,\n",
       " 0.18849217146635056,\n",
       " 0.2695761173963547,\n",
       " 0.25726208835840225,\n",
       " 0.20663437992334366,\n",
       " 0.2672586664557457,\n",
       " 0.27541960030794144,\n",
       " 0.1796160340309143,\n",
       " 0.2694501057267189,\n",
       " 0.2611544579267502,\n",
       " 0.23760783672332764,\n",
       " 0.1807677149772644,\n",
       " 0.2710786387324333,\n",
       " 0.2628817707300186,\n",
       " 0.23374206572771072,\n",
       " 0.27399156987667084,\n",
       " 0.25727155059576035,\n",
       " 0.17765620350837708,\n",
       " 0.24854950606822968,\n",
       " 0.2116621807217598,\n",
       " 0.21445287019014359,\n",
       " 0.22747211903333664,\n",
       " 0.2929575592279434,\n",
       " 0.2180868238210678,\n",
       " 0.23393377661705017,\n",
       " 0.23587162792682648,\n",
       " 0.2224559411406517,\n",
       " 0.24218381941318512,\n",
       " 0.21097705513238907,\n",
       " 0.21426206082105637,\n",
       " 0.21081669628620148,\n",
       " 0.2423020377755165,\n",
       " 0.20390541851520538,\n",
       " 0.28687797486782074,\n",
       " 0.25918659567832947,\n",
       " 0.2134157344698906,\n",
       " 0.20977766811847687,\n",
       " 0.2541934922337532,\n",
       " 0.2190263345837593,\n",
       " 0.19289493560791016,\n",
       " 0.2195264771580696,\n",
       " 0.18605437129735947,\n",
       " 0.2387918457388878,\n",
       " 0.24546358734369278,\n",
       " 0.1916239708662033,\n",
       " 0.2057454213500023,\n",
       " 0.16903746873140335,\n",
       " 0.22829721868038177,\n",
       " 0.16768686473369598,\n",
       " 0.22459882497787476,\n",
       " 0.18558810651302338,\n",
       " 0.22722631692886353,\n",
       " 0.1808703988790512,\n",
       " 0.2548932284116745,\n",
       " 0.22675171494483948,\n",
       " 0.2186085805296898,\n",
       " 0.18865759670734406,\n",
       " 0.20501558482646942,\n",
       " 0.19239947944879532,\n",
       " 0.22248831391334534,\n",
       " 0.20542151480913162,\n",
       " 0.19277749210596085]"
      ]
     },
     "execution_count": 13,
     "metadata": {},
     "output_type": "execute_result"
    }
   ],
   "source": [
    "train_losses"
   ]
  },
  {
   "cell_type": "code",
   "execution_count": 14,
   "metadata": {},
   "outputs": [
    {
     "data": {
      "text/plain": [
       "[0.2864433601498604,\n",
       " 0.31224295496940613,\n",
       " 0.3747740685939789,\n",
       " 0.3440469652414322,\n",
       " 0.4450392872095108,\n",
       " 0.3719106465578079,\n",
       " 0.4194048270583153,\n",
       " 0.3535832241177559,\n",
       " 0.3645319566130638,\n",
       " 0.3811189904808998,\n",
       " 0.3283419534564018,\n",
       " 0.3855357691645622,\n",
       " 0.3785258010029793,\n",
       " 0.3876785710453987,\n",
       " 0.4053519070148468]"
      ]
     },
     "execution_count": 14,
     "metadata": {},
     "output_type": "execute_result"
    }
   ],
   "source": [
    "val_losses"
   ]
  },
  {
   "cell_type": "code",
   "execution_count": 16,
   "metadata": {},
   "outputs": [
    {
     "data": {
      "image/png": "[encoded data removed]",
      "text/plain": [
       "<Figure size 576x360 with 1 Axes>"
      ]
     },
     "metadata": {},
     "output_type": "display_data"
    }
   ],
   "source": [
    "import matplotlib.pyplot as plt\n",
    "import numpy as np\n",
    "\n",
    "\n",
    "fig, ax = plt.subplots(figsize=(8, 5))\n",
    "ax.plot(np.arange(len(train_losses)) / (len(train_losses) // len(val_losses)),train_losses,label='training loss')\n",
    "ax.plot(np.arange(1,len(val_losses)+1) ,np.array(val_losses) + 0.01,label='validation loss')\n",
    "\n",
    "ax.set_xlabel('epoch')\n",
    "ax.set_ylabel('loss value')\n",
    "ax.legend()\n",
    "plt.show()"
   ]
  },
  {
   "cell_type": "code",
   "execution_count": null,
   "metadata": {},
   "outputs": [],
   "source": []
  }
 ],
 "metadata": {
  "kernelspec": {
   "display_name": "Python 3",
   "language": "python",
   "name": "python3"
  },
  "language_info": {
   "codemirror_mode": {
    "name": "ipython",
    "version": 3
   },
   "file_extension": ".py",
   "mimetype": "text/x-python",
   "name": "python",
   "nbconvert_exporter": "python",
   "pygments_lexer": "ipython3",
   "version": "3.6.4"
  }
 },
 "nbformat": 4,
 "nbformat_minor": 2
}
