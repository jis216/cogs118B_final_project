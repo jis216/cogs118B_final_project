{
 "cells": [
  {
   "cell_type": "code",
   "execution_count": 1,
   "metadata": {},
   "outputs": [],
   "source": [
    "from configs import cfg\n",
    "\n",
    "cfg['input_dim'] = 301 # input dimension to LSTM\n",
    "cfg['hidden_dim'] = 128 # hidden dimension for LSTM\n",
    "cfg['output_dim'] = 1 # output dimension of the model\n",
    "cfg['layers'] = 2 # number of layers of LSTM\n",
    "\n",
    "cfg['dropout'] = 5e-3 # dropout rate between two layers of LSTM; useful only when layers > 1; between 0 and 1\n",
    "cfg['bidirectional'] = True # True or False; True means using a bidirectional LSTM\n",
    "cfg['batch_size'] = 120 # batch size of input\n",
    "cfg['learning_rate'] = 1e-3 # learning rate to be used\n",
    "cfg['L2_penalty'] = 1e-4 # weighting constant for L2 regularization term; this is a parameter when you define optimizer\n",
    "cfg['epochs'] = 15 # number of epochs for which the model is trained\n",
    "cfg['embed'] = False\n",
    "cfg['score_range'] = 4\n",
    "cfg['set_id'] = 5"
   ]
  },
  {
   "cell_type": "code",
   "execution_count": 2,
   "metadata": {},
   "outputs": [],
   "source": [
    "import numpy as np\n",
    "from preprocess import *\n",
    "import pandas as pd\n",
    "\n",
    "train_path = './essay_dataset/training_set_rel3.tsv'\n",
    "training_data = load_training_set(train_path, cfg['set_id'])\n",
    "\n",
    "glove_dict = load_dict('glove.840B.300d.pkl')"
   ]
  },
  {
   "cell_type": "code",
   "execution_count": 3,
   "metadata": {},
   "outputs": [],
   "source": [
    "valid_path = './essay_dataset/valid_set.tsv'\n",
    "valid_label_path = './essay_dataset/valid_sample_submission_2_column.csv'\n",
    "valid_data = load_validation_set(valid_path, valid_label_path, cfg['set_id'])"
   ]
  },
  {
   "cell_type": "code",
   "execution_count": 4,
   "metadata": {},
   "outputs": [],
   "source": [
    "training_data = process_scores(training_data, 'domain1_score')\n",
    "valid_data = process_scores(valid_data, 'domain1_score')"
   ]
  },
  {
   "cell_type": "code",
   "execution_count": 5,
   "metadata": {},
   "outputs": [
    {
     "name": "stdout",
     "output_type": "stream",
     "text": [
      "ready\n"
     ]
    }
   ],
   "source": [
    "from dataloader import *\n",
    "from models import *\n",
    "import time\n",
    "\n",
    "model = GRU_Score(cfg, True)\n",
    "model = model.to(torch.device(cfg['device']))\n",
    "\n",
    "criterion = nn.MSELoss()\n",
    "\n",
    "optimizer = torch.optim.Adam(model.parameters(), lr=cfg['learning_rate'], weight_decay=cfg['L2_penalty'])\n",
    "\n",
    "train_indices = list(range(len(training_data)))\n",
    "valid_indices = list(range(len(valid_data)))\n",
    "\n",
    "print('ready')"
   ]
  },
  {
   "cell_type": "code",
   "execution_count": 6,
   "metadata": {},
   "outputs": [
    {
     "data": {
      "text/plain": [
       "GRU_Score(\n",
       "  (embed_linear): Linear(in_features=301, out_features=301, bias=True)\n",
       "  (gru): GRU(301, 128, num_layers=2, batch_first=True, dropout=0.005, bidirectional=True)\n",
       "  (bn): BatchNorm1d(256, eps=1e-05, momentum=0.1, affine=True, track_running_stats=True)\n",
       "  (fc1): Linear(in_features=256, out_features=1, bias=True)\n",
       ")"
      ]
     },
     "execution_count": 6,
     "metadata": {},
     "output_type": "execute_result"
    }
   ],
   "source": [
    "model.train()"
   ]
  },
  {
   "cell_type": "code",
   "execution_count": 7,
   "metadata": {
    "scrolled": false
   },
   "outputs": [
    {
     "name": "stdout",
     "output_type": "stream",
     "text": [
      "count = 2, loss = 0.92705\n",
      "count = 4, loss = 0.60941\n",
      "count = 6, loss = 0.41219\n",
      "count = 8, loss = 0.45682\n",
      "count = 10, loss = 0.36163\n",
      "count = 12, loss = 0.36720\n",
      "count = 14, loss = 0.30199\n",
      "validation loss: 0.2976748824119568\n",
      "epoch finished: 1\n",
      "count = 2, loss = 0.26470\n",
      "count = 4, loss = 0.30445\n",
      "count = 6, loss = 0.31559\n",
      "count = 8, loss = 0.28838\n",
      "count = 10, loss = 0.22191\n",
      "count = 12, loss = 0.26987\n",
      "count = 14, loss = 0.26718\n",
      "validation loss: 0.23832754790782928\n",
      "epoch finished: 2\n",
      "count = 2, loss = 0.25714\n",
      "count = 4, loss = 0.27719\n",
      "count = 6, loss = 0.25479\n",
      "count = 8, loss = 0.26325\n",
      "count = 10, loss = 0.21698\n",
      "count = 12, loss = 0.24515\n",
      "count = 14, loss = 0.24560\n",
      "validation loss: 0.24265461564064025\n",
      "epoch finished: 3\n",
      "count = 2, loss = 0.22515\n",
      "count = 4, loss = 0.24925\n",
      "count = 6, loss = 0.23512\n",
      "count = 8, loss = 0.23610\n",
      "count = 10, loss = 0.24932\n",
      "count = 12, loss = 0.28869\n",
      "count = 14, loss = 0.24347\n",
      "validation loss: 0.24137441217899322\n",
      "epoch finished: 4\n",
      "count = 2, loss = 0.21727\n",
      "count = 4, loss = 0.22326\n",
      "count = 6, loss = 0.21848\n",
      "count = 8, loss = 0.22700\n",
      "count = 10, loss = 0.21999\n",
      "count = 12, loss = 0.29235\n",
      "count = 14, loss = 0.23206\n",
      "validation loss: 0.24315072894096373\n",
      "epoch finished: 5\n",
      "count = 2, loss = 0.21895\n",
      "count = 4, loss = 0.20459\n",
      "count = 6, loss = 0.25029\n",
      "count = 8, loss = 0.26714\n",
      "count = 10, loss = 0.23953\n",
      "count = 12, loss = 0.21412\n",
      "count = 14, loss = 0.20824\n",
      "validation loss: 0.22930088639259338\n",
      "epoch finished: 6\n",
      "count = 2, loss = 0.23177\n",
      "count = 4, loss = 0.25890\n",
      "count = 6, loss = 0.20481\n",
      "count = 8, loss = 0.20377\n",
      "count = 10, loss = 0.30908\n",
      "count = 12, loss = 0.22305\n",
      "count = 14, loss = 0.22545\n",
      "validation loss: 0.24395695626735686\n",
      "epoch finished: 7\n",
      "count = 2, loss = 0.22879\n",
      "count = 4, loss = 0.18575\n",
      "count = 6, loss = 0.22573\n",
      "count = 8, loss = 0.27123\n",
      "count = 10, loss = 0.26299\n",
      "count = 12, loss = 0.19515\n",
      "count = 14, loss = 0.24731\n",
      "validation loss: 0.273736509680748\n",
      "epoch finished: 8\n",
      "count = 2, loss = 0.23161\n",
      "count = 4, loss = 0.25329\n",
      "count = 6, loss = 0.22514\n",
      "count = 8, loss = 0.22633\n",
      "count = 10, loss = 0.21978\n",
      "count = 12, loss = 0.21091\n",
      "count = 14, loss = 0.19353\n",
      "validation loss: 0.25051693320274354\n",
      "epoch finished: 9\n",
      "count = 2, loss = 0.19215\n",
      "count = 4, loss = 0.20307\n",
      "count = 6, loss = 0.23544\n",
      "count = 8, loss = 0.21744\n",
      "count = 10, loss = 0.21780\n",
      "count = 12, loss = 0.21480\n",
      "count = 14, loss = 0.24332\n",
      "validation loss: 0.23929619491100312\n",
      "epoch finished: 10\n",
      "count = 2, loss = 0.20620\n",
      "count = 4, loss = 0.19120\n",
      "count = 6, loss = 0.21313\n",
      "count = 8, loss = 0.21727\n",
      "count = 10, loss = 0.21049\n",
      "count = 12, loss = 0.22955\n",
      "count = 14, loss = 0.23062\n",
      "validation loss: 0.23978034555912017\n",
      "epoch finished: 11\n",
      "count = 2, loss = 0.20238\n",
      "count = 4, loss = 0.18870\n",
      "count = 6, loss = 0.23059\n",
      "count = 8, loss = 0.20171\n",
      "count = 10, loss = 0.23635\n",
      "count = 12, loss = 0.21430\n",
      "count = 14, loss = 0.24241\n",
      "validation loss: 0.23448716700077057\n",
      "epoch finished: 12\n",
      "count = 2, loss = 0.23587\n",
      "count = 4, loss = 0.22379\n",
      "count = 6, loss = 0.21112\n",
      "count = 8, loss = 0.21880\n",
      "count = 10, loss = 0.19419\n",
      "count = 12, loss = 0.22076\n",
      "count = 14, loss = 0.17706\n",
      "validation loss: 0.26102291643619535\n",
      "epoch finished: 13\n",
      "count = 2, loss = 0.23896\n",
      "count = 4, loss = 0.21125\n",
      "count = 6, loss = 0.18091\n",
      "count = 8, loss = 0.20469\n",
      "count = 10, loss = 0.18734\n",
      "count = 12, loss = 0.21569\n",
      "count = 14, loss = 0.21063\n",
      "validation loss: 0.26034952998161315\n",
      "epoch finished: 14\n",
      "count = 2, loss = 0.22128\n",
      "count = 4, loss = 0.21752\n",
      "count = 6, loss = 0.16612\n",
      "count = 8, loss = 0.20248\n",
      "count = 10, loss = 0.22848\n",
      "count = 12, loss = 0.19960\n",
      "count = 14, loss = 0.20860\n",
      "validation loss: 0.2858524888753891\n",
      "epoch finished: 15\n"
     ]
    }
   ],
   "source": [
    "train_losses = []\n",
    "val_losses = []\n",
    "for epoch in range(cfg['epochs']):\n",
    "    tloader = DataLoader(training_data, train_indices, cfg, glove_dict)\n",
    "    vloader = DataLoader(valid_data, valid_indices, cfg, glove_dict)\n",
    "    \n",
    "    count = 0\n",
    "    avg_loss = 0\n",
    "    while tloader.has_next():\n",
    "        train, label, lengths = tloader.get_next()\n",
    "        model.zero_grad()\n",
    "        \n",
    "        y = model(train, lengths)      \n",
    "        \n",
    "        loss = criterion(y*cfg['score_range'], label*cfg['score_range'])\n",
    "        loss.backward()\n",
    "        optimizer.step()\n",
    "\n",
    "        count += 1\n",
    "        avg_loss += loss.item()\n",
    "        if count % 2 == 0:\n",
    "            print(\"count = %d, loss = %.5f\" %(count, avg_loss / 2))\n",
    "            save_model(model, 'models/'+'s' + str(cfg['set_id']) + '_ba' +str(cfg['batch_size']) +'e' +  str(epoch + 1) + 'b' + str(count) + '.pt')\n",
    "            train_losses.append(avg_loss/2)\n",
    "            avg_loss = 0\n",
    "        del train, label, y, loss\n",
    "    \n",
    "    count = 0\n",
    "    avg_loss = 0\n",
    "    with torch.no_grad():\n",
    "        while vloader.has_next():\n",
    "            train, label, lengths = vloader.get_next()\n",
    "            y = model(train, lengths)\n",
    "            loss = criterion(y*cfg['score_range'], label*cfg['score_range'])\n",
    "            count += 1\n",
    "            avg_loss += loss.item()\n",
    "            del train, label, y, loss\n",
    "    print('validation loss:', avg_loss / count)\n",
    "    print('epoch finished:', epoch + 1)\n",
    "    val_losses.append(avg_loss/count)\n",
    "    "
   ]
  },
  {
   "cell_type": "code",
   "execution_count": 8,
   "metadata": {},
   "outputs": [],
   "source": [
    "np.save('val_loss_gru_set5.npy', val_losses)\n",
    "np.save('train_loss_gru_set5.npy', train_losses)"
   ]
  },
  {
   "cell_type": "code",
   "execution_count": 21,
   "metadata": {},
   "outputs": [],
   "source": [
    "model = load_model(LSTM_Score, './models/s4_ba120e9b14.pt', cfg)\n",
    "valid_indices = list(range(len(valid_data)))"
   ]
  },
  {
   "cell_type": "code",
   "execution_count": 9,
   "metadata": {},
   "outputs": [
    {
     "name": "stdout",
     "output_type": "stream",
     "text": [
      "validation MSE: 0.27114412784576414\n",
      "validation MAE: 0.10444635897874832\n",
      "QWK Score: 0.8015623031372056\n"
     ]
    }
   ],
   "source": [
    "from evaluation import QWK_score\n",
    "\n",
    "vloader = DataLoader(valid_data, valid_indices, cfg, glove_dict)\n",
    "count = 0\n",
    "avg_loss = 0\n",
    "MAE = 0\n",
    "targets = []\n",
    "preds = []\n",
    "with torch.no_grad():\n",
    "    while vloader.has_next():\n",
    "        train, label, lenghts = vloader.get_next()\n",
    "        y = model(train, lenghts)\n",
    "        #y = y.permute(0, 2, 1)\n",
    "        #print(label - y)\n",
    "        \n",
    "        loss = criterion(y*cfg['score_range'], label*cfg['score_range'])\n",
    "        \n",
    "        pred = np.round(y.cpu().numpy() * cfg['score_range'])\n",
    "        target = np.round(label.cpu().numpy() * cfg['score_range'])\n",
    "\n",
    "        pred = pred.flatten().astype(int)\n",
    "        target = target.flatten().astype(int)\n",
    "        \n",
    "        targets.append(target)\n",
    "        preds.append(pred)\n",
    "        \n",
    "        #print(targets[0])\n",
    "        #print(preds[0])\n",
    "        \n",
    "        count += 1\n",
    "        avg_loss += loss.item()\n",
    "        MAE += (y-label).abs().mean().item()\n",
    "        \n",
    "        del train, label, y, loss\n",
    "        \n",
    "print('validation MSE:', avg_loss / count)\n",
    "print('validation MAE:', MAE / count)\n",
    "print('QWK Score:', QWK_score(np.asarray(targets).flatten(), np.asarray(preds).flatten(), min_rating = 0, max_rating = cfg['score_range']))"
   ]
  },
  {
   "cell_type": "code",
   "execution_count": 10,
   "metadata": {},
   "outputs": [
    {
     "data": {
      "text/plain": [
       "[array([2, 2, 2, 2, 3, 1, 2, 3, 2, 1, 4, 1, 4, 4, 2, 2, 1, 2, 4, 1, 2, 3,\n",
       "        2, 3, 4, 4, 3, 2, 3, 2, 1, 3, 1, 1, 4, 2, 3, 2, 3, 1, 1, 2, 2, 2,\n",
       "        4, 4, 3, 2, 2, 4, 1, 3, 2, 3, 3, 3, 2, 3, 2, 3, 2, 2, 3, 3, 4, 3,\n",
       "        1, 2, 3, 3, 2, 3, 3, 2, 2, 3, 2, 2, 1, 2, 3, 2, 2, 4, 2, 3, 3, 2,\n",
       "        4, 1, 4, 1, 4, 2, 4, 1, 3, 2, 3, 3, 1, 4, 2, 2, 2, 4, 2, 1, 4, 2,\n",
       "        2, 2, 3, 2, 1, 4, 3, 4, 3, 3]),\n",
       " array([3, 3, 3, 1, 3, 3, 2, 4, 4, 3, 3, 2, 2, 1, 3, 2, 4, 4, 4, 2, 2, 4,\n",
       "        2, 2, 1, 2, 3, 2, 3, 4, 2, 3, 2, 2, 3, 2, 2, 3, 4, 3, 1, 3, 1, 2,\n",
       "        3, 2, 3, 2, 4, 1, 3, 2, 2, 2, 3, 2, 3, 1, 3, 1, 3, 1, 3, 3, 1, 3,\n",
       "        2, 2, 3, 3, 2, 2, 3, 4, 3, 2, 1, 4, 3, 3, 2, 1, 3, 3, 2, 4, 2, 1,\n",
       "        2, 2, 2, 3, 2, 3, 2, 3, 1, 2, 2, 3, 2, 2, 3, 1, 2, 1, 3, 4, 4, 3,\n",
       "        3, 4, 3, 4, 4, 4, 4, 2, 3, 2]),\n",
       " array([4, 2, 3, 3, 2, 3, 3, 3, 1, 3, 3, 4, 2, 3, 1, 2, 0, 2, 2, 2, 2, 2,\n",
       "        2, 3, 4, 1, 3, 2, 4, 3, 2, 2, 1, 3, 4, 3, 4, 1, 2, 3, 4, 3, 2, 2,\n",
       "        4, 1, 2, 3, 4, 2, 2, 2, 3, 3, 3, 2, 4, 3, 3, 3, 3, 3, 2, 4, 1, 3,\n",
       "        2, 4, 2, 2, 4, 3, 4, 3, 3, 1, 2, 1, 1, 2, 2, 2, 2, 3, 2, 2, 4, 2,\n",
       "        4, 2, 4, 2, 3, 3, 2, 1, 3, 2, 3, 4, 1, 1, 1, 3, 2, 2, 3, 1, 2, 4,\n",
       "        3, 1, 4, 4, 2, 2, 4, 3, 4, 2]),\n",
       " array([2, 2, 2, 2, 4, 4, 1, 2, 2, 2, 2, 3, 2, 2, 2, 1, 3, 3, 2, 2, 2, 3,\n",
       "        3, 3, 2, 4, 2, 2, 4, 1, 1, 4, 2, 3, 2, 4, 1, 2, 2, 3, 2, 4, 2, 3,\n",
       "        1, 2, 2, 3, 2, 3, 4, 3, 3, 3, 1, 1, 2, 3, 3, 2, 4, 2, 3, 3, 4, 3,\n",
       "        2, 3, 2, 3, 1, 2, 2, 4, 2, 1, 2, 4, 3, 1, 2, 2, 3, 4, 4, 2, 2, 4,\n",
       "        4, 3, 4, 2, 3, 2, 2, 2, 2, 1, 4, 3, 2, 2, 2, 2, 2, 2, 4, 1, 1, 3,\n",
       "        2, 3, 1, 3, 3, 2, 2, 3, 3, 1]),\n",
       " array([2, 2, 3, 2, 3, 3, 2, 3, 1, 3, 2, 2, 4, 2, 2, 0, 3, 3, 1, 3, 0, 2,\n",
       "        2, 1, 1, 3, 4, 2, 3, 2, 3, 2, 2, 2, 3, 2, 2, 3, 2, 4, 3, 1, 3, 2,\n",
       "        3, 4, 3, 3, 2, 3, 1, 2, 2, 2, 2, 1, 2, 4, 1, 4, 2, 2, 2, 3, 2, 2,\n",
       "        2, 2, 4, 3, 4, 4, 3, 4, 2, 4, 3, 3, 3, 1, 2, 2, 2, 4, 2, 3, 3, 2,\n",
       "        3, 3, 4, 3, 2, 4, 4, 1, 4, 3, 3, 4, 4, 2, 4, 2, 3, 3, 2, 2, 2, 4,\n",
       "        2, 1, 1, 3, 2, 2, 3, 4, 2, 1])]"
      ]
     },
     "execution_count": 10,
     "metadata": {},
     "output_type": "execute_result"
    }
   ],
   "source": [
    "targets"
   ]
  },
  {
   "cell_type": "code",
   "execution_count": 11,
   "metadata": {},
   "outputs": [
    {
     "data": {
      "text/plain": [
       "[array([2, 2, 2, 1, 3, 1, 2, 4, 3, 1, 3, 1, 4, 4, 1, 2, 2, 2, 4, 1, 1, 4,\n",
       "        3, 3, 3, 4, 2, 1, 3, 2, 2, 2, 1, 2, 4, 1, 3, 1, 3, 1, 2, 2, 4, 2,\n",
       "        3, 4, 3, 2, 1, 4, 1, 4, 2, 4, 3, 3, 2, 3, 3, 3, 2, 2, 4, 2, 3, 2,\n",
       "        1, 2, 3, 3, 2, 3, 3, 2, 2, 3, 2, 2, 2, 3, 3, 1, 2, 4, 2, 2, 3, 2,\n",
       "        3, 1, 4, 2, 3, 2, 3, 1, 2, 2, 3, 2, 1, 3, 2, 1, 2, 4, 3, 2, 3, 2,\n",
       "        3, 3, 3, 2, 1, 3, 3, 3, 2, 4]),\n",
       " array([3, 2, 2, 1, 2, 3, 3, 3, 4, 4, 2, 2, 2, 1, 4, 3, 4, 3, 4, 1, 3, 3,\n",
       "        2, 2, 1, 2, 3, 2, 3, 3, 2, 3, 2, 2, 3, 2, 2, 3, 4, 3, 1, 3, 1, 1,\n",
       "        3, 1, 4, 2, 4, 1, 3, 1, 2, 2, 3, 2, 3, 1, 3, 1, 3, 1, 3, 3, 2, 3,\n",
       "        2, 1, 3, 3, 2, 2, 2, 3, 3, 2, 1, 4, 4, 3, 3, 1, 2, 3, 2, 4, 2, 1,\n",
       "        2, 2, 2, 3, 2, 4, 2, 3, 2, 1, 2, 3, 2, 2, 2, 1, 1, 1, 3, 2, 4, 3,\n",
       "        3, 4, 2, 3, 3, 4, 4, 2, 3, 2]),\n",
       " array([3, 3, 3, 3, 2, 3, 2, 3, 1, 3, 3, 3, 2, 3, 1, 2, 1, 2, 2, 2, 3, 1,\n",
       "        2, 3, 4, 1, 3, 2, 4, 3, 2, 2, 1, 4, 4, 2, 4, 1, 2, 3, 3, 3, 2, 2,\n",
       "        4, 2, 2, 3, 3, 2, 2, 3, 3, 2, 3, 2, 4, 3, 3, 2, 3, 3, 1, 4, 2, 2,\n",
       "        2, 4, 2, 2, 4, 3, 3, 3, 2, 1, 1, 1, 1, 2, 2, 2, 1, 3, 2, 3, 4, 1,\n",
       "        4, 1, 3, 2, 3, 3, 2, 1, 3, 2, 3, 3, 1, 1, 1, 3, 2, 1, 2, 1, 2, 4,\n",
       "        3, 1, 4, 4, 2, 2, 3, 3, 3, 2]),\n",
       " array([1, 2, 3, 2, 4, 4, 1, 2, 2, 3, 2, 3, 2, 2, 3, 2, 3, 2, 3, 2, 2, 3,\n",
       "        3, 3, 2, 4, 3, 2, 4, 1, 2, 3, 2, 3, 1, 3, 1, 2, 2, 3, 2, 4, 2, 3,\n",
       "        1, 1, 1, 2, 2, 2, 3, 3, 3, 3, 1, 1, 2, 3, 2, 2, 4, 2, 2, 3, 4, 3,\n",
       "        3, 3, 2, 3, 1, 3, 1, 4, 3, 1, 1, 4, 4, 1, 3, 3, 3, 4, 4, 3, 1, 3,\n",
       "        4, 4, 4, 2, 3, 2, 1, 1, 2, 1, 4, 4, 3, 2, 3, 3, 3, 3, 3, 1, 2, 4,\n",
       "        1, 3, 1, 2, 3, 3, 2, 4, 3, 1]),\n",
       " array([1, 2, 3, 2, 3, 3, 2, 3, 1, 3, 1, 2, 3, 2, 3, 1, 2, 2, 2, 3, 1, 3,\n",
       "        2, 1, 1, 3, 3, 1, 3, 2, 3, 2, 2, 1, 3, 2, 2, 2, 3, 4, 3, 2, 2, 2,\n",
       "        2, 3, 3, 4, 3, 2, 1, 2, 2, 3, 2, 1, 2, 4, 2, 4, 3, 2, 2, 2, 1, 3,\n",
       "        2, 2, 4, 2, 3, 3, 3, 4, 2, 3, 4, 2, 3, 1, 2, 2, 3, 4, 2, 2, 3, 2,\n",
       "        3, 3, 4, 3, 2, 4, 4, 1, 4, 4, 3, 3, 4, 2, 3, 1, 3, 2, 2, 2, 2, 3,\n",
       "        1, 1, 1, 3, 2, 2, 3, 3, 2, 1])]"
      ]
     },
     "execution_count": 11,
     "metadata": {},
     "output_type": "execute_result"
    }
   ],
   "source": [
    "preds"
   ]
  },
  {
   "cell_type": "code",
   "execution_count": 12,
   "metadata": {},
   "outputs": [
    {
     "data": {
      "text/plain": [
       "[0.9270465075969696,\n",
       " 0.6094064712524414,\n",
       " 0.41218987107276917,\n",
       " 0.45682133734226227,\n",
       " 0.3616315424442291,\n",
       " 0.3671969622373581,\n",
       " 0.3019885867834091,\n",
       " 0.26470060646533966,\n",
       " 0.3044450432062149,\n",
       " 0.3155866116285324,\n",
       " 0.28837911784648895,\n",
       " 0.22190823405981064,\n",
       " 0.26987095177173615,\n",
       " 0.26718007028102875,\n",
       " 0.25713540613651276,\n",
       " 0.2771923840045929,\n",
       " 0.25479162484407425,\n",
       " 0.2632504776120186,\n",
       " 0.21698468923568726,\n",
       " 0.2451481968164444,\n",
       " 0.24559896439313889,\n",
       " 0.22515178471803665,\n",
       " 0.24924912303686142,\n",
       " 0.23511581867933273,\n",
       " 0.23610176146030426,\n",
       " 0.24932322651147842,\n",
       " 0.28869135677814484,\n",
       " 0.24346598237752914,\n",
       " 0.21726517379283905,\n",
       " 0.22326340526342392,\n",
       " 0.21847986429929733,\n",
       " 0.22700180113315582,\n",
       " 0.21999158710241318,\n",
       " 0.2923514023423195,\n",
       " 0.2320580706000328,\n",
       " 0.21894724667072296,\n",
       " 0.204591304063797,\n",
       " 0.250289186835289,\n",
       " 0.2671421319246292,\n",
       " 0.23953405767679214,\n",
       " 0.21411771327257156,\n",
       " 0.20824193209409714,\n",
       " 0.23176834732294083,\n",
       " 0.25889504700899124,\n",
       " 0.20481134206056595,\n",
       " 0.20377158373594284,\n",
       " 0.30907703936100006,\n",
       " 0.22304733097553253,\n",
       " 0.22545169293880463,\n",
       " 0.22879330813884735,\n",
       " 0.18575462698936462,\n",
       " 0.22573492676019669,\n",
       " 0.2712274044752121,\n",
       " 0.2629922702908516,\n",
       " 0.19514990597963333,\n",
       " 0.24731428176164627,\n",
       " 0.23160554468631744,\n",
       " 0.25328630954027176,\n",
       " 0.22513621300458908,\n",
       " 0.22632980346679688,\n",
       " 0.21978465467691422,\n",
       " 0.21091263741254807,\n",
       " 0.19353020191192627,\n",
       " 0.1921544224023819,\n",
       " 0.20307139307260513,\n",
       " 0.2354355752468109,\n",
       " 0.217438742518425,\n",
       " 0.21780358999967575,\n",
       " 0.21479934453964233,\n",
       " 0.24331887066364288,\n",
       " 0.20620262622833252,\n",
       " 0.1911950409412384,\n",
       " 0.21313051134347916,\n",
       " 0.2172747179865837,\n",
       " 0.2104942798614502,\n",
       " 0.22955256700515747,\n",
       " 0.2306196391582489,\n",
       " 0.20237591862678528,\n",
       " 0.18870298564434052,\n",
       " 0.2305910512804985,\n",
       " 0.20170890539884567,\n",
       " 0.2363479807972908,\n",
       " 0.21429888159036636,\n",
       " 0.24240688979625702,\n",
       " 0.23586765676736832,\n",
       " 0.22378909587860107,\n",
       " 0.21111874282360077,\n",
       " 0.21879570186138153,\n",
       " 0.1941903680562973,\n",
       " 0.22076307982206345,\n",
       " 0.17705553770065308,\n",
       " 0.23895514011383057,\n",
       " 0.21124619245529175,\n",
       " 0.1809118092060089,\n",
       " 0.20469117909669876,\n",
       " 0.18734218180179596,\n",
       " 0.21568795293569565,\n",
       " 0.21063487231731415,\n",
       " 0.22127748280763626,\n",
       " 0.2175186276435852,\n",
       " 0.16612181812524796,\n",
       " 0.2024773582816124,\n",
       " 0.22847970575094223,\n",
       " 0.1995956003665924,\n",
       " 0.2085973471403122]"
      ]
     },
     "execution_count": 12,
     "metadata": {},
     "output_type": "execute_result"
    }
   ],
   "source": [
    "train_losses"
   ]
  },
  {
   "cell_type": "code",
   "execution_count": 13,
   "metadata": {},
   "outputs": [
    {
     "data": {
      "text/plain": [
       "[0.2976748824119568,\n",
       " 0.23832754790782928,\n",
       " 0.24265461564064025,\n",
       " 0.24137441217899322,\n",
       " 0.24315072894096373,\n",
       " 0.22930088639259338,\n",
       " 0.24395695626735686,\n",
       " 0.273736509680748,\n",
       " 0.25051693320274354,\n",
       " 0.23929619491100312,\n",
       " 0.23978034555912017,\n",
       " 0.23448716700077057,\n",
       " 0.26102291643619535,\n",
       " 0.26034952998161315,\n",
       " 0.2858524888753891]"
      ]
     },
     "execution_count": 13,
     "metadata": {},
     "output_type": "execute_result"
    }
   ],
   "source": [
    "val_losses"
   ]
  },
  {
   "cell_type": "code",
   "execution_count": 15,
   "metadata": {},
   "outputs": [
    {
     "data": {
      "image/png": "[encoded data removed]",
      "text/plain": [
       "<Figure size 576x360 with 1 Axes>"
      ]
     },
     "metadata": {},
     "output_type": "display_data"
    }
   ],
   "source": [
    "import matplotlib.pyplot as plt\n",
    "import numpy as np\n",
    "\n",
    "\n",
    "fig, ax = plt.subplots(figsize=(8, 5))\n",
    "ax.plot(np.arange(len(train_losses)) / (len(train_losses) // len(val_losses)),train_losses,label='training loss')\n",
    "ax.plot(np.arange(1,len(val_losses)+1) ,np.array(val_losses) + 0.01,label='validation loss')\n",
    "\n",
    "ax.set_xlabel('epoch')\n",
    "ax.set_ylabel('loss value')\n",
    "ax.legend()\n",
    "plt.show()"
   ]
  },
  {
   "cell_type": "code",
   "execution_count": null,
   "metadata": {},
   "outputs": [],
   "source": []
  }
 ],
 "metadata": {
  "kernelspec": {
   "display_name": "Python 3",
   "language": "python",
   "name": "python3"
  },
  "language_info": {
   "codemirror_mode": {
    "name": "ipython",
    "version": 3
   },
   "file_extension": ".py",
   "mimetype": "text/x-python",
   "name": "python",
   "nbconvert_exporter": "python",
   "pygments_lexer": "ipython3",
   "version": "3.6.4"
  }
 },
 "nbformat": 4,
 "nbformat_minor": 2
}
