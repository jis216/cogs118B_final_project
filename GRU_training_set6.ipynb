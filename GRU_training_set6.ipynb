{
 "cells": [
  {
   "cell_type": "code",
   "execution_count": 1,
   "metadata": {},
   "outputs": [],
   "source": [
    "from configs import cfg\n",
    "\n",
    "cfg['input_dim'] = 301 # input dimension to LSTM\n",
    "cfg['hidden_dim'] = 128 # hidden dimension for LSTM\n",
    "cfg['output_dim'] = 1 # output dimension of the model\n",
    "cfg['layers'] = 2 # number of layers of LSTM\n",
    "\n",
    "cfg['dropout'] = 5e-3 # dropout rate between two layers of LSTM; useful only when layers > 1; between 0 and 1\n",
    "cfg['bidirectional'] = True # True or False; True means using a bidirectional LSTM\n",
    "cfg['batch_size'] = 120 # batch size of input\n",
    "cfg['learning_rate'] = 1e-3 # learning rate to be used\n",
    "cfg['L2_penalty'] = 1e-4 # weighting constant for L2 regularization term; this is a parameter when you define optimizer\n",
    "cfg['epochs'] = 10 # number of epochs for which the model is trained\n",
    "cfg['embed'] = False\n",
    "cfg['score_range'] = 4\n",
    "cfg['set_id'] = 6"
   ]
  },
  {
   "cell_type": "code",
   "execution_count": 2,
   "metadata": {},
   "outputs": [],
   "source": [
    "import numpy as np\n",
    "from preprocess import *\n",
    "import pandas as pd\n",
    "\n",
    "train_path = './essay_dataset/training_set_rel3.tsv'\n",
    "training_data = load_training_set(train_path, cfg['set_id'])\n",
    "\n",
    "glove_dict = load_dict('glove.840B.300d.pkl')"
   ]
  },
  {
   "cell_type": "code",
   "execution_count": 3,
   "metadata": {},
   "outputs": [],
   "source": [
    "valid_path = './essay_dataset/valid_set.tsv'\n",
    "valid_label_path = './essay_dataset/valid_sample_submission_2_column.csv'\n",
    "valid_data = load_validation_set(valid_path, valid_label_path, cfg['set_id'])"
   ]
  },
  {
   "cell_type": "code",
   "execution_count": 4,
   "metadata": {},
   "outputs": [],
   "source": [
    "training_data = process_scores(training_data, 'domain1_score')\n",
    "valid_data = process_scores(valid_data, 'domain1_score')"
   ]
  },
  {
   "cell_type": "code",
   "execution_count": 8,
   "metadata": {},
   "outputs": [
    {
     "name": "stdout",
     "output_type": "stream",
     "text": [
      "ready\n"
     ]
    }
   ],
   "source": [
    "from dataloader import *\n",
    "from models import *\n",
    "import time\n",
    "\n",
    "model = GRU_Score(cfg, True)\n",
    "model = model.to(torch.device(cfg['device']))\n",
    "\n",
    "criterion = nn.MSELoss()\n",
    "\n",
    "optimizer = torch.optim.Adam(model.parameters(), lr=cfg['learning_rate'], weight_decay=cfg['L2_penalty'])\n",
    "\n",
    "train_indices = list(range(len(training_data)))\n",
    "valid_indices = list(range(len(valid_data)))\n",
    "\n",
    "print('ready')"
   ]
  },
  {
   "cell_type": "code",
   "execution_count": 9,
   "metadata": {},
   "outputs": [
    {
     "data": {
      "text/plain": [
       "GRU_Score(\n",
       "  (embed_linear): Linear(in_features=301, out_features=301, bias=True)\n",
       "  (gru): GRU(301, 128, num_layers=2, batch_first=True, dropout=0.005, bidirectional=True)\n",
       "  (bn): BatchNorm1d(256, eps=1e-05, momentum=0.1, affine=True, track_running_stats=True)\n",
       "  (fc1): Linear(in_features=256, out_features=1, bias=True)\n",
       ")"
      ]
     },
     "execution_count": 9,
     "metadata": {},
     "output_type": "execute_result"
    }
   ],
   "source": [
    "model.train()"
   ]
  },
  {
   "cell_type": "code",
   "execution_count": 10,
   "metadata": {
    "scrolled": false
   },
   "outputs": [
    {
     "name": "stdout",
     "output_type": "stream",
     "text": [
      "count = 2, loss = 1.67536\n",
      "count = 4, loss = 0.90956\n",
      "count = 6, loss = 0.84955\n",
      "count = 8, loss = 0.63299\n",
      "count = 10, loss = 0.70894\n",
      "count = 12, loss = 0.73851\n",
      "count = 14, loss = 0.67447\n",
      "validation loss: 0.610238641500473\n",
      "epoch finished: 1\n",
      "count = 2, loss = 0.49947\n",
      "count = 4, loss = 0.51012\n",
      "count = 6, loss = 0.51408\n",
      "count = 8, loss = 0.37424\n",
      "count = 10, loss = 0.48992\n",
      "count = 12, loss = 0.45021\n",
      "count = 14, loss = 0.43205\n",
      "validation loss: 0.4022481381893158\n",
      "epoch finished: 2\n",
      "count = 2, loss = 0.37432\n",
      "count = 4, loss = 0.33646\n",
      "count = 6, loss = 0.39781\n",
      "count = 8, loss = 0.31017\n",
      "count = 10, loss = 0.30422\n",
      "count = 12, loss = 0.35200\n",
      "count = 14, loss = 0.24465\n",
      "validation loss: 0.36421615481376646\n",
      "epoch finished: 3\n",
      "count = 2, loss = 0.28293\n",
      "count = 4, loss = 0.22482\n",
      "count = 6, loss = 0.28493\n",
      "count = 8, loss = 0.24036\n",
      "count = 10, loss = 0.26232\n",
      "count = 12, loss = 0.31864\n",
      "count = 14, loss = 0.23873\n",
      "validation loss: 0.432256680727005\n",
      "epoch finished: 4\n",
      "count = 2, loss = 0.27234\n",
      "count = 4, loss = 0.25639\n",
      "count = 6, loss = 0.23861\n",
      "count = 8, loss = 0.29083\n",
      "count = 10, loss = 0.22242\n",
      "count = 12, loss = 0.24578\n",
      "count = 14, loss = 0.23888\n",
      "validation loss: 0.41406593918800355\n",
      "epoch finished: 5\n",
      "count = 2, loss = 0.26279\n",
      "count = 4, loss = 0.25989\n",
      "count = 6, loss = 0.20725\n",
      "count = 8, loss = 0.29476\n",
      "count = 10, loss = 0.22690\n",
      "count = 12, loss = 0.28765\n",
      "count = 14, loss = 0.21526\n",
      "validation loss: 0.42495009303092957\n",
      "epoch finished: 6\n",
      "count = 2, loss = 0.25456\n",
      "count = 4, loss = 0.26897\n",
      "count = 6, loss = 0.21953\n",
      "count = 8, loss = 0.22843\n",
      "count = 10, loss = 0.22230\n",
      "count = 12, loss = 0.26701\n",
      "count = 14, loss = 0.23975\n",
      "validation loss: 0.474969881772995\n",
      "epoch finished: 7\n",
      "count = 2, loss = 0.22927\n",
      "count = 4, loss = 0.21951\n",
      "count = 6, loss = 0.21326\n",
      "count = 8, loss = 0.24550\n",
      "count = 10, loss = 0.21570\n",
      "count = 12, loss = 0.21171\n",
      "count = 14, loss = 0.22100\n",
      "validation loss: 0.461185884475708\n",
      "epoch finished: 8\n",
      "count = 2, loss = 0.21823\n",
      "count = 4, loss = 0.26444\n",
      "count = 6, loss = 0.22197\n",
      "count = 8, loss = 0.20531\n",
      "count = 10, loss = 0.25120\n",
      "count = 12, loss = 0.22749\n",
      "count = 14, loss = 0.20715\n",
      "validation loss: 0.4670137524604797\n",
      "epoch finished: 9\n",
      "count = 2, loss = 0.21278\n",
      "count = 4, loss = 0.23508\n",
      "count = 6, loss = 0.19514\n",
      "count = 8, loss = 0.21955\n",
      "count = 10, loss = 0.21375\n",
      "count = 12, loss = 0.20469\n",
      "count = 14, loss = 0.22347\n",
      "validation loss: 0.5067275106906891\n",
      "epoch finished: 10\n"
     ]
    }
   ],
   "source": [
    "train_losses = []\n",
    "val_losses = []\n",
    "for epoch in range(cfg['epochs']):\n",
    "    tloader = DataLoader(training_data, train_indices, cfg, glove_dict)\n",
    "    vloader = DataLoader(valid_data, valid_indices, cfg, glove_dict)\n",
    "    \n",
    "    count = 0\n",
    "    avg_loss = 0\n",
    "    while tloader.has_next():\n",
    "        train, label, lengths = tloader.get_next()\n",
    "        #print(train.size())\n",
    "        #print(label.size())\n",
    "        #print(lengths.size())\n",
    "        model.zero_grad()\n",
    "        \n",
    "        y = model(train, lengths)      \n",
    "        \n",
    "        loss = criterion(y*cfg['score_range'], label*cfg['score_range'])\n",
    "        loss.backward()\n",
    "        optimizer.step()\n",
    "\n",
    "        count += 1\n",
    "        avg_loss += loss.item()\n",
    "        if count % 2 == 0:\n",
    "            print(\"count = %d, loss = %.5f\" %(count, avg_loss / 2))\n",
    "            save_model(model, 'models/'+'s' + str(cfg['set_id']) + '_ba' +str(cfg['batch_size']) +'e' +  str(epoch + 1) + 'b' + str(count) + '.pt')\n",
    "            train_losses.append(avg_loss/2)\n",
    "            avg_loss = 0\n",
    "        del train, label, y, loss\n",
    "    \n",
    "    count = 0\n",
    "    avg_loss = 0\n",
    "    with torch.no_grad():\n",
    "        while vloader.has_next():\n",
    "            train, label, lengths = vloader.get_next()\n",
    "            y = model(train, lengths)\n",
    "            loss = criterion(y*cfg['score_range'], label*cfg['score_range'])\n",
    "            count += 1\n",
    "            avg_loss += loss.item()\n",
    "            del train, label, y, loss\n",
    "    print('validation loss:', avg_loss / count)\n",
    "    print('epoch finished:', epoch + 1)\n",
    "    val_losses.append(avg_loss/count)\n",
    "    "
   ]
  },
  {
   "cell_type": "code",
   "execution_count": 13,
   "metadata": {},
   "outputs": [],
   "source": [
    "np.save('val_loss_gru_set6.npy', val_losses)\n",
    "np.save('train_loss_gru_set6.npy', train_losses)"
   ]
  },
  {
   "cell_type": "code",
   "execution_count": 18,
   "metadata": {},
   "outputs": [
    {
     "name": "stdout",
     "output_type": "stream",
     "text": [
      "validation MSE: 0.4911575734615326\n",
      "validation MAE: 0.13511062562465667\n",
      "QWK Score: 0.6318619464818869\n"
     ]
    }
   ],
   "source": [
    "from evaluation import QWK_score\n",
    "\n",
    "vloader = DataLoader(valid_data, valid_indices, cfg, glove_dict)\n",
    "count = 0\n",
    "avg_loss = 0\n",
    "MAE = 0\n",
    "targets = []\n",
    "preds = []\n",
    "with torch.no_grad():\n",
    "    while vloader.has_next():\n",
    "        train, label, lenghts = vloader.get_next()\n",
    "        y = model(train, lenghts)\n",
    "        #y = y.permute(0, 2, 1)\n",
    "        #print(label - y)\n",
    "        \n",
    "        loss = criterion(y*cfg['score_range'], label*cfg['score_range'])\n",
    "        \n",
    "        pred = np.round(y.cpu().numpy() * cfg['score_range'])\n",
    "        target = np.round(label.cpu().numpy() * cfg['score_range'])\n",
    "\n",
    "        pred = pred.flatten().astype(int)\n",
    "        target = target.flatten().astype(int)\n",
    "        \n",
    "        targets.append(target)\n",
    "        preds.append(pred)\n",
    "        \n",
    "        #print(targets[0])\n",
    "        #print(preds[0])\n",
    "        \n",
    "        count += 1\n",
    "        avg_loss += loss.item()\n",
    "        MAE += (y-label).abs().mean().item()\n",
    "        \n",
    "        del train, label, y, loss\n",
    "        \n",
    "print('validation MSE:', avg_loss / count)\n",
    "print('validation MAE:', MAE / count)\n",
    "print('QWK Score:', QWK_score(np.asarray(targets).flatten(), np.asarray(preds).flatten(), min_rating = 0, max_rating = cfg['score_range']))"
   ]
  },
  {
   "cell_type": "code",
   "execution_count": 24,
   "metadata": {},
   "outputs": [],
   "source": [
    "model = load_model(LSTM_Score, './models/s6_ba120e13b14.pt', cfg)\n",
    "valid_indices = list(range(len(valid_data)))"
   ]
  },
  {
   "cell_type": "code",
   "execution_count": 17,
   "metadata": {},
   "outputs": [
    {
     "data": {
      "image/png": "[encoded data removed]",
      "text/plain": [
       "<Figure size 576x360 with 1 Axes>"
      ]
     },
     "metadata": {},
     "output_type": "display_data"
    }
   ],
   "source": [
    "import matplotlib.pyplot as plt\n",
    "import numpy as np\n",
    "\n",
    "\n",
    "fig, ax = plt.subplots(figsize=(8, 5))\n",
    "ax.plot(np.arange(len(train_losses)) / (len(train_losses) // len(val_losses)),train_losses,label='training loss')\n",
    "ax.plot(np.arange(1,len(val_losses)+1) ,np.array(val_losses) + 0.01,label='validation loss')\n",
    "\n",
    "ax.set_xlabel('epoch')\n",
    "ax.set_ylabel('loss value')\n",
    "ax.legend()\n",
    "plt.show()"
   ]
  },
  {
   "cell_type": "code",
   "execution_count": 19,
   "metadata": {},
   "outputs": [
    {
     "data": {
      "text/plain": [
       "[array([3, 3, 3, 2, 3, 4, 3, 3, 3, 3, 1, 2, 3, 3, 3, 2, 3, 2, 2, 3, 1, 4,\n",
       "        2, 2, 4, 3, 4, 3, 4, 3, 1, 3, 3, 2, 3, 3, 2, 3, 1, 2, 4, 1, 3, 3,\n",
       "        3, 2, 3, 3, 2, 4, 3, 3, 2, 3, 3, 1, 3, 3, 2, 3, 2, 3, 2, 2, 2, 3,\n",
       "        3, 3, 3, 3, 3, 2, 3, 2, 3, 3, 4, 4, 4, 3, 4, 2, 3, 3, 3, 3, 2, 3,\n",
       "        3, 3, 2, 2, 3, 3, 3, 4, 2, 2, 4, 0, 3, 3, 2, 3, 3, 3, 3, 1, 3, 1,\n",
       "        3, 2, 2, 4, 3, 1, 3, 3, 3, 3]),\n",
       " array([2, 1, 4, 2, 3, 3, 2, 2, 3, 1, 2, 3, 3, 3, 3, 2, 2, 3, 3, 3, 2, 3,\n",
       "        3, 3, 3, 3, 4, 3, 3, 3, 2, 3, 3, 2, 3, 3, 0, 4, 4, 3, 3, 2, 3, 2,\n",
       "        3, 2, 3, 2, 2, 3, 3, 3, 3, 3, 2, 3, 3, 2, 3, 3, 3, 2, 3, 3, 1, 3,\n",
       "        2, 3, 2, 4, 3, 2, 3, 2, 3, 3, 3, 3, 1, 3, 3, 3, 3, 2, 3, 3, 3, 1,\n",
       "        3, 3, 3, 3, 3, 3, 2, 3, 2, 3, 4, 3, 3, 4, 3, 3, 3, 4, 2, 3, 3, 3,\n",
       "        4, 3, 3, 1, 2, 3, 4, 1, 3, 0]),\n",
       " array([4, 3, 3, 3, 3, 3, 3, 2, 2, 3, 3, 2, 3, 1, 3, 3, 2, 3, 4, 4, 2, 2,\n",
       "        3, 2, 3, 1, 4, 2, 3, 3, 4, 3, 3, 3, 1, 3, 1, 1, 3, 2, 4, 4, 3, 2,\n",
       "        2, 3, 3, 3, 4, 2, 3, 3, 2, 4, 3, 3, 3, 3, 3, 2, 3, 2, 3, 4, 3, 3,\n",
       "        2, 4, 3, 2, 4, 3, 4, 3, 3, 3, 4, 3, 3, 3, 2, 3, 2, 2, 2, 1, 2, 3,\n",
       "        3, 3, 1, 3, 3, 1, 3, 4, 1, 4, 3, 3, 4, 2, 2, 3, 3, 4, 4, 3, 3, 3,\n",
       "        3, 2, 1, 3, 3, 3, 3, 0, 1, 2]),\n",
       " array([3, 4, 2, 4, 1, 3, 3, 3, 3, 2, 4, 3, 1, 1, 3, 3, 3, 3, 3, 2, 2, 4,\n",
       "        3, 3, 3, 4, 3, 3, 4, 2, 3, 2, 2, 2, 2, 2, 3, 2, 3, 3, 3, 3, 3, 3,\n",
       "        2, 2, 3, 2, 1, 3, 3, 3, 3, 3, 4, 3, 4, 2, 3, 3, 3, 4, 2, 2, 4, 3,\n",
       "        4, 3, 1, 3, 3, 4, 3, 4, 3, 3, 3, 2, 3, 2, 2, 2, 4, 3, 3, 3, 3, 3,\n",
       "        2, 3, 3, 2, 3, 3, 1, 3, 2, 4, 4, 2, 3, 4, 2, 3, 4, 1, 3, 2, 3, 3,\n",
       "        4, 3, 3, 2, 3, 3, 2, 3, 3, 3]),\n",
       " array([4, 3, 3, 3, 4, 2, 3, 1, 3, 3, 3, 2, 4, 4, 4, 3, 3, 2, 3, 3, 3, 3,\n",
       "        1, 2, 3, 3, 4, 3, 2, 3, 4, 2, 2, 3, 3, 4, 1, 2, 3, 2, 3, 4, 3, 1,\n",
       "        3, 3, 2, 3, 2, 2, 2, 3, 3, 2, 1, 3, 4, 2, 3, 2, 4, 4, 3, 3, 4, 2,\n",
       "        3, 3, 4, 3, 3, 2, 2, 2, 2, 4, 4, 3, 3, 3, 2, 4, 3, 3, 3, 3, 2, 2,\n",
       "        3, 3, 3, 2, 1, 3, 3, 2, 3, 2, 3, 1, 4, 1, 4, 4, 3, 3, 3, 3, 4, 2,\n",
       "        3, 2, 3, 4, 3, 4, 3, 2, 3, 4])]"
      ]
     },
     "execution_count": 19,
     "metadata": {},
     "output_type": "execute_result"
    }
   ],
   "source": [
    "targets"
   ]
  },
  {
   "cell_type": "code",
   "execution_count": 21,
   "metadata": {},
   "outputs": [
    {
     "data": {
      "text/plain": [
       "[array([4, 4, 4, 3, 3, 4, 4, 3, 3, 4, 0, 2, 2, 2, 4, 2, 3, 3, 1, 3, 1, 4,\n",
       "        3, 1, 2, 3, 4, 4, 4, 1, 1, 1, 3, 2, 2, 3, 3, 3, 1, 3, 4, 2, 3, 3,\n",
       "        3, 3, 2, 3, 2, 4, 3, 4, 2, 3, 3, 1, 3, 4, 4, 4, 2, 4, 2, 4, 2, 3,\n",
       "        3, 3, 4, 2, 4, 1, 3, 2, 3, 3, 4, 4, 2, 2, 3, 4, 2, 3, 3, 2, 3, 2,\n",
       "        3, 3, 2, 2, 4, 3, 3, 3, 3, 3, 4, 1, 2, 4, 2, 3, 1, 3, 3, 1, 3, 0,\n",
       "        4, 3, 4, 3, 2, 1, 1, 3, 3, 2]),\n",
       " array([1, 1, 3, 1, 3, 4, 2, 1, 3, 2, 2, 3, 2, 4, 2, 3, 2, 3, 1, 3, 2, 3,\n",
       "        3, 3, 4, 2, 4, 4, 2, 4, 1, 3, 3, 1, 3, 2, 1, 4, 4, 3, 3, 2, 3, 2,\n",
       "        3, 2, 3, 3, 1, 4, 2, 3, 1, 2, 1, 3, 3, 3, 1, 3, 3, 3, 3, 3, 2, 2,\n",
       "        1, 3, 2, 4, 3, 3, 4, 4, 2, 4, 4, 4, 1, 3, 4, 2, 2, 2, 4, 3, 3, 0,\n",
       "        2, 4, 4, 3, 3, 2, 2, 3, 3, 3, 4, 3, 3, 4, 2, 3, 3, 4, 3, 3, 4, 3,\n",
       "        4, 4, 4, 1, 1, 3, 4, 3, 3, 1]),\n",
       " array([3, 2, 3, 3, 3, 3, 2, 1, 2, 3, 4, 2, 3, 1, 2, 4, 3, 2, 4, 3, 2, 1,\n",
       "        3, 3, 3, 1, 4, 3, 3, 3, 4, 3, 3, 4, 1, 3, 1, 1, 4, 2, 4, 3, 4, 3,\n",
       "        3, 3, 2, 4, 1, 2, 3, 4, 2, 4, 3, 3, 3, 3, 4, 2, 4, 3, 2, 3, 3, 3,\n",
       "        1, 3, 3, 3, 1, 3, 4, 2, 3, 4, 2, 3, 4, 3, 2, 3, 2, 2, 2, 2, 2, 3,\n",
       "        3, 2, 2, 3, 3, 1, 2, 4, 1, 2, 3, 3, 4, 2, 4, 3, 3, 4, 4, 4, 3, 4,\n",
       "        4, 2, 2, 3, 3, 3, 3, 1, 1, 2]),\n",
       " array([3, 3, 1, 3, 1, 1, 4, 3, 2, 1, 4, 3, 2, 2, 3, 4, 4, 4, 3, 3, 2, 4,\n",
       "        3, 4, 3, 4, 2, 3, 4, 3, 4, 3, 1, 1, 2, 1, 3, 3, 3, 3, 3, 2, 3, 3,\n",
       "        3, 1, 3, 2, 1, 3, 4, 3, 3, 3, 4, 3, 4, 1, 3, 4, 2, 4, 3, 2, 4, 3,\n",
       "        3, 3, 1, 1, 1, 3, 3, 4, 4, 3, 3, 2, 2, 3, 1, 2, 3, 3, 3, 3, 3, 2,\n",
       "        1, 3, 4, 1, 3, 4, 1, 2, 2, 4, 4, 2, 2, 3, 1, 2, 4, 1, 2, 2, 3, 2,\n",
       "        4, 3, 3, 3, 3, 3, 2, 3, 3, 3]),\n",
       " array([2, 4, 3, 4, 3, 3, 4, 2, 4, 3, 3, 3, 4, 3, 4, 3, 3, 2, 4, 4, 3, 3,\n",
       "        1, 2, 2, 2, 4, 2, 3, 3, 4, 2, 3, 3, 2, 4, 1, 1, 3, 3, 3, 4, 3, 1,\n",
       "        4, 3, 1, 2, 1, 1, 1, 3, 3, 1, 1, 4, 4, 2, 3, 2, 4, 4, 3, 3, 4, 2,\n",
       "        2, 3, 4, 2, 3, 1, 2, 2, 2, 4, 4, 2, 3, 3, 3, 3, 4, 3, 3, 3, 2, 2,\n",
       "        3, 4, 3, 2, 2, 3, 3, 2, 3, 2, 2, 2, 4, 1, 4, 4, 2, 3, 1, 4, 3, 3,\n",
       "        4, 3, 3, 3, 3, 3, 3, 1, 2, 3])]"
      ]
     },
     "execution_count": 21,
     "metadata": {},
     "output_type": "execute_result"
    }
   ],
   "source": [
    "preds"
   ]
  },
  {
   "cell_type": "code",
   "execution_count": 22,
   "metadata": {},
   "outputs": [
    {
     "data": {
      "text/plain": [
       "[1.6753589510917664,\n",
       " 0.9095585942268372,\n",
       " 0.849550873041153,\n",
       " 0.6329919099807739,\n",
       " 0.7089409232139587,\n",
       " 0.7385136485099792,\n",
       " 0.6744676530361176,\n",
       " 0.49946871399879456,\n",
       " 0.5101154893636703,\n",
       " 0.5140819251537323,\n",
       " 0.3742351531982422,\n",
       " 0.4899158328771591,\n",
       " 0.45020730793476105,\n",
       " 0.4320537894964218,\n",
       " 0.37432482838630676,\n",
       " 0.33646394312381744,\n",
       " 0.39780913293361664,\n",
       " 0.3101668804883957,\n",
       " 0.3042243868112564,\n",
       " 0.35199765861034393,\n",
       " 0.2446512207388878,\n",
       " 0.2829260379076004,\n",
       " 0.22481632232666016,\n",
       " 0.2849317491054535,\n",
       " 0.2403634786605835,\n",
       " 0.26231979578733444,\n",
       " 0.31864018738269806,\n",
       " 0.23872682452201843,\n",
       " 0.2723357230424881,\n",
       " 0.2563934326171875,\n",
       " 0.23861055821180344,\n",
       " 0.29083390533924103,\n",
       " 0.22241686284542084,\n",
       " 0.24578320980072021,\n",
       " 0.23887570947408676,\n",
       " 0.26279178261756897,\n",
       " 0.25989236682653427,\n",
       " 0.20724693685770035,\n",
       " 0.2947622388601303,\n",
       " 0.22690065950155258,\n",
       " 0.28764647245407104,\n",
       " 0.2152605727314949,\n",
       " 0.25456100702285767,\n",
       " 0.2689730152487755,\n",
       " 0.21952970325946808,\n",
       " 0.22842787206172943,\n",
       " 0.22229666262865067,\n",
       " 0.2670092433691025,\n",
       " 0.23974861949682236,\n",
       " 0.2292705401778221,\n",
       " 0.21951250731945038,\n",
       " 0.21326234936714172,\n",
       " 0.24550113826990128,\n",
       " 0.21570200473070145,\n",
       " 0.21171172708272934,\n",
       " 0.22099967300891876,\n",
       " 0.2182316780090332,\n",
       " 0.26444175094366074,\n",
       " 0.22197316586971283,\n",
       " 0.20530810952186584,\n",
       " 0.2512008249759674,\n",
       " 0.22749273478984833,\n",
       " 0.20715100318193436,\n",
       " 0.21277588605880737,\n",
       " 0.2350802645087242,\n",
       " 0.1951448768377304,\n",
       " 0.21955180168151855,\n",
       " 0.21374905854463577,\n",
       " 0.20468852669000626,\n",
       " 0.22347446531057358]"
      ]
     },
     "execution_count": 22,
     "metadata": {},
     "output_type": "execute_result"
    }
   ],
   "source": [
    "train_losses"
   ]
  },
  {
   "cell_type": "code",
   "execution_count": 23,
   "metadata": {},
   "outputs": [
    {
     "data": {
      "text/plain": [
       "[0.610238641500473,\n",
       " 0.4022481381893158,\n",
       " 0.36421615481376646,\n",
       " 0.432256680727005,\n",
       " 0.41406593918800355,\n",
       " 0.42495009303092957,\n",
       " 0.474969881772995,\n",
       " 0.461185884475708,\n",
       " 0.4670137524604797,\n",
       " 0.5067275106906891]"
      ]
     },
     "execution_count": 23,
     "metadata": {},
     "output_type": "execute_result"
    }
   ],
   "source": [
    "val_losses"
   ]
  },
  {
   "cell_type": "code",
   "execution_count": null,
   "metadata": {},
   "outputs": [],
   "source": []
  }
 ],
 "metadata": {
  "kernelspec": {
   "display_name": "Python 3",
   "language": "python",
   "name": "python3"
  },
  "language_info": {
   "codemirror_mode": {
    "name": "ipython",
    "version": 3
   },
   "file_extension": ".py",
   "mimetype": "text/x-python",
   "name": "python",
   "nbconvert_exporter": "python",
   "pygments_lexer": "ipython3",
   "version": "3.6.4"
  }
 },
 "nbformat": 4,
 "nbformat_minor": 2
}
