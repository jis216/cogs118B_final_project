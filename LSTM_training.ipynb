{
 "cells": [
  {
   "cell_type": "code",
   "execution_count": 1,
   "metadata": {},
   "outputs": [],
   "source": [
    "import numpy as np\n",
    "training_data = np.load('/datasets/home/32/032/sugao/CSE190/pa4/train.npy')"
   ]
  },
  {
   "cell_type": "code",
   "execution_count": 2,
   "metadata": {},
   "outputs": [
    {
     "name": "stdout",
     "output_type": "stream",
     "text": [
      "ready\n"
     ]
    }
   ],
   "source": [
    "from dataloader import *\n",
    "from models import *\n",
    "#from configs import cfg\n",
    "import time\n",
    "\n",
    "cfg = {}\n",
    "cfg['input_dim'] = 204 # input dimension to LSTM\n",
    "cfg['hidden_dim'] = 128 # hidden dimension for LSTM\n",
    "cfg['output_dim'] = 99 # output dimension of the model\n",
    "cfg['layers'] = 2 # number of layers of LSTM\n",
    "cfg['dropout'] = 0.005 # dropout rate between two layers of LSTM; useful only when layers > 1; between 0 and 1\n",
    "cfg['bidirectional'] = False # True or False; True means using a bidirectional LSTM\n",
    "cfg['batch_size'] = 150 # batch size of input\n",
    "cfg['learning_rate'] = 5e-4 # learning rate to be used\n",
    "cfg['L2_penalty'] = 1e-5 # weighting constant for L2 regularization term; this is a parameter when you define optimizer\n",
    "cfg['gen_temp'] = 0.01 # temperature to use while generating reviews\n",
    "cfg['max_len'] = 2000 # maximum character length of the generated reviews\n",
    "cfg['epochs'] = 6 # number of epochs for which the model is trained\n",
    "cfg['cuda'] = True #True or False depending whether you want to run your model on a GPU or not. If you set this to True, make sure to start a GPU pod on ieng6 server\n",
    "cfg['train'] = True # True or False; True denotes that the model is bein deployed in training mode, False means the model is not being used to generate reviews\n",
    "cfg['train_split'] = 0.8\n",
    "cfg['device'] = 'cuda'\n",
    "\n",
    "model = BeerLstmMind(cfg, True)\n",
    "model = model.to(torch.device(cfg['device']))\n",
    "criterion = nn.CrossEntropyLoss()\n",
    "optimizer = torch.optim.RMSprop(model.parameters(), lr=cfg['learning_rate'], weight_decay=cfg['L2_penalty'])\n",
    "train_indices, valid_indices = train_valid_split(len(training_data), cfg['train_split'])\n",
    "np.save('val2.npy', valid_indices)\n",
    "print('ready')"
   ]
  },
  {
   "cell_type": "code",
   "execution_count": 3,
   "metadata": {
    "scrolled": false
   },
   "outputs": [
    {
     "name": "stdout",
     "output_type": "stream",
     "text": [
      "count = 100, loss = 1.13751\n",
      "count = 200, loss = 0.90282\n",
      "count = 300, loss = 0.87040\n",
      "count = 400, loss = 0.93317\n",
      "count = 500, loss = 0.87822\n",
      "count = 600, loss = 0.80013\n",
      "count = 700, loss = 0.73488\n",
      "count = 800, loss = 0.71735\n",
      "count = 900, loss = 0.68227\n",
      "count = 1000, loss = 0.65094\n",
      "count = 1100, loss = 0.67153\n",
      "count = 1200, loss = 0.61712\n",
      "count = 1300, loss = 0.59793\n",
      "count = 1400, loss = 0.57281\n",
      "count = 1500, loss = 0.55068\n",
      "count = 1600, loss = 0.52966\n",
      "count = 1700, loss = 0.50706\n",
      "count = 1800, loss = 0.49406\n",
      "count = 1900, loss = 0.47140\n",
      "count = 2000, loss = 0.46135\n",
      "count = 2100, loss = 0.48029\n",
      "count = 2200, loss = 0.44616\n",
      "count = 2300, loss = 0.45807\n",
      "count = 2400, loss = 0.43263\n",
      "count = 2500, loss = 0.42324\n",
      "count = 2600, loss = 0.41414\n",
      "count = 2700, loss = 0.41976\n",
      "count = 2800, loss = 0.42209\n",
      "count = 2900, loss = 0.41599\n",
      "count = 3000, loss = 0.40216\n",
      "count = 3100, loss = 0.41158\n"
     ]
    },
    {
     "ename": "KeyboardInterrupt",
     "evalue": "",
     "output_type": "error",
     "traceback": [
      "\u001b[0;31m\u001b[0m",
      "\u001b[0;31mKeyboardInterrupt\u001b[0mTraceback (most recent call last)",
      "\u001b[0;32m<ipython-input-3-ce27a8c516df>\u001b[0m in \u001b[0;36m<module>\u001b[0;34m()\u001b[0m\n\u001b[1;32m     21\u001b[0m \u001b[0;34m\u001b[0m\u001b[0m\n\u001b[1;32m     22\u001b[0m        \u001b[0mloss\u001b[0m \u001b[0;34m=\u001b[0m \u001b[0mcriterion\u001b[0m\u001b[0;34m(\u001b[0m\u001b[0my\u001b[0m\u001b[0;34m,\u001b[0m \u001b[0mlabel\u001b[0m\u001b[0;34m)\u001b[0m\u001b[0;34m\u001b[0m\u001b[0m\n\u001b[0;32m---> 23\u001b[0;31m        \u001b[0mloss\u001b[0m\u001b[0;34m.\u001b[0m\u001b[0mbackward\u001b[0m\u001b[0;34m(\u001b[0m\u001b[0;34m)\u001b[0m\u001b[0;34m\u001b[0m\u001b[0m\n\u001b[0m\u001b[1;32m     24\u001b[0m        \u001b[0moptimizer\u001b[0m\u001b[0;34m.\u001b[0m\u001b[0mstep\u001b[0m\u001b[0;34m(\u001b[0m\u001b[0;34m)\u001b[0m\u001b[0;34m\u001b[0m\u001b[0m\n\u001b[1;32m     25\u001b[0m \u001b[0;34m\u001b[0m\u001b[0m\n",
      "\u001b[0;32m/opt/conda/lib/python3.6/site-packages/torch/tensor.py\u001b[0m in \u001b[0;36mbackward\u001b[0;34m(self, gradient, retain_graph, create_graph)\u001b[0m\n\u001b[1;32m     91\u001b[0m                 \u001b[0mproducts\u001b[0m\u001b[0;34m.\u001b[0m \u001b[0mDefaults\u001b[0m \u001b[0mto\u001b[0m\u001b[0;31m \u001b[0m\u001b[0;31m`\u001b[0m\u001b[0;31m`\u001b[0m\u001b[0;32mFalse\u001b[0m\u001b[0;31m`\u001b[0m\u001b[0;31m`\u001b[0m\u001b[0;34m.\u001b[0m\u001b[0;34m\u001b[0m\u001b[0m\n\u001b[1;32m     92\u001b[0m         \"\"\"\n\u001b[0;32m---> 93\u001b[0;31m         \u001b[0mtorch\u001b[0m\u001b[0;34m.\u001b[0m\u001b[0mautograd\u001b[0m\u001b[0;34m.\u001b[0m\u001b[0mbackward\u001b[0m\u001b[0;34m(\u001b[0m\u001b[0mself\u001b[0m\u001b[0;34m,\u001b[0m \u001b[0mgradient\u001b[0m\u001b[0;34m,\u001b[0m \u001b[0mretain_graph\u001b[0m\u001b[0;34m,\u001b[0m \u001b[0mcreate_graph\u001b[0m\u001b[0;34m)\u001b[0m\u001b[0;34m\u001b[0m\u001b[0m\n\u001b[0m\u001b[1;32m     94\u001b[0m \u001b[0;34m\u001b[0m\u001b[0m\n\u001b[1;32m     95\u001b[0m     \u001b[0;32mdef\u001b[0m \u001b[0mregister_hook\u001b[0m\u001b[0;34m(\u001b[0m\u001b[0mself\u001b[0m\u001b[0;34m,\u001b[0m \u001b[0mhook\u001b[0m\u001b[0;34m)\u001b[0m\u001b[0;34m:\u001b[0m\u001b[0;34m\u001b[0m\u001b[0m\n",
      "\u001b[0;32m/opt/conda/lib/python3.6/site-packages/torch/autograd/__init__.py\u001b[0m in \u001b[0;36mbackward\u001b[0;34m(tensors, grad_tensors, retain_graph, create_graph, grad_variables)\u001b[0m\n\u001b[1;32m     87\u001b[0m     Variable._execution_engine.run_backward(\n\u001b[1;32m     88\u001b[0m         \u001b[0mtensors\u001b[0m\u001b[0;34m,\u001b[0m \u001b[0mgrad_tensors\u001b[0m\u001b[0;34m,\u001b[0m \u001b[0mretain_graph\u001b[0m\u001b[0;34m,\u001b[0m \u001b[0mcreate_graph\u001b[0m\u001b[0;34m,\u001b[0m\u001b[0;34m\u001b[0m\u001b[0m\n\u001b[0;32m---> 89\u001b[0;31m         allow_unreachable=True)  # allow_unreachable flag\n\u001b[0m\u001b[1;32m     90\u001b[0m \u001b[0;34m\u001b[0m\u001b[0m\n\u001b[1;32m     91\u001b[0m \u001b[0;34m\u001b[0m\u001b[0m\n",
      "\u001b[0;31mKeyboardInterrupt\u001b[0m: "
     ]
    }
   ],
   "source": [
    " for epoch in range(cfg['epochs']):\n",
    "    tloader = DataLoader(training_data, train_indices, cfg)\n",
    "    vloader = DataLoader(training_data, valid_indices, cfg)\n",
    "    \n",
    "    count = 0\n",
    "    avg_loss = 0\n",
    "    while tloader.has_next():\n",
    "        #start = time.perf_counter()\n",
    "        train, label = tloader.get_next()\n",
    "        #end = time.perf_counter()\n",
    "        #print('get train & label', end - start)\n",
    "        \n",
    "        model.zero_grad()\n",
    "        \n",
    "        #start = time.perf_counter()\n",
    "        y = model(train)\n",
    "        #end = time.perf_counter()\n",
    "        #print('train', end - start)\n",
    "        \n",
    "        y = y.permute(0, 2, 1)\n",
    "        \n",
    "        loss = criterion(y, label)\n",
    "        loss.backward()\n",
    "        optimizer.step()\n",
    "\n",
    "        count += 1\n",
    "        avg_loss += loss.item()\n",
    "        if count % 100 == 0:\n",
    "            print(\"count = %d, loss = %.5f\" %(count, avg_loss / 100))\n",
    "            save_model(model, 'models2/e' + str(epoch + 1) + 'b' + str(count) + '.pt')\n",
    "            avg_loss = 0\n",
    "        del train, label, y, loss\n",
    "    # print('training loss:', avg_loss / count)\n",
    "    \n",
    "    count = 0\n",
    "    avg_loss = 0\n",
    "    with torch.no_grad():\n",
    "        while vloader.has_next():\n",
    "            train, label = vloader.get_next()\n",
    "            y = model(train)\n",
    "            y = y.permute(0, 2, 1)\n",
    "            loss = criterion(y, label)\n",
    "            count += 1\n",
    "            avg_loss += loss.item()\n",
    "            del train, label, y, loss\n",
    "    print('validation loss:', avg_loss / count)\n",
    "    print('epoch finished:', epoch + 1)\n",
    "    "
   ]
  },
  {
   "cell_type": "code",
   "execution_count": null,
   "metadata": {},
   "outputs": [],
   "source": []
  },
  {
   "cell_type": "code",
   "execution_count": null,
   "metadata": {},
   "outputs": [],
   "source": []
  }
 ],
 "metadata": {
  "kernelspec": {
   "display_name": "Python 3",
   "language": "python",
   "name": "python3"
  },
  "language_info": {
   "codemirror_mode": {
    "name": "ipython",
    "version": 3
   },
   "file_extension": ".py",
   "mimetype": "text/x-python",
   "name": "python",
   "nbconvert_exporter": "python",
   "pygments_lexer": "ipython3",
   "version": "3.6.4"
  }
 },
 "nbformat": 4,
 "nbformat_minor": 2
}
