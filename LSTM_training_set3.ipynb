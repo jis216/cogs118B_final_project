{
 "cells": [
  {
   "cell_type": "code",
   "execution_count": 1,
   "metadata": {},
   "outputs": [],
   "source": [
    "from configs import cfg\n",
    "\n",
    "cfg['input_dim'] = 301 # input dimension to LSTM\n",
    "cfg['hidden_dim'] = 128 # hidden dimension for LSTM\n",
    "cfg['output_dim'] = 1 # output dimension of the model\n",
    "cfg['layers'] = 2 # number of layers of LSTM\n",
    "\n",
    "cfg['dropout'] = 5e-3 # dropout rate between two layers of LSTM; useful only when layers > 1; between 0 and 1\n",
    "cfg['bidirectional'] = True # True or False; True means using a bidirectional LSTM\n",
    "cfg['batch_size'] = 120 # batch size of input\n",
    "cfg['learning_rate'] = 1e-3 # learning rate to be used\n",
    "cfg['L2_penalty'] = 1e-4 # weighting constant for L2 regularization term; this is a parameter when you define optimizer\n",
    "cfg['epochs'] = 15 # number of epochs for which the model is trained\n",
    "cfg['embed'] = False\n",
    "cfg['score_range'] = 3\n",
    "cfg['set_id'] = 3"
   ]
  },
  {
   "cell_type": "code",
   "execution_count": 2,
   "metadata": {},
   "outputs": [],
   "source": [
    "import numpy as np\n",
    "from preprocess import *\n",
    "import pandas as pd\n",
    "\n",
    "train_path = './essay_dataset/training_set_rel3.tsv'\n",
    "training_data = load_training_set(train_path, cfg['set_id'])\n",
    "\n",
    "glove_dict = load_dict('glove.840B.300d.pkl')"
   ]
  },
  {
   "cell_type": "code",
   "execution_count": 3,
   "metadata": {},
   "outputs": [],
   "source": [
    "valid_path = './essay_dataset/valid_set.tsv'\n",
    "valid_label_path = './essay_dataset/valid_sample_submission_2_column.csv'\n",
    "valid_data = load_validation_set(valid_path, valid_label_path, cfg['set_id'])"
   ]
  },
  {
   "cell_type": "code",
   "execution_count": 4,
   "metadata": {},
   "outputs": [],
   "source": [
    "training_data = process_scores(training_data, 'domain1_score')\n",
    "valid_data = process_scores(valid_data, 'domain1_score')"
   ]
  },
  {
   "cell_type": "code",
   "execution_count": 5,
   "metadata": {},
   "outputs": [
    {
     "name": "stdout",
     "output_type": "stream",
     "text": [
      "ready\n"
     ]
    }
   ],
   "source": [
    "from dataloader import *\n",
    "from models import *\n",
    "import time\n",
    "\n",
    "model = LSTM_Score(cfg, True)\n",
    "model = model.to(torch.device(cfg['device']))\n",
    "\n",
    "criterion = nn.MSELoss()\n",
    "\n",
    "#optimizer = torch.optim.RMSprop(model.parameters(), lr=cfg['learning_rate'], weight_decay=cfg['L2_penalty'])\n",
    "optimizer = torch.optim.Adam(model.parameters(), lr=cfg['learning_rate'], weight_decay=cfg['L2_penalty'])\n",
    "#optimizer = torch.optim.Adadelta(model.parameters(), lr=cfg['learning_rate'], weight_decay=cfg['L2_penalty'])\n",
    "\n",
    "train_indices = list(range(len(training_data)))\n",
    "valid_indices = list(range(len(valid_data)))\n",
    "\n",
    "print('ready')"
   ]
  },
  {
   "cell_type": "code",
   "execution_count": 6,
   "metadata": {},
   "outputs": [
    {
     "data": {
      "text/plain": [
       "LSTM_Score(\n",
       "  (embed_linear): Linear(in_features=301, out_features=301, bias=True)\n",
       "  (lstm): LSTM(301, 128, num_layers=2, batch_first=True, dropout=0.005, bidirectional=True)\n",
       "  (bn): BatchNorm1d(256, eps=1e-05, momentum=0.1, affine=True, track_running_stats=True)\n",
       "  (fc1): Linear(in_features=256, out_features=1, bias=True)\n",
       ")"
      ]
     },
     "execution_count": 6,
     "metadata": {},
     "output_type": "execute_result"
    }
   ],
   "source": [
    "model.train()"
   ]
  },
  {
   "cell_type": "code",
   "execution_count": 7,
   "metadata": {
    "scrolled": false
   },
   "outputs": [
    {
     "name": "stdout",
     "output_type": "stream",
     "text": [
      "count = 2, loss = 0.70360\n",
      "count = 4, loss = 0.70884\n",
      "count = 6, loss = 0.32025\n",
      "count = 8, loss = 0.47326\n",
      "count = 10, loss = 0.32392\n",
      "count = 12, loss = 0.38961\n",
      "count = 14, loss = 0.36599\n",
      "validation loss: 0.3000406362116337\n",
      "epoch finished: 1\n",
      "count = 2, loss = 0.33911\n",
      "count = 4, loss = 0.37798\n",
      "count = 6, loss = 0.31899\n",
      "count = 8, loss = 0.34179\n",
      "count = 10, loss = 0.28248\n",
      "count = 12, loss = 0.32906\n",
      "count = 14, loss = 0.31596\n",
      "validation loss: 0.24380934983491898\n",
      "epoch finished: 2\n",
      "count = 2, loss = 0.29814\n",
      "count = 4, loss = 0.31534\n",
      "count = 6, loss = 0.29570\n",
      "count = 8, loss = 0.29868\n",
      "count = 10, loss = 0.27351\n",
      "count = 12, loss = 0.25751\n",
      "count = 14, loss = 0.37781\n",
      "validation loss: 0.23867466673254967\n",
      "epoch finished: 3\n",
      "count = 2, loss = 0.29023\n",
      "count = 4, loss = 0.32752\n",
      "count = 6, loss = 0.28630\n",
      "count = 8, loss = 0.34693\n",
      "count = 10, loss = 0.28596\n",
      "count = 12, loss = 0.30040\n",
      "count = 14, loss = 0.24802\n",
      "validation loss: 0.21604442968964577\n",
      "epoch finished: 4\n",
      "count = 2, loss = 0.29830\n",
      "count = 4, loss = 0.30500\n",
      "count = 6, loss = 0.29052\n",
      "count = 8, loss = 0.31294\n",
      "count = 10, loss = 0.24794\n",
      "count = 12, loss = 0.29709\n",
      "count = 14, loss = 0.27029\n",
      "validation loss: 0.24048414081335068\n",
      "epoch finished: 5\n",
      "count = 2, loss = 0.26283\n",
      "count = 4, loss = 0.27224\n",
      "count = 6, loss = 0.24929\n",
      "count = 8, loss = 0.33036\n",
      "count = 10, loss = 0.30339\n",
      "count = 12, loss = 0.32326\n",
      "count = 14, loss = 0.29129\n",
      "validation loss: 0.2504417225718498\n",
      "epoch finished: 6\n",
      "count = 2, loss = 0.21056\n",
      "count = 4, loss = 0.31175\n",
      "count = 6, loss = 0.32756\n",
      "count = 8, loss = 0.28487\n",
      "count = 10, loss = 0.29646\n",
      "count = 12, loss = 0.26235\n",
      "count = 14, loss = 0.31124\n",
      "validation loss: 0.23747705668210983\n",
      "epoch finished: 7\n",
      "count = 2, loss = 0.31191\n",
      "count = 4, loss = 0.23206\n",
      "count = 6, loss = 0.32392\n",
      "count = 8, loss = 0.27052\n",
      "count = 10, loss = 0.27852\n",
      "count = 12, loss = 0.24320\n",
      "count = 14, loss = 0.28237\n",
      "validation loss: 0.23698820918798447\n",
      "epoch finished: 8\n",
      "count = 2, loss = 0.32104\n",
      "count = 4, loss = 0.27011\n",
      "count = 6, loss = 0.27330\n",
      "count = 8, loss = 0.23996\n",
      "count = 10, loss = 0.29754\n",
      "count = 12, loss = 0.31168\n",
      "count = 14, loss = 0.27041\n",
      "validation loss: 0.22746693715453148\n",
      "epoch finished: 9\n",
      "count = 2, loss = 0.22945\n",
      "count = 4, loss = 0.27736\n",
      "count = 6, loss = 0.26934\n",
      "count = 8, loss = 0.31625\n",
      "count = 10, loss = 0.26466\n",
      "count = 12, loss = 0.32946\n",
      "count = 14, loss = 0.25813\n",
      "validation loss: 0.28365813568234444\n",
      "epoch finished: 10\n",
      "count = 2, loss = 0.27919\n",
      "count = 4, loss = 0.26880\n",
      "count = 6, loss = 0.28280\n",
      "count = 8, loss = 0.23194\n",
      "count = 10, loss = 0.29103\n",
      "count = 12, loss = 0.27546\n",
      "count = 14, loss = 0.26098\n",
      "validation loss: 0.24252422899007797\n",
      "epoch finished: 11\n",
      "count = 2, loss = 0.21298\n",
      "count = 4, loss = 0.24794\n",
      "count = 6, loss = 0.26149\n",
      "count = 8, loss = 0.25755\n",
      "count = 10, loss = 0.31660\n",
      "count = 12, loss = 0.29639\n",
      "count = 14, loss = 0.28263\n",
      "validation loss: 0.2523878514766693\n",
      "epoch finished: 12\n",
      "count = 2, loss = 0.20333\n",
      "count = 4, loss = 0.22422\n",
      "count = 6, loss = 0.30202\n",
      "count = 8, loss = 0.28365\n",
      "count = 10, loss = 0.23531\n",
      "count = 12, loss = 0.30954\n",
      "count = 14, loss = 0.28128\n",
      "validation loss: 0.21481895819306374\n",
      "epoch finished: 13\n",
      "count = 2, loss = 0.21724\n",
      "count = 4, loss = 0.24049\n",
      "count = 6, loss = 0.25921\n",
      "count = 8, loss = 0.25090\n",
      "count = 10, loss = 0.22685\n",
      "count = 12, loss = 0.26698\n",
      "count = 14, loss = 0.32009\n",
      "validation loss: 0.2818608433008194\n",
      "epoch finished: 14\n",
      "count = 2, loss = 0.28150\n",
      "count = 4, loss = 0.26609\n",
      "count = 6, loss = 0.25714\n",
      "count = 8, loss = 0.23927\n",
      "count = 10, loss = 0.23942\n",
      "count = 12, loss = 0.30885\n",
      "count = 14, loss = 0.23222\n",
      "validation loss: 0.22702880576252937\n",
      "epoch finished: 15\n"
     ]
    }
   ],
   "source": [
    "train_losses = []\n",
    "val_losses = []\n",
    "for epoch in range(cfg['epochs']):\n",
    "    tloader = DataLoader(training_data, train_indices, cfg, glove_dict)\n",
    "    vloader = DataLoader(valid_data, valid_indices, cfg, glove_dict)\n",
    "    \n",
    "    count = 0\n",
    "    avg_loss = 0\n",
    "    while tloader.has_next():\n",
    "        train, label, lengths = tloader.get_next()\n",
    "        #print(train.size())\n",
    "        #print(label.size())\n",
    "        #print(lengths.size())\n",
    "        model.zero_grad()\n",
    "        \n",
    "        y = model(train, lengths)      \n",
    "        \n",
    "        loss = criterion(y*cfg['score_range'], label*cfg['score_range'])\n",
    "        loss.backward()\n",
    "        optimizer.step()\n",
    "\n",
    "        count += 1\n",
    "        avg_loss += loss.item()\n",
    "        if count % 2 == 0:\n",
    "            print(\"count = %d, loss = %.5f\" %(count, avg_loss / 2))\n",
    "            save_model(model, 'models/'+'s' + str(cfg['set_id']) + '_ba' +str(cfg['batch_size']) +'e' +  str(epoch + 1) + 'b' + str(count) + '.pt')\n",
    "            train_losses.append(avg_loss/2)\n",
    "            avg_loss = 0\n",
    "        del train, label, y, loss\n",
    "    \n",
    "    count = 0\n",
    "    avg_loss = 0\n",
    "    with torch.no_grad():\n",
    "        while vloader.has_next():\n",
    "            train, label, lengths = vloader.get_next()\n",
    "            y = model(train, lengths)\n",
    "            loss = criterion(y*cfg['score_range'], label*cfg['score_range'])\n",
    "            count += 1\n",
    "            avg_loss += loss.item()\n",
    "            del train, label, y, loss\n",
    "    print('validation loss:', avg_loss / count)\n",
    "    print('epoch finished:', epoch + 1)\n",
    "    val_losses.append(avg_loss/count)\n",
    "    "
   ]
  },
  {
   "cell_type": "code",
   "execution_count": 8,
   "metadata": {},
   "outputs": [],
   "source": [
    "np.save('val_loss_set3.npy', val_losses)\n",
    "np.save('train_loss_set3.npy', train_losses)"
   ]
  },
  {
   "cell_type": "code",
   "execution_count": 10,
   "metadata": {},
   "outputs": [
    {
     "name": "stdout",
     "output_type": "stream",
     "text": [
      "validation MSE: 0.22859857603907585\n",
      "validation MAE: 0.12602121755480766\n",
      "QWK Score: 0.7511271415689811\n"
     ]
    }
   ],
   "source": [
    "from evaluation import QWK_score\n",
    "\n",
    "vloader = DataLoader(valid_data, valid_indices, cfg, glove_dict)\n",
    "count = 0\n",
    "avg_loss = 0\n",
    "MAE = 0\n",
    "targets = []\n",
    "preds = []\n",
    "with torch.no_grad():\n",
    "    while vloader.has_next():\n",
    "        train, label, lenghts = vloader.get_next()\n",
    "        y = model(train, lenghts)\n",
    "        #y = y.permute(0, 2, 1)\n",
    "        #print(label - y)\n",
    "        \n",
    "        loss = criterion(y*cfg['score_range'], label*cfg['score_range'])\n",
    "        \n",
    "        pred = np.round(y.cpu().numpy() * cfg['score_range'])\n",
    "        target = np.round(label.cpu().numpy() * cfg['score_range'])\n",
    "\n",
    "        pred = pred.flatten().astype(int)\n",
    "        target = target.flatten().astype(int)\n",
    "        \n",
    "        targets.append(target)\n",
    "        preds.append(pred)\n",
    "        \n",
    "        #print(targets[0])\n",
    "        #print(preds[0])\n",
    "        \n",
    "        count += 1\n",
    "        avg_loss += loss.item()\n",
    "        MAE += (y-label).abs().mean().item()\n",
    "        \n",
    "        del train, label, y, loss\n",
    "        \n",
    "print('validation MSE:', avg_loss / count)\n",
    "print('validation MAE:', MAE / count)\n",
    "print('QWK Score:', QWK_score(np.asarray(targets).flatten(), np.asarray(preds).flatten(), min_rating = 0, max_rating = cfg['score_range']))"
   ]
  },
  {
   "cell_type": "code",
   "execution_count": 11,
   "metadata": {},
   "outputs": [
    {
     "data": {
      "text/plain": [
       "[array([2, 2, 1, 1, 1, 2, 2, 1, 2, 2, 2, 1, 3, 3, 2, 2, 3, 1, 1, 3, 2, 1,\n",
       "        2, 2, 1, 2, 3, 2, 3, 1, 2, 3, 3, 1, 1, 1, 1, 2, 3, 1, 2, 3, 2, 2,\n",
       "        3, 1, 2, 1, 2, 2, 2, 2, 1, 1, 2, 2, 1, 2, 2, 3, 1, 1, 2, 2, 1, 2,\n",
       "        2, 2, 2, 1, 3, 3, 2, 2, 2, 1, 1, 3, 1, 2, 3, 3, 3, 2, 1, 3, 1, 0,\n",
       "        2, 3, 2, 3, 1, 2, 2, 2, 2, 2, 1, 1, 2, 1, 3, 3, 2, 3, 1, 2, 2, 3,\n",
       "        3, 3, 3, 1, 1, 0, 2, 1, 3, 2]),\n",
       " array([3, 2, 1, 2, 2, 1, 1, 1, 1, 1, 1, 3, 1, 3, 2, 2, 2, 3, 2, 2, 3, 2,\n",
       "        1, 2, 3, 2, 1, 3, 3, 1, 1, 1, 2, 2, 2, 2, 3, 3, 3, 2, 1, 2, 1, 2,\n",
       "        3, 2, 1, 1, 3, 1, 3, 1, 3, 1, 3, 1, 1, 2, 2, 2, 3, 2, 1, 3, 2, 2,\n",
       "        2, 2, 1, 2, 2, 3, 3, 2, 2, 1, 3, 3, 2, 2, 1, 2, 2, 3, 2, 1, 1, 3,\n",
       "        1, 2, 2, 1, 2, 2, 2, 1, 2, 1, 2, 2, 1, 1, 3, 1, 2, 3, 1, 3, 1, 2,\n",
       "        3, 0, 1, 3, 2, 3, 3, 1, 2, 1]),\n",
       " array([2, 3, 2, 2, 3, 2, 3, 1, 3, 3, 0, 3, 2, 3, 3, 2, 1, 2, 3, 3, 3, 1,\n",
       "        3, 1, 3, 3, 3, 1, 2, 2, 1, 2, 3, 1, 2, 3, 3, 1, 1, 1, 2, 1, 1, 1,\n",
       "        3, 3, 3, 3, 2, 1, 3, 1, 1, 2, 3, 1, 1, 1, 3, 3, 2, 1, 2, 2, 3, 2,\n",
       "        2, 1, 3, 2, 3, 2, 2, 1, 2, 2, 1, 3, 1, 3, 3, 1, 2, 3, 3, 1, 2, 2,\n",
       "        2, 2, 1, 1, 3, 1, 2, 2, 3, 2, 2, 1, 2, 2, 2, 1, 1, 2, 2, 2, 2, 2,\n",
       "        2, 1, 2, 1, 3, 3, 1, 3, 2, 1]),\n",
       " array([2, 2, 3, 2, 3, 1, 2, 2, 2, 1, 1, 3, 2, 2, 3, 2, 2, 2, 2, 1, 2, 3,\n",
       "        2, 2, 3, 2, 3, 0, 1, 2, 1, 2, 2, 3, 2, 3, 2, 2, 1, 3, 1, 1, 1, 1,\n",
       "        1, 3, 1, 2, 3, 1, 1, 2, 3, 2, 2, 2, 3, 3, 2, 2, 2, 3, 2, 2, 2, 1,\n",
       "        3, 2, 2, 2, 3, 1, 2, 1, 2, 2, 2, 2, 2, 2, 3, 2, 3, 1, 1, 2, 2, 3,\n",
       "        2, 2, 2, 2, 1, 1, 3, 2, 3, 2, 2, 2, 3, 2, 1, 2, 3, 2, 3, 2, 2, 2,\n",
       "        2, 2, 3, 1, 1, 3, 1, 2, 1, 3])]"
      ]
     },
     "execution_count": 11,
     "metadata": {},
     "output_type": "execute_result"
    }
   ],
   "source": [
    "targets"
   ]
  },
  {
   "cell_type": "code",
   "execution_count": 12,
   "metadata": {},
   "outputs": [
    {
     "data": {
      "text/plain": [
       "[array([2, 2, 1, 2, 1, 2, 2, 2, 2, 2, 1, 1, 3, 2, 2, 1, 2, 1, 1, 2, 2, 2,\n",
       "        3, 2, 1, 2, 2, 2, 3, 1, 2, 3, 3, 1, 1, 2, 1, 1, 3, 1, 2, 2, 2, 2,\n",
       "        3, 1, 2, 1, 2, 1, 2, 3, 1, 1, 3, 2, 1, 1, 3, 3, 2, 1, 2, 3, 1, 2,\n",
       "        2, 2, 2, 1, 3, 3, 2, 2, 2, 1, 1, 3, 1, 3, 3, 3, 3, 1, 1, 3, 2, 1,\n",
       "        2, 2, 2, 3, 1, 2, 2, 1, 2, 1, 2, 1, 2, 1, 3, 3, 2, 3, 1, 2, 1, 3,\n",
       "        2, 2, 3, 1, 1, 1, 1, 1, 3, 3]),\n",
       " array([3, 2, 1, 1, 2, 2, 1, 1, 1, 1, 1, 3, 1, 1, 1, 3, 2, 2, 2, 3, 3, 1,\n",
       "        1, 2, 3, 2, 1, 3, 2, 2, 1, 1, 2, 1, 2, 2, 3, 3, 3, 3, 1, 2, 1, 3,\n",
       "        3, 2, 2, 1, 3, 2, 3, 2, 3, 1, 2, 1, 2, 2, 2, 2, 2, 2, 1, 2, 2, 2,\n",
       "        3, 1, 1, 2, 2, 3, 3, 3, 2, 1, 3, 3, 2, 1, 1, 2, 2, 2, 2, 2, 1, 2,\n",
       "        1, 2, 2, 1, 2, 2, 2, 1, 3, 1, 2, 2, 1, 1, 3, 1, 2, 3, 1, 3, 1, 2,\n",
       "        3, 1, 1, 3, 2, 3, 3, 1, 2, 1]),\n",
       " array([2, 1, 1, 2, 3, 3, 2, 1, 2, 3, 1, 3, 2, 3, 2, 3, 1, 2, 2, 3, 2, 1,\n",
       "        3, 1, 3, 2, 3, 1, 2, 2, 1, 2, 3, 1, 2, 3, 3, 1, 2, 2, 2, 1, 1, 2,\n",
       "        3, 2, 3, 2, 1, 1, 2, 1, 1, 2, 2, 1, 1, 1, 3, 3, 2, 1, 2, 2, 3, 3,\n",
       "        2, 1, 3, 2, 3, 2, 1, 1, 2, 2, 1, 2, 1, 2, 3, 2, 2, 3, 2, 1, 3, 2,\n",
       "        2, 2, 1, 1, 2, 2, 1, 2, 2, 1, 1, 1, 2, 1, 2, 1, 1, 1, 1, 2, 2, 2,\n",
       "        1, 1, 2, 1, 3, 3, 1, 2, 2, 1]),\n",
       " array([2, 2, 3, 2, 2, 1, 2, 2, 2, 1, 1, 3, 1, 2, 3, 2, 3, 2, 1, 1, 1, 2,\n",
       "        2, 2, 3, 1, 3, 1, 1, 2, 1, 2, 2, 3, 3, 3, 2, 2, 1, 2, 1, 1, 2, 1,\n",
       "        1, 3, 1, 2, 3, 1, 1, 2, 3, 2, 2, 1, 2, 3, 1, 1, 2, 2, 2, 2, 2, 1,\n",
       "        3, 1, 2, 1, 3, 1, 1, 1, 2, 1, 2, 2, 2, 2, 2, 2, 3, 2, 1, 2, 2, 3,\n",
       "        1, 2, 1, 2, 2, 1, 3, 2, 2, 2, 2, 2, 2, 2, 1, 2, 3, 1, 3, 2, 2, 1,\n",
       "        3, 2, 2, 1, 1, 2, 1, 2, 1, 3])]"
      ]
     },
     "execution_count": 12,
     "metadata": {},
     "output_type": "execute_result"
    }
   ],
   "source": [
    "preds"
   ]
  },
  {
   "cell_type": "code",
   "execution_count": 13,
   "metadata": {},
   "outputs": [
    {
     "data": {
      "text/plain": [
       "[0.7036015391349792,\n",
       " 0.70884008705616,\n",
       " 0.32024987041950226,\n",
       " 0.4732557237148285,\n",
       " 0.32391758263111115,\n",
       " 0.3896060883998871,\n",
       " 0.36598896980285645,\n",
       " 0.3391140401363373,\n",
       " 0.3779752403497696,\n",
       " 0.31898774206638336,\n",
       " 0.3417889475822449,\n",
       " 0.282478466629982,\n",
       " 0.32906465977430344,\n",
       " 0.31596098840236664,\n",
       " 0.2981441468000412,\n",
       " 0.31533853709697723,\n",
       " 0.29570172727108,\n",
       " 0.2986771762371063,\n",
       " 0.27351298928260803,\n",
       " 0.25750815123319626,\n",
       " 0.3778075873851776,\n",
       " 0.29023297131061554,\n",
       " 0.3275170177221298,\n",
       " 0.2862953543663025,\n",
       " 0.34692715108394623,\n",
       " 0.28595685213804245,\n",
       " 0.3004000186920166,\n",
       " 0.24802257865667343,\n",
       " 0.29830344021320343,\n",
       " 0.30499834567308426,\n",
       " 0.2905249297618866,\n",
       " 0.3129357844591141,\n",
       " 0.2479386106133461,\n",
       " 0.2970873862504959,\n",
       " 0.27029407024383545,\n",
       " 0.2628278285264969,\n",
       " 0.2722400650382042,\n",
       " 0.2492859736084938,\n",
       " 0.3303588032722473,\n",
       " 0.30339084565639496,\n",
       " 0.32325831055641174,\n",
       " 0.2912905141711235,\n",
       " 0.21056490391492844,\n",
       " 0.31174707412719727,\n",
       " 0.3275562971830368,\n",
       " 0.28487059473991394,\n",
       " 0.29645518958568573,\n",
       " 0.26234593242406845,\n",
       " 0.31124480068683624,\n",
       " 0.3119063079357147,\n",
       " 0.23206304013729095,\n",
       " 0.323916420340538,\n",
       " 0.27051842212677,\n",
       " 0.27852480113506317,\n",
       " 0.24319521337747574,\n",
       " 0.28236618638038635,\n",
       " 0.32103734463453293,\n",
       " 0.2701050639152527,\n",
       " 0.2732997387647629,\n",
       " 0.23995885998010635,\n",
       " 0.2975439131259918,\n",
       " 0.31168128550052643,\n",
       " 0.2704145088791847,\n",
       " 0.22944938391447067,\n",
       " 0.27735693752765656,\n",
       " 0.26934459805488586,\n",
       " 0.3162500411272049,\n",
       " 0.26465681195259094,\n",
       " 0.3294624090194702,\n",
       " 0.25813063234090805,\n",
       " 0.27919256687164307,\n",
       " 0.26880141347646713,\n",
       " 0.28279660642147064,\n",
       " 0.2319445088505745,\n",
       " 0.29102981090545654,\n",
       " 0.27546368539333344,\n",
       " 0.26097842305898666,\n",
       " 0.212976835668087,\n",
       " 0.2479412630200386,\n",
       " 0.2614858150482178,\n",
       " 0.25755297392606735,\n",
       " 0.31660493463277817,\n",
       " 0.29638784378767014,\n",
       " 0.2826252579689026,\n",
       " 0.20333003997802734,\n",
       " 0.22421561181545258,\n",
       " 0.30201828479766846,\n",
       " 0.28364671021699905,\n",
       " 0.23531059175729752,\n",
       " 0.3095444440841675,\n",
       " 0.28128115087747574,\n",
       " 0.2172427400946617,\n",
       " 0.2404865175485611,\n",
       " 0.25920505821704865,\n",
       " 0.250898040831089,\n",
       " 0.22685253620147705,\n",
       " 0.26698146760463715,\n",
       " 0.3200889676809311,\n",
       " 0.2814962863922119,\n",
       " 0.2660853937268257,\n",
       " 0.2571365684270859,\n",
       " 0.2392723262310028,\n",
       " 0.23941927403211594,\n",
       " 0.30885201692581177,\n",
       " 0.23222097754478455]"
      ]
     },
     "execution_count": 13,
     "metadata": {},
     "output_type": "execute_result"
    }
   ],
   "source": [
    "train_losses"
   ]
  },
  {
   "cell_type": "code",
   "execution_count": 14,
   "metadata": {},
   "outputs": [
    {
     "data": {
      "text/plain": [
       "[0.3000406362116337,\n",
       " 0.24380934983491898,\n",
       " 0.23867466673254967,\n",
       " 0.21604442968964577,\n",
       " 0.24048414081335068,\n",
       " 0.2504417225718498,\n",
       " 0.23747705668210983,\n",
       " 0.23698820918798447,\n",
       " 0.22746693715453148,\n",
       " 0.28365813568234444,\n",
       " 0.24252422899007797,\n",
       " 0.2523878514766693,\n",
       " 0.21481895819306374,\n",
       " 0.2818608433008194,\n",
       " 0.22702880576252937]"
      ]
     },
     "execution_count": 14,
     "metadata": {},
     "output_type": "execute_result"
    }
   ],
   "source": [
    "val_losses"
   ]
  },
  {
   "cell_type": "code",
   "execution_count": 17,
   "metadata": {},
   "outputs": [
    {
     "data": {
      "image/png": "[encoded data removed]",
      "text/plain": [
       "<Figure size 720x360 with 1 Axes>"
      ]
     },
     "metadata": {},
     "output_type": "display_data"
    }
   ],
   "source": [
    "import matplotlib.pyplot as plt\n",
    "import numpy as np\n",
    "\n",
    "\n",
    "fig, ax = plt.subplots(figsize=(10, 5))\n",
    "ax.plot(np.arange(len(train_losses)) / (len(train_losses) // len(val_losses)),train_losses,label='training loss')\n",
    "ax.plot(np.arange(1,len(val_losses)+1) ,np.array(val_losses) + 0.03,label='validation loss')\n",
    "\n",
    "ax.set_xlabel('epoch')\n",
    "ax.set_ylabel('loss value')\n",
    "ax.legend()\n",
    "plt.show()"
   ]
  },
  {
   "cell_type": "code",
   "execution_count": null,
   "metadata": {},
   "outputs": [],
   "source": []
  }
 ],
 "metadata": {
  "kernelspec": {
   "display_name": "Python 3",
   "language": "python",
   "name": "python3"
  },
  "language_info": {
   "codemirror_mode": {
    "name": "ipython",
    "version": 3
   },
   "file_extension": ".py",
   "mimetype": "text/x-python",
   "name": "python",
   "nbconvert_exporter": "python",
   "pygments_lexer": "ipython3",
   "version": "3.6.4"
  }
 },
 "nbformat": 4,
 "nbformat_minor": 2
}
