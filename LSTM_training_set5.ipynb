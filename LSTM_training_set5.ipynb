{
 "cells": [
  {
   "cell_type": "code",
   "execution_count": 1,
   "metadata": {},
   "outputs": [],
   "source": [
    "from configs import cfg\n",
    "\n",
    "cfg['input_dim'] = 301 # input dimension to LSTM\n",
    "cfg['hidden_dim'] = 128 # hidden dimension for LSTM\n",
    "cfg['output_dim'] = 1 # output dimension of the model\n",
    "cfg['layers'] = 2 # number of layers of LSTM\n",
    "\n",
    "cfg['dropout'] = 5e-3 # dropout rate between two layers of LSTM; useful only when layers > 1; between 0 and 1\n",
    "cfg['bidirectional'] = True # True or False; True means using a bidirectional LSTM\n",
    "cfg['batch_size'] = 120 # batch size of input\n",
    "cfg['learning_rate'] = 1e-3 # learning rate to be used\n",
    "cfg['L2_penalty'] = 1e-4 # weighting constant for L2 regularization term; this is a parameter when you define optimizer\n",
    "cfg['epochs'] = 15 # number of epochs for which the model is trained\n",
    "cfg['embed'] = False\n",
    "cfg['score_range'] = 4\n",
    "cfg['set_id'] = 5"
   ]
  },
  {
   "cell_type": "code",
   "execution_count": 2,
   "metadata": {},
   "outputs": [],
   "source": [
    "import numpy as np\n",
    "from preprocess import *\n",
    "import pandas as pd\n",
    "\n",
    "train_path = './essay_dataset/training_set_rel3.tsv'\n",
    "training_data = load_training_set(train_path, cfg['set_id'])\n",
    "\n",
    "glove_dict = load_dict('glove.840B.300d.pkl')"
   ]
  },
  {
   "cell_type": "code",
   "execution_count": 3,
   "metadata": {},
   "outputs": [],
   "source": [
    "valid_path = './essay_dataset/valid_set.tsv'\n",
    "valid_label_path = './essay_dataset/valid_sample_submission_2_column.csv'\n",
    "valid_data = load_validation_set(valid_path, valid_label_path, cfg['set_id'])"
   ]
  },
  {
   "cell_type": "code",
   "execution_count": 4,
   "metadata": {},
   "outputs": [],
   "source": [
    "training_data = process_scores(training_data, 'domain1_score')\n",
    "valid_data = process_scores(valid_data, 'domain1_score')"
   ]
  },
  {
   "cell_type": "code",
   "execution_count": 5,
   "metadata": {},
   "outputs": [
    {
     "name": "stdout",
     "output_type": "stream",
     "text": [
      "ready\n"
     ]
    }
   ],
   "source": [
    "from dataloader import *\n",
    "from models import *\n",
    "import time\n",
    "\n",
    "model = LSTM_Score(cfg, True)\n",
    "model = model.to(torch.device(cfg['device']))\n",
    "\n",
    "criterion = nn.MSELoss()\n",
    "\n",
    "optimizer = torch.optim.Adam(model.parameters(), lr=cfg['learning_rate'], weight_decay=cfg['L2_penalty'])\n",
    "\n",
    "train_indices = list(range(len(training_data)))\n",
    "valid_indices = list(range(len(valid_data)))\n",
    "\n",
    "print('ready')"
   ]
  },
  {
   "cell_type": "code",
   "execution_count": 6,
   "metadata": {},
   "outputs": [
    {
     "data": {
      "text/plain": [
       "LSTM_Score(\n",
       "  (embed_linear): Linear(in_features=301, out_features=301, bias=True)\n",
       "  (lstm): LSTM(301, 128, num_layers=2, batch_first=True, dropout=0.005, bidirectional=True)\n",
       "  (bn): BatchNorm1d(256, eps=1e-05, momentum=0.1, affine=True, track_running_stats=True)\n",
       "  (fc1): Linear(in_features=256, out_features=1, bias=True)\n",
       ")"
      ]
     },
     "execution_count": 6,
     "metadata": {},
     "output_type": "execute_result"
    }
   ],
   "source": [
    "model.train()"
   ]
  },
  {
   "cell_type": "code",
   "execution_count": 7,
   "metadata": {
    "scrolled": false
   },
   "outputs": [
    {
     "name": "stdout",
     "output_type": "stream",
     "text": [
      "count = 2, loss = 1.22585\n",
      "count = 4, loss = 1.08165\n",
      "count = 6, loss = 0.58901\n",
      "count = 8, loss = 0.37711\n",
      "count = 10, loss = 0.32427\n",
      "count = 12, loss = 0.32841\n",
      "count = 14, loss = 0.32581\n",
      "validation loss: 0.28874359130859373\n",
      "epoch finished: 1\n",
      "count = 2, loss = 0.31287\n",
      "count = 4, loss = 0.30395\n",
      "count = 6, loss = 0.30640\n",
      "count = 8, loss = 0.28445\n",
      "count = 10, loss = 0.27236\n",
      "count = 12, loss = 0.24193\n",
      "count = 14, loss = 0.23531\n",
      "validation loss: 0.24393908977508544\n",
      "epoch finished: 2\n",
      "count = 2, loss = 0.25820\n",
      "count = 4, loss = 0.23328\n",
      "count = 6, loss = 0.20966\n",
      "count = 8, loss = 0.25594\n",
      "count = 10, loss = 0.28383\n",
      "count = 12, loss = 0.27408\n",
      "count = 14, loss = 0.26972\n",
      "validation loss: 0.23419131338596344\n",
      "epoch finished: 3\n",
      "count = 2, loss = 0.26952\n",
      "count = 4, loss = 0.29253\n",
      "count = 6, loss = 0.22245\n",
      "count = 8, loss = 0.25731\n",
      "count = 10, loss = 0.22530\n",
      "count = 12, loss = 0.18979\n",
      "count = 14, loss = 0.26348\n",
      "validation loss: 0.24342648983001708\n",
      "epoch finished: 4\n",
      "count = 2, loss = 0.24257\n",
      "count = 4, loss = 0.21142\n",
      "count = 6, loss = 0.23407\n",
      "count = 8, loss = 0.22582\n",
      "count = 10, loss = 0.22456\n",
      "count = 12, loss = 0.26609\n",
      "count = 14, loss = 0.22809\n",
      "validation loss: 0.25284519195556643\n",
      "epoch finished: 5\n",
      "count = 2, loss = 0.26002\n",
      "count = 4, loss = 0.19000\n",
      "count = 6, loss = 0.25039\n",
      "count = 8, loss = 0.24656\n",
      "count = 10, loss = 0.29879\n",
      "count = 12, loss = 0.22977\n",
      "count = 14, loss = 0.18627\n",
      "validation loss: 0.2464669793844223\n",
      "epoch finished: 6\n",
      "count = 2, loss = 0.23159\n",
      "count = 4, loss = 0.23566\n",
      "count = 6, loss = 0.21580\n",
      "count = 8, loss = 0.22286\n",
      "count = 10, loss = 0.21122\n",
      "count = 12, loss = 0.27222\n",
      "count = 14, loss = 0.20686\n",
      "validation loss: 0.2394906163215637\n",
      "epoch finished: 7\n",
      "count = 2, loss = 0.20179\n",
      "count = 4, loss = 0.25365\n",
      "count = 6, loss = 0.21362\n",
      "count = 8, loss = 0.21720\n",
      "count = 10, loss = 0.22659\n",
      "count = 12, loss = 0.22096\n",
      "count = 14, loss = 0.22728\n",
      "validation loss: 0.2547000080347061\n",
      "epoch finished: 8\n",
      "count = 2, loss = 0.23428\n",
      "count = 4, loss = 0.21133\n",
      "count = 6, loss = 0.23270\n",
      "count = 8, loss = 0.23545\n",
      "count = 10, loss = 0.21446\n",
      "count = 12, loss = 0.26110\n",
      "count = 14, loss = 0.22442\n",
      "validation loss: 0.2715828508138657\n",
      "epoch finished: 9\n",
      "count = 2, loss = 0.19715\n",
      "count = 4, loss = 0.23827\n",
      "count = 6, loss = 0.22865\n",
      "count = 8, loss = 0.22432\n",
      "count = 10, loss = 0.19211\n",
      "count = 12, loss = 0.23355\n",
      "count = 14, loss = 0.22195\n",
      "validation loss: 0.24537601470947265\n",
      "epoch finished: 10\n",
      "count = 2, loss = 0.22875\n",
      "count = 4, loss = 0.23850\n",
      "count = 6, loss = 0.18799\n",
      "count = 8, loss = 0.18912\n",
      "count = 10, loss = 0.21272\n",
      "count = 12, loss = 0.21491\n",
      "count = 14, loss = 0.22495\n",
      "validation loss: 0.2557783335447311\n",
      "epoch finished: 11\n",
      "count = 2, loss = 0.20588\n",
      "count = 4, loss = 0.20146\n",
      "count = 6, loss = 0.22073\n",
      "count = 8, loss = 0.20852\n",
      "count = 10, loss = 0.21641\n",
      "count = 12, loss = 0.20811\n",
      "count = 14, loss = 0.26701\n",
      "validation loss: 0.2742406606674194\n",
      "epoch finished: 12\n",
      "count = 2, loss = 0.19539\n",
      "count = 4, loss = 0.20558\n",
      "count = 6, loss = 0.18191\n",
      "count = 8, loss = 0.22619\n",
      "count = 10, loss = 0.21885\n",
      "count = 12, loss = 0.24056\n",
      "count = 14, loss = 0.22541\n",
      "validation loss: 0.2370782434940338\n",
      "epoch finished: 13\n",
      "count = 2, loss = 0.17768\n",
      "count = 4, loss = 0.22621\n",
      "count = 6, loss = 0.25611\n",
      "count = 8, loss = 0.19830\n",
      "count = 10, loss = 0.26839\n",
      "count = 12, loss = 0.23036\n",
      "count = 14, loss = 0.21002\n",
      "validation loss: 0.2584267437458038\n",
      "epoch finished: 14\n",
      "count = 2, loss = 0.21478\n",
      "count = 4, loss = 0.19439\n",
      "count = 6, loss = 0.19383\n",
      "count = 8, loss = 0.23108\n",
      "count = 10, loss = 0.23163\n",
      "count = 12, loss = 0.21974\n",
      "count = 14, loss = 0.25972\n",
      "validation loss: 0.28292855620384216\n",
      "epoch finished: 15\n"
     ]
    }
   ],
   "source": [
    "train_losses = []\n",
    "val_losses = []\n",
    "for epoch in range(cfg['epochs']):\n",
    "    tloader = DataLoader(training_data, train_indices, cfg, glove_dict)\n",
    "    vloader = DataLoader(valid_data, valid_indices, cfg, glove_dict)\n",
    "    \n",
    "    count = 0\n",
    "    avg_loss = 0\n",
    "    while tloader.has_next():\n",
    "        train, label, lengths = tloader.get_next()\n",
    "        #print(train.size())\n",
    "        #print(label.size())\n",
    "        #print(lengths.size())\n",
    "        model.zero_grad()\n",
    "        \n",
    "        y = model(train, lengths)      \n",
    "        \n",
    "        loss = criterion(y*cfg['score_range'], label*cfg['score_range'])\n",
    "        loss.backward()\n",
    "        optimizer.step()\n",
    "\n",
    "        count += 1\n",
    "        avg_loss += loss.item()\n",
    "        if count % 2 == 0:\n",
    "            print(\"count = %d, loss = %.5f\" %(count, avg_loss / 2))\n",
    "            save_model(model, 'models/'+'s' + str(cfg['set_id']) + '_ba' +str(cfg['batch_size']) +'e' +  str(epoch + 1) + 'b' + str(count) + '.pt')\n",
    "            train_losses.append(avg_loss/2)\n",
    "            avg_loss = 0\n",
    "        del train, label, y, loss\n",
    "    \n",
    "    count = 0\n",
    "    avg_loss = 0\n",
    "    with torch.no_grad():\n",
    "        while vloader.has_next():\n",
    "            train, label, lengths = vloader.get_next()\n",
    "            y = model(train, lengths)\n",
    "            loss = criterion(y*cfg['score_range'], label*cfg['score_range'])\n",
    "            count += 1\n",
    "            avg_loss += loss.item()\n",
    "            del train, label, y, loss\n",
    "    print('validation loss:', avg_loss / count)\n",
    "    print('epoch finished:', epoch + 1)\n",
    "    val_losses.append(avg_loss/count)\n",
    "    "
   ]
  },
  {
   "cell_type": "code",
   "execution_count": 8,
   "metadata": {},
   "outputs": [],
   "source": [
    "np.save('val_loss_set5.npy', val_losses)\n",
    "np.save('train_loss_set5.npy', train_losses)"
   ]
  },
  {
   "cell_type": "code",
   "execution_count": 21,
   "metadata": {},
   "outputs": [],
   "source": [
    "model = load_model(LSTM_Score, './models/s4_ba120e9b14.pt', cfg)\n",
    "valid_indices = list(range(len(valid_data)))"
   ]
  },
  {
   "cell_type": "code",
   "execution_count": 9,
   "metadata": {},
   "outputs": [
    {
     "name": "stdout",
     "output_type": "stream",
     "text": [
      "validation MSE: 0.279956716299057\n",
      "validation MAE: 0.1054874300956726\n",
      "QWK Score: 0.7942216710302696\n"
     ]
    }
   ],
   "source": [
    "from evaluation import QWK_score\n",
    "\n",
    "vloader = DataLoader(valid_data, valid_indices, cfg, glove_dict)\n",
    "count = 0\n",
    "avg_loss = 0\n",
    "MAE = 0\n",
    "targets = []\n",
    "preds = []\n",
    "with torch.no_grad():\n",
    "    while vloader.has_next():\n",
    "        train, label, lenghts = vloader.get_next()\n",
    "        y = model(train, lenghts)\n",
    "        #y = y.permute(0, 2, 1)\n",
    "        #print(label - y)\n",
    "        \n",
    "        loss = criterion(y*cfg['score_range'], label*cfg['score_range'])\n",
    "        \n",
    "        pred = np.round(y.cpu().numpy() * cfg['score_range'])\n",
    "        target = np.round(label.cpu().numpy() * cfg['score_range'])\n",
    "\n",
    "        pred = pred.flatten().astype(int)\n",
    "        target = target.flatten().astype(int)\n",
    "        \n",
    "        targets.append(target)\n",
    "        preds.append(pred)\n",
    "        \n",
    "        #print(targets[0])\n",
    "        #print(preds[0])\n",
    "        \n",
    "        count += 1\n",
    "        avg_loss += loss.item()\n",
    "        MAE += (y-label).abs().mean().item()\n",
    "        \n",
    "        del train, label, y, loss\n",
    "        \n",
    "print('validation MSE:', avg_loss / count)\n",
    "print('validation MAE:', MAE / count)\n",
    "print('QWK Score:', QWK_score(np.asarray(targets).flatten(), np.asarray(preds).flatten(), min_rating = 0, max_rating = cfg['score_range']))"
   ]
  },
  {
   "cell_type": "code",
   "execution_count": 10,
   "metadata": {},
   "outputs": [
    {
     "data": {
      "text/plain": [
       "[array([4, 3, 2, 4, 3, 3, 3, 2, 2, 4, 4, 2, 1, 3, 2, 2, 2, 3, 2, 2, 2, 4,\n",
       "        2, 1, 2, 4, 4, 2, 1, 3, 3, 4, 2, 4, 3, 4, 3, 2, 3, 4, 4, 2, 3, 3,\n",
       "        2, 2, 2, 2, 2, 2, 2, 1, 2, 3, 1, 3, 2, 2, 3, 3, 3, 4, 3, 1, 3, 4,\n",
       "        2, 1, 2, 3, 3, 3, 3, 3, 3, 3, 4, 4, 2, 2, 2, 1, 2, 3, 2, 3, 3, 3,\n",
       "        2, 1, 3, 1, 2, 4, 3, 3, 3, 2, 3, 4, 2, 3, 1, 3, 3, 1, 2, 2, 4, 4,\n",
       "        3, 3, 2, 3, 1, 3, 0, 1, 2, 3]),\n",
       " array([4, 4, 1, 3, 2, 2, 4, 2, 3, 3, 1, 3, 1, 3, 4, 4, 2, 2, 3, 3, 4, 3,\n",
       "        3, 3, 4, 4, 3, 3, 2, 1, 3, 2, 3, 2, 2, 2, 1, 2, 1, 4, 2, 3, 2, 2,\n",
       "        4, 3, 4, 2, 2, 3, 2, 3, 3, 4, 1, 3, 2, 3, 2, 3, 2, 1, 1, 2, 1, 2,\n",
       "        4, 3, 2, 1, 2, 1, 4, 2, 3, 3, 4, 4, 3, 2, 3, 3, 3, 3, 2, 2, 4, 2,\n",
       "        1, 1, 3, 2, 2, 4, 4, 3, 2, 2, 3, 3, 2, 1, 4, 2, 2, 2, 3, 3, 4, 3,\n",
       "        4, 2, 3, 2, 2, 2, 3, 2, 1, 2]),\n",
       " array([3, 3, 4, 3, 4, 2, 2, 2, 2, 3, 2, 2, 2, 2, 2, 2, 4, 1, 1, 1, 4, 2,\n",
       "        3, 4, 3, 4, 4, 1, 1, 3, 2, 2, 3, 3, 2, 2, 3, 2, 3, 1, 4, 2, 0, 4,\n",
       "        3, 4, 2, 2, 3, 2, 2, 3, 2, 2, 4, 1, 2, 2, 1, 3, 4, 3, 4, 3, 3, 1,\n",
       "        2, 2, 3, 4, 3, 3, 3, 1, 3, 1, 2, 1, 3, 2, 3, 2, 4, 1, 2, 3, 4, 1,\n",
       "        1, 3, 4, 3, 1, 3, 4, 3, 2, 3, 3, 3, 2, 2, 2, 2, 4, 2, 3, 2, 1, 2,\n",
       "        1, 3, 1, 2, 2, 3, 2, 2, 4, 3]),\n",
       " array([2, 3, 2, 2, 2, 3, 2, 2, 1, 3, 2, 3, 2, 4, 2, 1, 4, 3, 3, 3, 2, 4,\n",
       "        2, 2, 4, 2, 2, 3, 3, 2, 4, 3, 4, 2, 2, 2, 2, 3, 2, 4, 2, 3, 2, 4,\n",
       "        1, 1, 2, 4, 3, 2, 3, 3, 1, 3, 3, 2, 3, 3, 4, 1, 3, 2, 1, 2, 2, 4,\n",
       "        2, 1, 2, 2, 3, 2, 1, 1, 3, 1, 4, 2, 4, 1, 2, 2, 2, 1, 4, 1, 2, 4,\n",
       "        4, 2, 2, 3, 3, 3, 2, 4, 1, 3, 2, 4, 2, 2, 4, 3, 3, 3, 3, 4, 3, 2,\n",
       "        3, 2, 2, 1, 2, 2, 2, 2, 2, 4]),\n",
       " array([4, 2, 2, 4, 3, 3, 2, 2, 2, 1, 3, 2, 1, 3, 3, 3, 1, 2, 1, 3, 2, 4,\n",
       "        2, 1, 2, 3, 4, 4, 3, 2, 3, 2, 3, 2, 2, 2, 2, 2, 2, 3, 2, 2, 3, 2,\n",
       "        3, 4, 2, 2, 0, 3, 3, 1, 2, 4, 1, 2, 2, 2, 2, 2, 3, 2, 4, 2, 1, 2,\n",
       "        2, 2, 1, 3, 2, 2, 3, 1, 2, 2, 3, 2, 3, 4, 4, 4, 4, 2, 1, 3, 2, 4,\n",
       "        4, 1, 4, 4, 2, 2, 2, 1, 2, 2, 2, 3, 3, 3, 2, 4, 2, 2, 2, 3, 3, 4,\n",
       "        3, 4, 2, 2, 3, 1, 2, 3, 2, 4])]"
      ]
     },
     "execution_count": 10,
     "metadata": {},
     "output_type": "execute_result"
    }
   ],
   "source": [
    "targets"
   ]
  },
  {
   "cell_type": "code",
   "execution_count": 11,
   "metadata": {},
   "outputs": [
    {
     "data": {
      "text/plain": [
       "[array([4, 4, 1, 3, 3, 2, 3, 1, 2, 4, 3, 2, 1, 3, 2, 1, 1, 2, 2, 2, 3, 4,\n",
       "        2, 1, 2, 4, 4, 2, 1, 3, 3, 3, 1, 4, 3, 4, 3, 2, 3, 4, 3, 2, 3, 2,\n",
       "        1, 2, 3, 2, 1, 2, 1, 1, 3, 3, 1, 3, 2, 2, 3, 2, 3, 3, 3, 1, 3, 3,\n",
       "        2, 1, 2, 3, 3, 3, 4, 3, 2, 3, 4, 3, 2, 2, 1, 1, 1, 3, 2, 3, 3, 3,\n",
       "        2, 2, 3, 1, 1, 4, 3, 3, 3, 3, 3, 3, 2, 1, 1, 2, 3, 1, 2, 2, 3, 4,\n",
       "        2, 3, 3, 3, 1, 3, 1, 1, 2, 3]),\n",
       " array([3, 4, 2, 2, 1, 3, 2, 2, 3, 3, 2, 3, 2, 4, 4, 3, 3, 2, 2, 3, 4, 3,\n",
       "        4, 3, 3, 3, 4, 3, 1, 1, 3, 2, 2, 1, 2, 2, 1, 2, 1, 4, 2, 2, 2, 2,\n",
       "        4, 3, 4, 3, 2, 3, 3, 1, 3, 3, 1, 3, 2, 3, 2, 3, 2, 2, 1, 2, 1, 1,\n",
       "        4, 3, 2, 1, 1, 1, 4, 1, 3, 3, 3, 3, 3, 2, 3, 2, 3, 4, 2, 1, 4, 1,\n",
       "        1, 1, 3, 1, 2, 4, 4, 2, 1, 3, 2, 3, 1, 1, 4, 1, 2, 2, 3, 3, 4, 3,\n",
       "        3, 2, 3, 2, 3, 2, 3, 1, 1, 2]),\n",
       " array([3, 3, 3, 3, 3, 2, 3, 2, 2, 2, 3, 1, 1, 2, 3, 1, 3, 0, 1, 1, 4, 2,\n",
       "        3, 4, 3, 3, 4, 2, 1, 3, 3, 2, 4, 2, 2, 2, 3, 2, 3, 1, 3, 2, 1, 4,\n",
       "        3, 4, 2, 3, 2, 2, 1, 3, 1, 2, 3, 1, 2, 2, 1, 3, 4, 3, 4, 3, 2, 1,\n",
       "        3, 2, 2, 4, 3, 3, 3, 1, 3, 2, 2, 1, 3, 3, 4, 2, 4, 1, 3, 2, 3, 2,\n",
       "        1, 3, 4, 4, 1, 3, 3, 3, 1, 2, 4, 2, 2, 2, 2, 2, 3, 2, 3, 1, 1, 3,\n",
       "        2, 4, 2, 3, 3, 2, 2, 2, 4, 3]),\n",
       " array([2, 4, 2, 2, 2, 3, 1, 2, 1, 3, 2, 2, 2, 4, 2, 1, 4, 3, 3, 2, 2, 4,\n",
       "        2, 3, 3, 2, 3, 3, 3, 3, 3, 2, 3, 3, 1, 2, 1, 4, 2, 4, 2, 2, 2, 4,\n",
       "        1, 1, 2, 4, 3, 1, 3, 3, 2, 3, 3, 2, 2, 3, 3, 1, 3, 2, 1, 1, 2, 4,\n",
       "        1, 1, 2, 2, 3, 2, 1, 1, 3, 1, 4, 2, 4, 1, 2, 3, 3, 1, 3, 2, 3, 4,\n",
       "        4, 2, 2, 4, 4, 3, 2, 3, 1, 3, 3, 4, 2, 1, 4, 2, 4, 3, 3, 4, 3, 1,\n",
       "        4, 2, 2, 1, 2, 2, 1, 1, 3, 3]),\n",
       " array([3, 2, 2, 4, 3, 3, 3, 3, 1, 1, 3, 2, 1, 3, 3, 3, 1, 2, 1, 2, 3, 4,\n",
       "        2, 2, 1, 2, 4, 3, 4, 3, 3, 2, 3, 1, 2, 2, 2, 2, 2, 3, 2, 3, 4, 2,\n",
       "        3, 4, 2, 3, 1, 3, 4, 1, 2, 4, 1, 2, 1, 2, 2, 1, 3, 2, 4, 2, 2, 2,\n",
       "        2, 2, 2, 3, 2, 2, 2, 2, 1, 1, 3, 2, 3, 4, 3, 3, 3, 3, 1, 3, 2, 3,\n",
       "        3, 1, 3, 3, 1, 1, 2, 1, 1, 2, 2, 3, 3, 3, 2, 4, 2, 2, 2, 4, 3, 4,\n",
       "        4, 3, 2, 2, 1, 1, 2, 3, 1, 3])]"
      ]
     },
     "execution_count": 11,
     "metadata": {},
     "output_type": "execute_result"
    }
   ],
   "source": [
    "preds"
   ]
  },
  {
   "cell_type": "code",
   "execution_count": 12,
   "metadata": {},
   "outputs": [
    {
     "data": {
      "text/plain": [
       "[1.225853681564331,\n",
       " 1.0816507637500763,\n",
       " 0.5890149176120758,\n",
       " 0.37710803747177124,\n",
       " 0.3242698013782501,\n",
       " 0.3284074664115906,\n",
       " 0.32580533623695374,\n",
       " 0.31287090480327606,\n",
       " 0.30394649505615234,\n",
       " 0.30640266835689545,\n",
       " 0.2844460681080818,\n",
       " 0.2723584473133087,\n",
       " 0.2419295683503151,\n",
       " 0.23530960828065872,\n",
       " 0.2582041472196579,\n",
       " 0.23327849805355072,\n",
       " 0.20966168493032455,\n",
       " 0.2559366449713707,\n",
       " 0.28383228182792664,\n",
       " 0.2740766853094101,\n",
       " 0.2697152718901634,\n",
       " 0.26952266693115234,\n",
       " 0.29252849519252777,\n",
       " 0.22245149314403534,\n",
       " 0.25731028616428375,\n",
       " 0.2252955287694931,\n",
       " 0.18978797644376755,\n",
       " 0.2634832635521889,\n",
       " 0.2425677701830864,\n",
       " 0.21141638606786728,\n",
       " 0.23406630009412766,\n",
       " 0.22582221031188965,\n",
       " 0.22456423938274384,\n",
       " 0.2660878822207451,\n",
       " 0.2280869260430336,\n",
       " 0.2600165605545044,\n",
       " 0.18999998271465302,\n",
       " 0.25038696825504303,\n",
       " 0.24655700474977493,\n",
       " 0.2987850457429886,\n",
       " 0.22976743429899216,\n",
       " 0.1862700805068016,\n",
       " 0.2315884754061699,\n",
       " 0.23566090315580368,\n",
       " 0.2157951518893242,\n",
       " 0.22285596281290054,\n",
       " 0.21122116595506668,\n",
       " 0.2722192332148552,\n",
       " 0.20686303824186325,\n",
       " 0.20179018378257751,\n",
       " 0.2536490336060524,\n",
       " 0.21362408250570297,\n",
       " 0.21720301359891891,\n",
       " 0.22658918052911758,\n",
       " 0.2209596186876297,\n",
       " 0.2272750809788704,\n",
       " 0.23428096622228622,\n",
       " 0.21132835000753403,\n",
       " 0.2327043041586876,\n",
       " 0.2354455068707466,\n",
       " 0.21445799618959427,\n",
       " 0.26110124588012695,\n",
       " 0.22441568225622177,\n",
       " 0.19715466350317,\n",
       " 0.23826658725738525,\n",
       " 0.22865378111600876,\n",
       " 0.2243209108710289,\n",
       " 0.19210819154977798,\n",
       " 0.23354726284742355,\n",
       " 0.2219509407877922,\n",
       " 0.22874782234430313,\n",
       " 0.2384965792298317,\n",
       " 0.1879948005080223,\n",
       " 0.18911976367235184,\n",
       " 0.21272184699773788,\n",
       " 0.2149074748158455,\n",
       " 0.22495412081480026,\n",
       " 0.20588397234678268,\n",
       " 0.20146166533231735,\n",
       " 0.2207341268658638,\n",
       " 0.20852387696504593,\n",
       " 0.21640688180923462,\n",
       " 0.20810720324516296,\n",
       " 0.2670082002878189,\n",
       " 0.1953912377357483,\n",
       " 0.2055753991007805,\n",
       " 0.18191037327051163,\n",
       " 0.22618833184242249,\n",
       " 0.21885181963443756,\n",
       " 0.2405610829591751,\n",
       " 0.2254057079553604,\n",
       " 0.17768030613660812,\n",
       " 0.22621148824691772,\n",
       " 0.25611433386802673,\n",
       " 0.19830381125211716,\n",
       " 0.26838596165180206,\n",
       " 0.23035502433776855,\n",
       " 0.21001753956079483,\n",
       " 0.21477727591991425,\n",
       " 0.1943940743803978,\n",
       " 0.19383376091718674,\n",
       " 0.23107563704252243,\n",
       " 0.23162798583507538,\n",
       " 0.21974076330661774,\n",
       " 0.2597172409296036]"
      ]
     },
     "execution_count": 12,
     "metadata": {},
     "output_type": "execute_result"
    }
   ],
   "source": [
    "train_losses"
   ]
  },
  {
   "cell_type": "code",
   "execution_count": 13,
   "metadata": {},
   "outputs": [
    {
     "data": {
      "text/plain": [
       "[0.28874359130859373,\n",
       " 0.24393908977508544,\n",
       " 0.23419131338596344,\n",
       " 0.24342648983001708,\n",
       " 0.25284519195556643,\n",
       " 0.2464669793844223,\n",
       " 0.2394906163215637,\n",
       " 0.2547000080347061,\n",
       " 0.2715828508138657,\n",
       " 0.24537601470947265,\n",
       " 0.2557783335447311,\n",
       " 0.2742406606674194,\n",
       " 0.2370782434940338,\n",
       " 0.2584267437458038,\n",
       " 0.28292855620384216]"
      ]
     },
     "execution_count": 13,
     "metadata": {},
     "output_type": "execute_result"
    }
   ],
   "source": [
    "val_losses"
   ]
  },
  {
   "cell_type": "code",
   "execution_count": 15,
   "metadata": {},
   "outputs": [
    {
     "data": {
      "image/png": "[encoded data removed]",
      "text/plain": [
       "<Figure size 576x360 with 1 Axes>"
      ]
     },
     "metadata": {},
     "output_type": "display_data"
    }
   ],
   "source": [
    "import matplotlib.pyplot as plt\n",
    "import numpy as np\n",
    "\n",
    "\n",
    "fig, ax = plt.subplots(figsize=(8, 5))\n",
    "ax.plot(np.arange(len(train_losses)) / (len(train_losses) // len(val_losses)),train_losses,label='training loss')\n",
    "ax.plot(np.arange(1,len(val_losses)+1) ,np.array(val_losses) + 0.01,label='validation loss')\n",
    "\n",
    "ax.set_xlabel('epoch')\n",
    "ax.set_ylabel('loss value')\n",
    "ax.legend()\n",
    "plt.show()"
   ]
  },
  {
   "cell_type": "code",
   "execution_count": null,
   "metadata": {},
   "outputs": [],
   "source": []
  }
 ],
 "metadata": {
  "kernelspec": {
   "display_name": "Python 3",
   "language": "python",
   "name": "python3"
  },
  "language_info": {
   "codemirror_mode": {
    "name": "ipython",
    "version": 3
   },
   "file_extension": ".py",
   "mimetype": "text/x-python",
   "name": "python",
   "nbconvert_exporter": "python",
   "pygments_lexer": "ipython3",
   "version": "3.6.4"
  }
 },
 "nbformat": 4,
 "nbformat_minor": 2
}
