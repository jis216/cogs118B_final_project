{
 "cells": [
  {
   "cell_type": "code",
   "execution_count": 1,
   "metadata": {},
   "outputs": [],
   "source": [
    "from configs import cfg\n",
    "\n",
    "cfg['input_dim'] = 301 # input dimension to LSTM\n",
    "cfg['hidden_dim'] = 128 # hidden dimension for LSTM\n",
    "cfg['output_dim'] = 1 # output dimension of the model\n",
    "cfg['layers'] = 2 # number of layers of LSTM\n",
    "\n",
    "cfg['dropout'] = 5e-3 # dropout rate between two layers of LSTM; useful only when layers > 1; between 0 and 1\n",
    "cfg['bidirectional'] = True # True or False; True means using a bidirectional LSTM\n",
    "cfg['batch_size'] = 120 # batch size of input\n",
    "cfg['learning_rate'] = 1e-3 # learning rate to be used\n",
    "cfg['L2_penalty'] = 1e-4 # weighting constant for L2 regularization term; this is a parameter when you define optimizer\n",
    "cfg['epochs'] = 10 # number of epochs for which the model is trained\n",
    "cfg['embed'] = False\n",
    "cfg['score_range'] = 4\n",
    "cfg['set_id'] = 6"
   ]
  },
  {
   "cell_type": "code",
   "execution_count": 2,
   "metadata": {},
   "outputs": [],
   "source": [
    "import numpy as np\n",
    "from preprocess import *\n",
    "import pandas as pd\n",
    "\n",
    "train_path = './essay_dataset/training_set_rel3.tsv'\n",
    "training_data = load_training_set(train_path, cfg['set_id'])\n",
    "\n",
    "glove_dict = load_dict('glove.840B.300d.pkl')"
   ]
  },
  {
   "cell_type": "code",
   "execution_count": 3,
   "metadata": {},
   "outputs": [],
   "source": [
    "valid_path = './essay_dataset/valid_set.tsv'\n",
    "valid_label_path = './essay_dataset/valid_sample_submission_2_column.csv'\n",
    "valid_data = load_validation_set(valid_path, valid_label_path, cfg['set_id'])"
   ]
  },
  {
   "cell_type": "code",
   "execution_count": 4,
   "metadata": {},
   "outputs": [],
   "source": [
    "training_data = process_scores(training_data, 'domain1_score')\n",
    "valid_data = process_scores(valid_data, 'domain1_score')"
   ]
  },
  {
   "cell_type": "code",
   "execution_count": 5,
   "metadata": {},
   "outputs": [
    {
     "name": "stdout",
     "output_type": "stream",
     "text": [
      "ready\n"
     ]
    }
   ],
   "source": [
    "from dataloader import *\n",
    "from models import *\n",
    "import time\n",
    "\n",
    "model = LSTM_Score(cfg, True)\n",
    "model = model.to(torch.device(cfg['device']))\n",
    "\n",
    "criterion = nn.MSELoss()\n",
    "\n",
    "optimizer = torch.optim.Adam(model.parameters(), lr=cfg['learning_rate'], weight_decay=cfg['L2_penalty'])\n",
    "\n",
    "train_indices = list(range(len(training_data)))\n",
    "valid_indices = list(range(len(valid_data)))\n",
    "\n",
    "print('ready')"
   ]
  },
  {
   "cell_type": "code",
   "execution_count": 6,
   "metadata": {},
   "outputs": [
    {
     "data": {
      "text/plain": [
       "LSTM_Score(\n",
       "  (embed_linear): Linear(in_features=301, out_features=301, bias=True)\n",
       "  (lstm): LSTM(301, 128, num_layers=2, batch_first=True, dropout=0.005, bidirectional=True)\n",
       "  (bn): BatchNorm1d(256, eps=1e-05, momentum=0.1, affine=True, track_running_stats=True)\n",
       "  (fc1): Linear(in_features=256, out_features=1, bias=True)\n",
       ")"
      ]
     },
     "execution_count": 6,
     "metadata": {},
     "output_type": "execute_result"
    }
   ],
   "source": [
    "model.train()"
   ]
  },
  {
   "cell_type": "code",
   "execution_count": 7,
   "metadata": {
    "scrolled": false
   },
   "outputs": [
    {
     "name": "stdout",
     "output_type": "stream",
     "text": [
      "count = 2, loss = 1.78630\n",
      "count = 4, loss = 2.03936\n",
      "count = 6, loss = 1.25992\n",
      "count = 8, loss = 0.89391\n",
      "count = 10, loss = 0.80252\n",
      "count = 12, loss = 0.72644\n",
      "count = 14, loss = 0.59400\n",
      "validation loss: 0.6501082897186279\n",
      "epoch finished: 1\n",
      "count = 2, loss = 0.54615\n",
      "count = 4, loss = 0.56705\n",
      "count = 6, loss = 0.52332\n",
      "count = 8, loss = 0.47450\n",
      "count = 10, loss = 0.42128\n",
      "count = 12, loss = 0.56584\n",
      "count = 14, loss = 0.44626\n",
      "validation loss: 0.48413203954696654\n",
      "epoch finished: 2\n",
      "count = 2, loss = 0.34203\n",
      "count = 4, loss = 0.38199\n",
      "count = 6, loss = 0.35522\n",
      "count = 8, loss = 0.31462\n",
      "count = 10, loss = 0.30340\n",
      "count = 12, loss = 0.31649\n",
      "count = 14, loss = 0.28009\n",
      "validation loss: 0.4560736298561096\n",
      "epoch finished: 3\n",
      "count = 2, loss = 0.27027\n",
      "count = 4, loss = 0.25830\n",
      "count = 6, loss = 0.33105\n",
      "count = 8, loss = 0.26591\n",
      "count = 10, loss = 0.23297\n",
      "count = 12, loss = 0.24611\n",
      "count = 14, loss = 0.26218\n",
      "validation loss: 0.4015070080757141\n",
      "epoch finished: 4\n",
      "count = 2, loss = 0.23833\n",
      "count = 4, loss = 0.23524\n",
      "count = 6, loss = 0.21198\n",
      "count = 8, loss = 0.24389\n",
      "count = 10, loss = 0.25780\n",
      "count = 12, loss = 0.24850\n",
      "count = 14, loss = 0.26483\n",
      "validation loss: 0.4315937578678131\n",
      "epoch finished: 5\n",
      "count = 2, loss = 0.21519\n",
      "count = 4, loss = 0.22642\n",
      "count = 6, loss = 0.22309\n",
      "count = 8, loss = 0.24008\n",
      "count = 10, loss = 0.23350\n",
      "count = 12, loss = 0.22559\n",
      "count = 14, loss = 0.26418\n",
      "validation loss: 0.5057366847991943\n",
      "epoch finished: 6\n",
      "count = 2, loss = 0.22825\n",
      "count = 4, loss = 0.20594\n",
      "count = 6, loss = 0.20837\n",
      "count = 8, loss = 0.31189\n",
      "count = 10, loss = 0.20772\n",
      "count = 12, loss = 0.23822\n",
      "count = 14, loss = 0.22039\n",
      "validation loss: 0.44696556925773623\n",
      "epoch finished: 7\n",
      "count = 2, loss = 0.22705\n",
      "count = 4, loss = 0.23487\n",
      "count = 6, loss = 0.20541\n",
      "count = 8, loss = 0.23482\n",
      "count = 10, loss = 0.27891\n",
      "count = 12, loss = 0.22511\n",
      "count = 14, loss = 0.19032\n",
      "validation loss: 0.45638344883918763\n",
      "epoch finished: 8\n",
      "count = 2, loss = 0.24096\n",
      "count = 4, loss = 0.19122\n",
      "count = 6, loss = 0.23113\n",
      "count = 8, loss = 0.22958\n",
      "count = 10, loss = 0.21743\n",
      "count = 12, loss = 0.21759\n",
      "count = 14, loss = 0.22530\n",
      "validation loss: 0.5376493573188782\n",
      "epoch finished: 9\n",
      "count = 2, loss = 0.22074\n",
      "count = 4, loss = 0.20232\n",
      "count = 6, loss = 0.24075\n",
      "count = 8, loss = 0.20401\n",
      "count = 10, loss = 0.18708\n",
      "count = 12, loss = 0.28626\n",
      "count = 14, loss = 0.19780\n",
      "validation loss: 0.46301884651184083\n",
      "epoch finished: 10\n"
     ]
    }
   ],
   "source": [
    "train_losses = []\n",
    "val_losses = []\n",
    "for epoch in range(cfg['epochs']):\n",
    "    tloader = DataLoader(training_data, train_indices, cfg, glove_dict)\n",
    "    vloader = DataLoader(valid_data, valid_indices, cfg, glove_dict)\n",
    "    \n",
    "    count = 0\n",
    "    avg_loss = 0\n",
    "    while tloader.has_next():\n",
    "        train, label, lengths = tloader.get_next()\n",
    "        #print(train.size())\n",
    "        #print(label.size())\n",
    "        #print(lengths.size())\n",
    "        model.zero_grad()\n",
    "        \n",
    "        y = model(train, lengths)      \n",
    "        \n",
    "        loss = criterion(y*cfg['score_range'], label*cfg['score_range'])\n",
    "        loss.backward()\n",
    "        optimizer.step()\n",
    "\n",
    "        count += 1\n",
    "        avg_loss += loss.item()\n",
    "        if count % 2 == 0:\n",
    "            print(\"count = %d, loss = %.5f\" %(count, avg_loss / 2))\n",
    "            save_model(model, 'models/'+'s' + str(cfg['set_id']) + '_ba' +str(cfg['batch_size']) +'e' +  str(epoch + 1) + 'b' + str(count) + '.pt')\n",
    "            train_losses.append(avg_loss/2)\n",
    "            avg_loss = 0\n",
    "        del train, label, y, loss\n",
    "    \n",
    "    count = 0\n",
    "    avg_loss = 0\n",
    "    with torch.no_grad():\n",
    "        while vloader.has_next():\n",
    "            train, label, lengths = vloader.get_next()\n",
    "            y = model(train, lengths)\n",
    "            loss = criterion(y*cfg['score_range'], label*cfg['score_range'])\n",
    "            count += 1\n",
    "            avg_loss += loss.item()\n",
    "            del train, label, y, loss\n",
    "    print('validation loss:', avg_loss / count)\n",
    "    print('epoch finished:', epoch + 1)\n",
    "    val_losses.append(avg_loss/count)\n",
    "    "
   ]
  },
  {
   "cell_type": "code",
   "execution_count": 8,
   "metadata": {},
   "outputs": [],
   "source": [
    "np.save('val_loss_set6.npy', val_losses)\n",
    "np.save('train_loss_set6.npy', train_losses)"
   ]
  },
  {
   "cell_type": "code",
   "execution_count": 8,
   "metadata": {},
   "outputs": [
    {
     "name": "stdout",
     "output_type": "stream",
     "text": [
      "validation MSE: 0.4665324747562408\n",
      "validation MAE: 0.1339450806379318\n",
      "QWK Score: 0.6211297902160797\n"
     ]
    }
   ],
   "source": [
    "from evaluation import QWK_score\n",
    "\n",
    "vloader = DataLoader(valid_data, valid_indices, cfg, glove_dict)\n",
    "count = 0\n",
    "avg_loss = 0\n",
    "MAE = 0\n",
    "targets = []\n",
    "preds = []\n",
    "with torch.no_grad():\n",
    "    while vloader.has_next():\n",
    "        train, label, lenghts = vloader.get_next()\n",
    "        y = model(train, lenghts)\n",
    "        #y = y.permute(0, 2, 1)\n",
    "        #print(label - y)\n",
    "        \n",
    "        loss = criterion(y*cfg['score_range'], label*cfg['score_range'])\n",
    "        \n",
    "        pred = np.round(y.cpu().numpy() * cfg['score_range'])\n",
    "        target = np.round(label.cpu().numpy() * cfg['score_range'])\n",
    "\n",
    "        pred = pred.flatten().astype(int)\n",
    "        target = target.flatten().astype(int)\n",
    "        \n",
    "        targets.append(target)\n",
    "        preds.append(pred)\n",
    "        \n",
    "        #print(targets[0])\n",
    "        #print(preds[0])\n",
    "        \n",
    "        count += 1\n",
    "        avg_loss += loss.item()\n",
    "        MAE += (y-label).abs().mean().item()\n",
    "        \n",
    "        del train, label, y, loss\n",
    "        \n",
    "print('validation MSE:', avg_loss / count)\n",
    "print('validation MAE:', MAE / count)\n",
    "print('QWK Score:', QWK_score(np.asarray(targets).flatten(), np.asarray(preds).flatten(), min_rating = 0, max_rating = cfg['score_range']))"
   ]
  },
  {
   "cell_type": "code",
   "execution_count": 24,
   "metadata": {},
   "outputs": [],
   "source": [
    "model = load_model(LSTM_Score, './models/s6_ba120e13b14.pt', cfg)\n",
    "valid_indices = list(range(len(valid_data)))"
   ]
  },
  {
   "cell_type": "code",
   "execution_count": 10,
   "metadata": {},
   "outputs": [
    {
     "data": {
      "image/png": "[encoded data removed]",
      "text/plain": [
       "<Figure size 576x360 with 1 Axes>"
      ]
     },
     "metadata": {},
     "output_type": "display_data"
    }
   ],
   "source": [
    "import matplotlib.pyplot as plt\n",
    "import numpy as np\n",
    "\n",
    "\n",
    "fig, ax = plt.subplots(figsize=(8, 5))\n",
    "ax.plot(np.arange(len(train_losses)) / (len(train_losses) // len(val_losses)),train_losses,label='training loss')\n",
    "ax.plot(np.arange(1,len(val_losses)+1) ,np.array(val_losses) + 0.01,label='validation loss')\n",
    "\n",
    "ax.set_xlabel('epoch')\n",
    "ax.set_ylabel('loss value')\n",
    "ax.legend()\n",
    "plt.show()"
   ]
  },
  {
   "cell_type": "code",
   "execution_count": 14,
   "metadata": {},
   "outputs": [
    {
     "data": {
      "text/plain": [
       "[array([4, 2, 2, 1, 3, 3, 3, 3, 3, 4, 2, 3, 3, 2, 3, 2, 2, 2, 3, 3, 4, 4,\n",
       "        2, 3, 3, 4, 1, 3, 3, 3, 3, 2, 3, 3, 3, 3, 3, 3, 3, 2, 3, 3, 3, 3,\n",
       "        3, 4, 2, 3, 1, 4, 2, 2, 2, 4, 2, 2, 3, 2, 0, 2, 3, 3, 4, 3, 2, 3,\n",
       "        3, 2, 2, 3, 3, 3, 2, 3, 3, 3, 3, 3, 2, 3, 4, 3, 3, 3, 2, 3, 3, 4,\n",
       "        2, 2, 2, 2, 4, 1, 2, 1, 2, 1, 3, 3, 3, 4, 4, 1, 3, 2, 3, 3, 2, 3,\n",
       "        3, 3, 2, 4, 4, 2, 3, 3, 3, 3]),\n",
       " array([3, 3, 3, 4, 3, 4, 2, 3, 1, 3, 3, 3, 2, 2, 3, 4, 3, 3, 3, 3, 3, 3,\n",
       "        3, 3, 3, 4, 4, 4, 3, 3, 2, 4, 4, 1, 3, 4, 2, 1, 4, 3, 3, 3, 3, 3,\n",
       "        4, 2, 2, 3, 3, 2, 1, 2, 1, 4, 3, 4, 3, 3, 3, 3, 3, 3, 3, 1, 3, 2,\n",
       "        4, 2, 3, 2, 3, 3, 3, 2, 3, 3, 3, 4, 3, 2, 2, 4, 3, 3, 4, 2, 2, 3,\n",
       "        2, 3, 2, 3, 3, 3, 3, 3, 2, 3, 4, 4, 4, 4, 4, 4, 1, 3, 3, 3, 3, 3,\n",
       "        3, 3, 3, 1, 3, 2, 2, 2, 3, 2]),\n",
       " array([4, 3, 3, 3, 3, 4, 3, 3, 3, 3, 4, 3, 2, 3, 2, 1, 3, 1, 3, 4, 2, 2,\n",
       "        3, 3, 2, 3, 3, 2, 2, 4, 2, 3, 3, 2, 2, 3, 2, 3, 2, 3, 3, 3, 3, 3,\n",
       "        1, 1, 3, 1, 2, 2, 1, 3, 3, 3, 4, 2, 3, 1, 4, 2, 3, 2, 3, 1, 4, 3,\n",
       "        3, 4, 3, 2, 2, 3, 2, 3, 3, 3, 4, 2, 2, 2, 3, 3, 4, 1, 3, 3, 2, 0,\n",
       "        4, 2, 3, 3, 3, 3, 3, 2, 3, 4, 3, 3, 4, 3, 3, 3, 2, 3, 2, 3, 3, 4,\n",
       "        3, 3, 2, 3, 3, 4, 2, 3, 3, 2]),\n",
       " array([3, 3, 3, 3, 2, 3, 3, 3, 4, 3, 3, 2, 2, 3, 3, 3, 4, 3, 2, 3, 1, 2,\n",
       "        3, 2, 3, 3, 3, 2, 2, 2, 3, 3, 3, 2, 4, 4, 3, 3, 3, 3, 4, 3, 3, 3,\n",
       "        3, 2, 3, 2, 3, 4, 4, 3, 4, 3, 3, 2, 2, 4, 3, 1, 3, 3, 3, 3, 2, 3,\n",
       "        3, 3, 2, 3, 3, 3, 3, 3, 3, 2, 2, 3, 3, 3, 3, 2, 1, 3, 3, 3, 1, 3,\n",
       "        1, 3, 1, 3, 3, 3, 4, 3, 0, 3, 3, 3, 3, 4, 3, 3, 4, 3, 3, 2, 1, 3,\n",
       "        1, 3, 3, 3, 3, 4, 3, 2, 3, 3]),\n",
       " array([3, 1, 3, 3, 2, 3, 3, 2, 3, 2, 1, 1, 2, 3, 3, 3, 4, 3, 3, 4, 4, 4,\n",
       "        2, 1, 3, 3, 3, 3, 2, 3, 1, 3, 2, 3, 3, 3, 3, 2, 2, 3, 2, 3, 2, 2,\n",
       "        3, 2, 3, 4, 0, 3, 3, 4, 3, 3, 3, 4, 2, 3, 4, 2, 4, 2, 4, 2, 4, 1,\n",
       "        3, 2, 3, 2, 3, 3, 1, 3, 3, 3, 2, 3, 3, 4, 3, 3, 3, 3, 3, 4, 3, 3,\n",
       "        4, 2, 2, 2, 1, 3, 3, 4, 3, 3, 3, 3, 2, 2, 2, 2, 4, 4, 3, 1, 4, 2,\n",
       "        2, 3, 3, 2, 3, 3, 3, 1, 2, 3])]"
      ]
     },
     "execution_count": 14,
     "metadata": {},
     "output_type": "execute_result"
    }
   ],
   "source": [
    "targets"
   ]
  },
  {
   "cell_type": "code",
   "execution_count": 13,
   "metadata": {},
   "outputs": [
    {
     "data": {
      "text/plain": [
       "[array([3, 1, 1, 1, 0, 1, 1, 1, 3, 1, 1, 1, 1, 1, 3, 2, 1, 2, 1, 2, 1, 2,\n",
       "        1, 1, 1, 1, 3, 1, 3, 1, 1, 1, 1, 1, 1, 2, 2, 3, 1, 2, 2, 2, 2, 2,\n",
       "        2, 1, 1, 1, 2, 1, 1, 1, 3, 1, 2, 2, 2, 1, 2, 1, 3, 1, 3, 3, 1, 1,\n",
       "        2, 2, 2, 1, 2, 3, 1, 1, 3, 2, 1, 0, 3, 1, 1, 1, 1, 1, 1, 2, 1, 0,\n",
       "        3, 2, 3, 1, 1, 1, 2, 1, 2, 1, 1, 2, 3, 1, 1, 2, 1, 1, 1, 1, 1, 1,\n",
       "        0, 3, 0, 1, 3, 1, 1, 2, 2, 3]),\n",
       " array([1, 1, 1, 1, 3, 1, 3, 2, 1, 3, 2, 2, 0, 1, 2, 2, 2, 1, 2, 3, 2, 2,\n",
       "        1, 3, 2, 1, 0, 2, 1, 1, 3, 1, 1, 2, 1, 3, 1, 2, 2, 2, 3, 2, 3, 1,\n",
       "        3, 1, 2, 1, 2, 1, 2, 1, 2, 1, 1, 2, 3, 3, 3, 2, 2, 2, 1, 1, 2, 1,\n",
       "        1, 1, 1, 1, 0, 0, 2, 0, 1, 1, 2, 2, 1, 2, 3, 1, 1, 1, 1, 1, 2, 0,\n",
       "        3, 1, 1, 3, 1, 3, 2, 3, 1, 1, 1, 1, 1, 0, 2, 2, 2, 1, 1, 1, 1, 3,\n",
       "        0, 1, 1, 0, 2, 0, 1, 1, 1, 1]),\n",
       " array([3, 1, 1, 2, 1, 3, 3, 2, 2, 3, 1, 2, 1, 1, 1, 1, 0, 1, 2, 3, 2, 1,\n",
       "        1, 0, 1, 0, 2, 1, 2, 0, 1, 1, 0, 2, 3, 3, 1, 2, 0, 3, 2, 2, 3, 2,\n",
       "        2, 0, 3, 1, 1, 1, 1, 2, 1, 1, 1, 1, 2, 3, 2, 3, 2, 1, 1, 2, 1, 1,\n",
       "        1, 1, 1, 1, 1, 1, 3, 0, 3, 1, 1, 2, 1, 3, 1, 3, 1, 1, 1, 0, 0, 1,\n",
       "        1, 1, 3, 2, 1, 2, 1, 2, 1, 1, 0, 2, 1, 2, 2, 1, 2, 1, 2, 2, 1, 1,\n",
       "        1, 2, 2, 2, 1, 1, 0, 1, 1, 2]),\n",
       " array([2, 1, 2, 1, 3, 2, 0, 1, 3, 0, 1, 0, 1, 2, 1, 0, 2, 1, 2, 1, 2, 3,\n",
       "        2, 3, 1, 1, 1, 1, 2, 2, 1, 2, 0, 1, 0, 1, 1, 2, 2, 1, 2, 2, 3, 0,\n",
       "        1, 1, 2, 3, 1, 1, 2, 3, 0, 1, 1, 1, 2, 2, 1, 2, 2, 2, 2, 1, 2, 1,\n",
       "        0, 1, 3, 1, 3, 1, 0, 1, 2, 1, 2, 0, 0, 1, 3, 3, 1, 1, 2, 3, 1, 1,\n",
       "        0, 1, 2, 2, 0, 1, 2, 3, 1, 3, 2, 1, 2, 3, 3, 1, 2, 2, 2, 2, 2, 1,\n",
       "        2, 0, 2, 0, 1, 1, 3, 2, 1, 2])]"
      ]
     },
     "execution_count": 13,
     "metadata": {},
     "output_type": "execute_result"
    }
   ],
   "source": [
    "preds"
   ]
  },
  {
   "cell_type": "code",
   "execution_count": 14,
   "metadata": {},
   "outputs": [
    {
     "data": {
      "text/plain": [
       "[0.986262857913971,\n",
       " 0.49855224788188934,\n",
       " 0.37097203731536865,\n",
       " 0.27103545516729355,\n",
       " 0.3571770191192627,\n",
       " 0.3371875286102295,\n",
       " 0.3233692795038223,\n",
       " 0.29358553886413574,\n",
       " 0.27147065103054047,\n",
       " 0.2570360377430916,\n",
       " 0.32411572337150574,\n",
       " 0.28441424667835236,\n",
       " 0.2850971221923828,\n",
       " 0.26060356199741364,\n",
       " 0.3031533509492874,\n",
       " 0.2800355404615402,\n",
       " 0.2782614752650261,\n",
       " 0.26905204355716705,\n",
       " 0.2639346867799759,\n",
       " 0.25397421419620514,\n",
       " 0.2812599092721939,\n",
       " 0.26381418853998184,\n",
       " 0.2612764462828636,\n",
       " 0.2880900800228119,\n",
       " 0.22836203128099442,\n",
       " 0.250477135181427,\n",
       " 0.2888052612543106,\n",
       " 0.23899435997009277,\n",
       " 0.22949956357479095,\n",
       " 0.28019827604293823,\n",
       " 0.2299683392047882,\n",
       " 0.20702288299798965,\n",
       " 0.2745785564184189,\n",
       " 0.2952907234430313,\n",
       " 0.2964576780796051,\n",
       " 0.2518981173634529,\n",
       " 0.2789340913295746,\n",
       " 0.2409902587532997,\n",
       " 0.2847330942749977,\n",
       " 0.2291913852095604,\n",
       " 0.21149113029241562,\n",
       " 0.24139761179685593,\n",
       " 0.26308970153331757,\n",
       " 0.20929107069969177,\n",
       " 0.2225215658545494,\n",
       " 0.2749718576669693,\n",
       " 0.2275579795241356,\n",
       " 0.3206203430891037,\n",
       " 0.30612896382808685,\n",
       " 0.2168896719813347,\n",
       " 0.28882162272930145,\n",
       " 0.25877201557159424,\n",
       " 0.18680527061223984,\n",
       " 0.28885459899902344,\n",
       " 0.20999499410390854,\n",
       " 0.2875269874930382,\n",
       " 0.22066746652126312,\n",
       " 0.28897056728601456,\n",
       " 0.19069299846887589,\n",
       " 0.258823424577713,\n",
       " 0.2366093546152115,\n",
       " 0.24385974556207657,\n",
       " 0.29388323426246643,\n",
       " 0.2078164592385292,\n",
       " 0.248068705201149,\n",
       " 0.23187630623579025,\n",
       " 0.29691606014966965,\n",
       " 0.23181618750095367,\n",
       " 0.2476438730955124,\n",
       " 0.22043820470571518,\n",
       " 0.2577650770545006,\n",
       " 0.20475777983665466,\n",
       " 0.2444622740149498,\n",
       " 0.18144164234399796,\n",
       " 0.2068616896867752,\n",
       " 0.2960321754217148,\n",
       " 0.22576482594013214,\n",
       " 0.2252274602651596,\n",
       " 0.2556910216808319,\n",
       " 0.20947375148534775,\n",
       " 0.2566838189959526,\n",
       " 0.21036534011363983,\n",
       " 0.17167894542217255,\n",
       " 0.256211094558239,\n",
       " 0.2551497519016266,\n",
       " 0.20638620853424072,\n",
       " 0.20583445578813553,\n",
       " 0.18104253709316254,\n",
       " 0.20595677196979523,\n",
       " 0.288420170545578,\n",
       " 0.22954297810792923,\n",
       " 0.21102091670036316,\n",
       " 0.19999205321073532,\n",
       " 0.26201242953538895,\n",
       " 0.2611338943243027,\n",
       " 0.21920818090438843,\n",
       " 0.2078363597393036,\n",
       " 0.2193952575325966,\n",
       " 0.2637380212545395,\n",
       " 0.1869436874985695,\n",
       " 0.1990896835923195,\n",
       " 0.2730542868375778,\n",
       " 0.2316187545657158,\n",
       " 0.1687472015619278,\n",
       " 0.18877871334552765]"
      ]
     },
     "execution_count": 14,
     "metadata": {},
     "output_type": "execute_result"
    }
   ],
   "source": [
    "train_losses"
   ]
  },
  {
   "cell_type": "code",
   "execution_count": 15,
   "metadata": {},
   "outputs": [
    {
     "data": {
      "text/plain": [
       "[0.2725878618657589,\n",
       " 0.3038000017404556,\n",
       " 0.3743957653641701,\n",
       " 0.4048277288675308,\n",
       " 0.38204897195100784,\n",
       " 0.3721608817577362,\n",
       " 0.42862775176763535,\n",
       " 0.3439985141158104,\n",
       " 0.3559018224477768,\n",
       " 0.35145624727010727,\n",
       " 0.3409651964902878,\n",
       " 0.36436453461647034,\n",
       " 0.39821872115135193,\n",
       " 0.3551393896341324,\n",
       " 0.35657311230897903]"
      ]
     },
     "execution_count": 15,
     "metadata": {},
     "output_type": "execute_result"
    }
   ],
   "source": [
    "val_losses"
   ]
  },
  {
   "cell_type": "code",
   "execution_count": null,
   "metadata": {},
   "outputs": [],
   "source": []
  }
 ],
 "metadata": {
  "kernelspec": {
   "display_name": "Python 3",
   "language": "python",
   "name": "python3"
  },
  "language_info": {
   "codemirror_mode": {
    "name": "ipython",
    "version": 3
   },
   "file_extension": ".py",
   "mimetype": "text/x-python",
   "name": "python",
   "nbconvert_exporter": "python",
   "pygments_lexer": "ipython3",
   "version": "3.6.4"
  }
 },
 "nbformat": 4,
 "nbformat_minor": 2
}
