{
 "cells": [
  {
   "cell_type": "code",
   "execution_count": 18,
   "metadata": {},
   "outputs": [],
   "source": [
    "import pandas as pd"
   ]
  },
  {
   "cell_type": "code",
   "execution_count": 19,
   "metadata": {},
   "outputs": [
    {
     "data": {
      "text/plain": [
       "1269291"
      ]
     },
     "execution_count": 19,
     "metadata": {},
     "output_type": "execute_result"
    }
   ],
   "source": [
    "data = pd.read_csv('/datasets/cs190f-public/BeerAdvocateDataset/BeerAdvocate_Train.csv')\n",
    "len(data)"
   ]
  },
  {
   "cell_type": "code",
   "execution_count": 20,
   "metadata": {},
   "outputs": [
    {
     "data": {
      "text/plain": [
       "1269291"
      ]
     },
     "execution_count": 20,
     "metadata": {},
     "output_type": "execute_result"
    }
   ],
   "source": [
    "len(data)"
   ]
  },
  {
   "cell_type": "code",
   "execution_count": 3,
   "metadata": {},
   "outputs": [],
   "source": [
    "test = pd.read_csv('/datasets/cs190f-public/BeerAdvocateDataset/BeerAdvocate_Test.csv')"
   ]
  },
  {
   "cell_type": "code",
   "execution_count": 5,
   "metadata": {},
   "outputs": [
    {
     "data": {
      "text/plain": [
       "317323"
      ]
     },
     "execution_count": 5,
     "metadata": {},
     "output_type": "execute_result"
    }
   ],
   "source": [
    "len(test)"
   ]
  },
  {
   "cell_type": "code",
   "execution_count": null,
   "metadata": {},
   "outputs": [],
   "source": [
    "from torch.nn.functional import softmax\n",
    "y_n = torch.FloatTensor([[0.2,0.5,0.3],[0.1,0.3,0.6],[0.7,0.25,0.15]])\n",
    "softmax(y_n / cfg['temperature'], dim=1)"
   ]
  },
  {
   "cell_type": "code",
   "execution_count": 21,
   "metadata": {},
   "outputs": [],
   "source": [
    "#data.dropna(subset=['beer/style'],how='any',inplace = True)\n",
    "data.dropna(subset=['review/overall', 'beer/style', 'review/text'],how='any',inplace = True)"
   ]
  },
  {
   "cell_type": "code",
   "execution_count": 26,
   "metadata": {},
   "outputs": [],
   "source": [
    "data = data['review/text'].tolist()"
   ]
  },
  {
   "cell_type": "code",
   "execution_count": null,
   "metadata": {},
   "outputs": [],
   "source": [
    "d = [d.split() for d in data]"
   ]
  },
  {
   "cell_type": "code",
   "execution_count": 3,
   "metadata": {},
   "outputs": [
    {
     "data": {
      "text/plain": [
       "'happy/e1count2'"
      ]
     },
     "execution_count": 3,
     "metadata": {},
     "output_type": "execute_result"
    }
   ],
   "source": [
    "'happy/'+'e%dcount%d'%(1,2)"
   ]
  },
  {
   "cell_type": "code",
   "execution_count": 2,
   "metadata": {},
   "outputs": [
    {
     "data": {
      "text/plain": [
       "array([3, 4, 2, 0, 1])"
      ]
     },
     "execution_count": 2,
     "metadata": {},
     "output_type": "execute_result"
    }
   ],
   "source": [
    "from random import shuffle\n",
    "import numpy as np\n",
    "a = np.arange(5)\n",
    "shuffle(a)\n",
    "a"
   ]
  },
  {
   "cell_type": "code",
   "execution_count": 1,
   "metadata": {},
   "outputs": [
    {
     "data": {
      "text/plain": [
       "tensor([[[ 1.,  0.,  0.],\n",
       "         [ 1.,  0.,  0.],\n",
       "         [ 0.,  1.,  0.]],\n",
       "\n",
       "        [[ 0.,  1.,  0.],\n",
       "         [ 0.,  0.,  1.],\n",
       "         [ 1.,  0.,  0.]],\n",
       "\n",
       "        [[ 1.,  0.,  0.],\n",
       "         [ 0.,  0.,  1.],\n",
       "         [ 0.,  1.,  0.]]])"
      ]
     },
     "execution_count": 1,
     "metadata": {},
     "output_type": "execute_result"
    }
   ],
   "source": [
    "import torch\n",
    "tensor = torch.tensor(())\n",
    "t = tensor.new_zeros((3,3,3))\n",
    "t[[[0],[1],[2]],[0,1,2],[[0,0,1],[1,2,0],[0,2,1]]]= 1\n",
    "#t[np.arange(3), :, [0,1,2]] = 1\n",
    "t"
   ]
  },
  {
   "cell_type": "code",
   "execution_count": 16,
   "metadata": {},
   "outputs": [],
   "source": [
    "input_t = t[0,[0],:].unsqueeze_(0)"
   ]
  },
  {
   "cell_type": "code",
   "execution_count": 17,
   "metadata": {},
   "outputs": [
    {
     "data": {
      "text/plain": [
       "torch.Size([1, 1, 3])"
      ]
     },
     "execution_count": 17,
     "metadata": {},
     "output_type": "execute_result"
    }
   ],
   "source": [
    "input_t.size()"
   ]
  },
  {
   "cell_type": "code",
   "execution_count": null,
   "metadata": {},
   "outputs": [],
   "source": []
  },
  {
   "cell_type": "code",
   "execution_count": 6,
   "metadata": {},
   "outputs": [],
   "source": [
    "label = torch.zeros(5, 3, dtype=torch.long)"
   ]
  },
  {
   "cell_type": "code",
   "execution_count": 12,
   "metadata": {},
   "outputs": [],
   "source": [
    " n_indices = torch.zeros((5, 1), dtype=torch.long)\n",
    "batch_arange = torch.arange(5, dtype=torch.long)\n",
    "n_indices[batch_arange,0] = batch_arange\n",
    "seq_arange = torch.arange(3, dtype=torch.long)\n",
    "label[n_indices, seq_arange] = torch.LongTensor([[56,30,11],[2,5,5],[3,4,4],[7,8,8],[9,10,10]])"
   ]
  },
  {
   "cell_type": "code",
   "execution_count": 13,
   "metadata": {},
   "outputs": [
    {
     "data": {
      "text/plain": [
       "tensor([[ 56,  30,  11],\n",
       "        [  2,   5,   5],\n",
       "        [  3,   4,   4],\n",
       "        [  7,   8,   8],\n",
       "        [  9,  10,  10]])"
      ]
     },
     "execution_count": 13,
     "metadata": {},
     "output_type": "execute_result"
    }
   ],
   "source": [
    "label"
   ]
  },
  {
   "cell_type": "code",
   "execution_count": 15,
   "metadata": {},
   "outputs": [
    {
     "data": {
      "text/plain": [
       "tensor([ 56,   2,   3,   7,   9])"
      ]
     },
     "execution_count": 15,
     "metadata": {},
     "output_type": "execute_result"
    }
   ],
   "source": [
    "label[:,0]"
   ]
  },
  {
   "cell_type": "code",
   "execution_count": 11,
   "metadata": {},
   "outputs": [],
   "source": [
    "b = torch.tensor(())\n",
    "b = b.new_zeros((5,1))\n",
    "b[np.arange(5),0] = torch.FloatTensor([1,2,3,4,5])"
   ]
  },
  {
   "cell_type": "code",
   "execution_count": 12,
   "metadata": {},
   "outputs": [
    {
     "data": {
      "text/plain": [
       "tensor([[ 1.],\n",
       "        [ 2.],\n",
       "        [ 3.],\n",
       "        [ 4.],\n",
       "        [ 5.]])"
      ]
     },
     "execution_count": 12,
     "metadata": {},
     "output_type": "execute_result"
    }
   ],
   "source": [
    "b"
   ]
  },
  {
   "cell_type": "code",
   "execution_count": 28,
   "metadata": {},
   "outputs": [],
   "source": [
    "label = torch.zeros(2, 5, dtype=torch.long)\n",
    "label[[[0],[1]], np.arange(5)] = torch.tensor([[1,2,3],[4,5,3],[4,5,1,2]])"
   ]
  },
  {
   "cell_type": "code",
   "execution_count": 29,
   "metadata": {},
   "outputs": [
    {
     "data": {
      "text/plain": [
       "tensor([[ 1,  2,  3,  4,  5],\n",
       "        [ 3,  4,  5,  1,  2]])"
      ]
     },
     "execution_count": 29,
     "metadata": {},
     "output_type": "execute_result"
    }
   ],
   "source": [
    "label"
   ]
  },
  {
   "cell_type": "code",
   "execution_count": 73,
   "metadata": {},
   "outputs": [],
   "source": [
    "a = [[0],[1,2],[0,3,5]]\n",
    "for i in a:\n",
    "    i += (3-len(i))*[-1]\n",
    "    "
   ]
  },
  {
   "cell_type": "code",
   "execution_count": 74,
   "metadata": {},
   "outputs": [
    {
     "data": {
      "text/plain": [
       "[[0, -1, -1], [1, 2, -1], [0, 3, 5]]"
      ]
     },
     "execution_count": 74,
     "metadata": {},
     "output_type": "execute_result"
    }
   ],
   "source": [
    "a"
   ]
  },
  {
   "cell_type": "code",
   "execution_count": 59,
   "metadata": {},
   "outputs": [
    {
     "data": {
      "text/plain": [
       "array([[0],\n",
       "       [1],\n",
       "       [2],\n",
       "       [3]])"
      ]
     },
     "execution_count": 59,
     "metadata": {},
     "output_type": "execute_result"
    }
   ],
   "source": [
    "import numpy as np\n",
    "a = np.zeros((4,1),dtype=int)\n",
    "a[np.arange(4),0] = np.arange(4)\n",
    "a"
   ]
  },
  {
   "cell_type": "code",
   "execution_count": 78,
   "metadata": {},
   "outputs": [
    {
     "data": {
      "text/plain": [
       "tensor([ 100,  102])"
      ]
     },
     "execution_count": 78,
     "metadata": {},
     "output_type": "execute_result"
    }
   ],
   "source": [
    "a = torch.FloatTensor([[1,0,0],[0,1,2]])\n",
    "(a[:,2] + 100).long()"
   ]
  },
  {
   "cell_type": "code",
   "execution_count": 5,
   "metadata": {},
   "outputs": [
    {
     "name": "stdout",
     "output_type": "stream",
     "text": [
      "['Hefeweizen' 'English Strong Ale' 'Foreign / Export Stout'\n",
      " 'German Pilsener' 'American Double / Imperial IPA' 'Herbed / Spiced Beer'\n",
      " 'Oatmeal Stout' 'American Pale Lager' 'Rauchbier'\n",
      " 'American Pale Ale (APA)' 'American Porter' 'Belgian Strong Dark Ale'\n",
      " 'American Stout' 'Russian Imperial Stout' 'American Amber / Red Ale'\n",
      " 'American Strong Ale' 'Märzen / Oktoberfest' 'American Adjunct Lager'\n",
      " 'American Blonde Ale' 'American IPA' 'Fruit / Vegetable Beer'\n",
      " 'American Double / Imperial Stout' 'English Bitter' 'English Porter'\n",
      " 'Irish Dry Stout' 'American Barleywine' 'Belgian Strong Pale Ale'\n",
      " 'Doppelbock' 'Maibock / Helles Bock' 'Light Lager' 'Pumpkin Ale'\n",
      " 'Dortmunder / Export Lager' 'Euro Strong Lager' 'Euro Dark Lager'\n",
      " 'Low Alcohol Beer' 'Euro Pale Lager' 'Bock'\n",
      " 'English India Pale Ale (IPA)' 'Altbier' 'Kölsch' 'Munich Dunkel Lager'\n",
      " 'Rye Beer' 'American Pale Wheat Ale' 'Milk / Sweet Stout' 'Schwarzbier'\n",
      " 'Vienna Lager' 'American Amber / Red Lager' 'Scottish Ale' 'Witbier'\n",
      " 'Saison / Farmhouse Ale' 'English Brown Ale' 'American Black Ale'\n",
      " 'English Barleywine' 'English Dark Mild Ale'\n",
      " 'Extra Special / Strong Bitter (ESB)' 'California Common / Steam Beer'\n",
      " 'Scotch Ale / Wee Heavy' 'English Pale Ale' 'Belgian IPA'\n",
      " 'Belgian Pale Ale' 'Tripel' 'Flanders Oud Bruin' 'Czech Pilsener'\n",
      " 'American Brown Ale' 'Smoked Beer' 'Flanders Red Ale' 'Dunkelweizen'\n",
      " 'Dubbel' 'Roggenbier' 'Keller Bier / Zwickel Bier' 'Belgian Dark Ale'\n",
      " 'Winter Warmer' 'Bière de Garde' 'Japanese Rice Lager' 'Black & Tan'\n",
      " 'Irish Red Ale' 'Chile Beer' 'English Stout' 'Cream Ale'\n",
      " 'American Wild Ale' 'Weizenbock' 'American Double / Imperial Pilsner'\n",
      " 'Scottish Gruit / Ancient Herbed Ale' 'Wheatwine'\n",
      " 'American Dark Wheat Ale' 'American Malt Liquor' 'Baltic Porter'\n",
      " 'Munich Helles Lager' 'Kristalweizen' 'English Pale Mild Ale'\n",
      " 'Lambic - Fruit' 'Old Ale' 'Quadrupel (Quad)' 'Braggot'\n",
      " 'Lambic - Unblended' 'Eisbock' 'Berliner Weissbier' 'Kvass' 'Faro'\n",
      " 'Gueuze' 'Gose' 'Happoshu' 'Sahti' 'Bière de Champagne / Bière Brut']\n",
      "104\n"
     ]
    }
   ],
   "source": [
    "styles = data['beer/style'].unique()\n",
    "print(styles)\n",
    "print(len(styles))"
   ]
  },
  {
   "cell_type": "code",
   "execution_count": 6,
   "metadata": {},
   "outputs": [
    {
     "name": "stdout",
     "output_type": "stream",
     "text": [
      "[1.5 3.  4.  3.5 4.5 5.  2.  2.5 1.  0. ]\n",
      "10\n"
     ]
    }
   ],
   "source": [
    "ratings = data['review/overall'].unique()\n",
    "print(ratings)\n",
    "print(len(ratings))"
   ]
  }
 ],
 "metadata": {
  "kernelspec": {
   "display_name": "Python 3",
   "language": "python",
   "name": "python3"
  },
  "language_info": {
   "codemirror_mode": {
    "name": "ipython",
    "version": 3
   },
   "file_extension": ".py",
   "mimetype": "text/x-python",
   "name": "python",
   "nbconvert_exporter": "python",
   "pygments_lexer": "ipython3",
   "version": "3.6.4"
  }
 },
 "nbformat": 4,
 "nbformat_minor": 2
}
