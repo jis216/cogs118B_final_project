{
 "cells": [
  {
   "cell_type": "code",
   "execution_count": 1,
   "metadata": {},
   "outputs": [],
   "source": [
    "import pandas as pd\n",
    "path = './essay_dataset/training_set_rel3.tsv'"
   ]
  },
  {
   "cell_type": "code",
   "execution_count": 2,
   "metadata": {},
   "outputs": [],
   "source": [
    "train_df = pd.read_table('./essay_dataset/training_set_rel3.tsv',encoding = \"ISO-8859-1\")"
   ]
  },
  {
   "cell_type": "code",
   "execution_count": 3,
   "metadata": {},
   "outputs": [
    {
     "data": {
      "text/html": [
       "<div>\n",
       "<style scoped>\n",
       "    .dataframe tbody tr th:only-of-type {\n",
       "        vertical-align: middle;\n",
       "    }\n",
       "\n",
       "    .dataframe tbody tr th {\n",
       "        vertical-align: top;\n",
       "    }\n",
       "\n",
       "    .dataframe thead th {\n",
       "        text-align: right;\n",
       "    }\n",
       "</style>\n",
       "<table border=\"1\" class=\"dataframe\">\n",
       "  <thead>\n",
       "    <tr style=\"text-align: right;\">\n",
       "      <th></th>\n",
       "      <th>essay_id</th>\n",
       "      <th>essay_set</th>\n",
       "      <th>essay</th>\n",
       "      <th>rater1_domain1</th>\n",
       "      <th>rater2_domain1</th>\n",
       "      <th>rater3_domain1</th>\n",
       "      <th>domain1_score</th>\n",
       "      <th>rater1_domain2</th>\n",
       "      <th>rater2_domain2</th>\n",
       "      <th>domain2_score</th>\n",
       "      <th>...</th>\n",
       "      <th>rater2_trait3</th>\n",
       "      <th>rater2_trait4</th>\n",
       "      <th>rater2_trait5</th>\n",
       "      <th>rater2_trait6</th>\n",
       "      <th>rater3_trait1</th>\n",
       "      <th>rater3_trait2</th>\n",
       "      <th>rater3_trait3</th>\n",
       "      <th>rater3_trait4</th>\n",
       "      <th>rater3_trait5</th>\n",
       "      <th>rater3_trait6</th>\n",
       "    </tr>\n",
       "  </thead>\n",
       "  <tbody>\n",
       "    <tr>\n",
       "      <th>0</th>\n",
       "      <td>1</td>\n",
       "      <td>1</td>\n",
       "      <td>Dear local newspaper, I think effects computer...</td>\n",
       "      <td>4</td>\n",
       "      <td>4</td>\n",
       "      <td>NaN</td>\n",
       "      <td>8</td>\n",
       "      <td>NaN</td>\n",
       "      <td>NaN</td>\n",
       "      <td>NaN</td>\n",
       "      <td>...</td>\n",
       "      <td>NaN</td>\n",
       "      <td>NaN</td>\n",
       "      <td>NaN</td>\n",
       "      <td>NaN</td>\n",
       "      <td>NaN</td>\n",
       "      <td>NaN</td>\n",
       "      <td>NaN</td>\n",
       "      <td>NaN</td>\n",
       "      <td>NaN</td>\n",
       "      <td>NaN</td>\n",
       "    </tr>\n",
       "    <tr>\n",
       "      <th>1</th>\n",
       "      <td>2</td>\n",
       "      <td>1</td>\n",
       "      <td>Dear @CAPS1 @CAPS2, I believe that using compu...</td>\n",
       "      <td>5</td>\n",
       "      <td>4</td>\n",
       "      <td>NaN</td>\n",
       "      <td>9</td>\n",
       "      <td>NaN</td>\n",
       "      <td>NaN</td>\n",
       "      <td>NaN</td>\n",
       "      <td>...</td>\n",
       "      <td>NaN</td>\n",
       "      <td>NaN</td>\n",
       "      <td>NaN</td>\n",
       "      <td>NaN</td>\n",
       "      <td>NaN</td>\n",
       "      <td>NaN</td>\n",
       "      <td>NaN</td>\n",
       "      <td>NaN</td>\n",
       "      <td>NaN</td>\n",
       "      <td>NaN</td>\n",
       "    </tr>\n",
       "    <tr>\n",
       "      <th>2</th>\n",
       "      <td>3</td>\n",
       "      <td>1</td>\n",
       "      <td>Dear, @CAPS1 @CAPS2 @CAPS3 More and more peopl...</td>\n",
       "      <td>4</td>\n",
       "      <td>3</td>\n",
       "      <td>NaN</td>\n",
       "      <td>7</td>\n",
       "      <td>NaN</td>\n",
       "      <td>NaN</td>\n",
       "      <td>NaN</td>\n",
       "      <td>...</td>\n",
       "      <td>NaN</td>\n",
       "      <td>NaN</td>\n",
       "      <td>NaN</td>\n",
       "      <td>NaN</td>\n",
       "      <td>NaN</td>\n",
       "      <td>NaN</td>\n",
       "      <td>NaN</td>\n",
       "      <td>NaN</td>\n",
       "      <td>NaN</td>\n",
       "      <td>NaN</td>\n",
       "    </tr>\n",
       "    <tr>\n",
       "      <th>3</th>\n",
       "      <td>4</td>\n",
       "      <td>1</td>\n",
       "      <td>Dear Local Newspaper, @CAPS1 I have found that...</td>\n",
       "      <td>5</td>\n",
       "      <td>5</td>\n",
       "      <td>NaN</td>\n",
       "      <td>10</td>\n",
       "      <td>NaN</td>\n",
       "      <td>NaN</td>\n",
       "      <td>NaN</td>\n",
       "      <td>...</td>\n",
       "      <td>NaN</td>\n",
       "      <td>NaN</td>\n",
       "      <td>NaN</td>\n",
       "      <td>NaN</td>\n",
       "      <td>NaN</td>\n",
       "      <td>NaN</td>\n",
       "      <td>NaN</td>\n",
       "      <td>NaN</td>\n",
       "      <td>NaN</td>\n",
       "      <td>NaN</td>\n",
       "    </tr>\n",
       "    <tr>\n",
       "      <th>4</th>\n",
       "      <td>5</td>\n",
       "      <td>1</td>\n",
       "      <td>Dear @LOCATION1, I know having computers has a...</td>\n",
       "      <td>4</td>\n",
       "      <td>4</td>\n",
       "      <td>NaN</td>\n",
       "      <td>8</td>\n",
       "      <td>NaN</td>\n",
       "      <td>NaN</td>\n",
       "      <td>NaN</td>\n",
       "      <td>...</td>\n",
       "      <td>NaN</td>\n",
       "      <td>NaN</td>\n",
       "      <td>NaN</td>\n",
       "      <td>NaN</td>\n",
       "      <td>NaN</td>\n",
       "      <td>NaN</td>\n",
       "      <td>NaN</td>\n",
       "      <td>NaN</td>\n",
       "      <td>NaN</td>\n",
       "      <td>NaN</td>\n",
       "    </tr>\n",
       "  </tbody>\n",
       "</table>\n",
       "<p>5 rows × 28 columns</p>\n",
       "</div>"
      ],
      "text/plain": [
       "   essay_id  essay_set                                              essay  \\\n",
       "0         1          1  Dear local newspaper, I think effects computer...   \n",
       "1         2          1  Dear @CAPS1 @CAPS2, I believe that using compu...   \n",
       "2         3          1  Dear, @CAPS1 @CAPS2 @CAPS3 More and more peopl...   \n",
       "3         4          1  Dear Local Newspaper, @CAPS1 I have found that...   \n",
       "4         5          1  Dear @LOCATION1, I know having computers has a...   \n",
       "\n",
       "   rater1_domain1  rater2_domain1  rater3_domain1  domain1_score  \\\n",
       "0               4               4             NaN              8   \n",
       "1               5               4             NaN              9   \n",
       "2               4               3             NaN              7   \n",
       "3               5               5             NaN             10   \n",
       "4               4               4             NaN              8   \n",
       "\n",
       "   rater1_domain2  rater2_domain2  domain2_score      ...        \\\n",
       "0             NaN             NaN            NaN      ...         \n",
       "1             NaN             NaN            NaN      ...         \n",
       "2             NaN             NaN            NaN      ...         \n",
       "3             NaN             NaN            NaN      ...         \n",
       "4             NaN             NaN            NaN      ...         \n",
       "\n",
       "   rater2_trait3  rater2_trait4  rater2_trait5  rater2_trait6  rater3_trait1  \\\n",
       "0            NaN            NaN            NaN            NaN            NaN   \n",
       "1            NaN            NaN            NaN            NaN            NaN   \n",
       "2            NaN            NaN            NaN            NaN            NaN   \n",
       "3            NaN            NaN            NaN            NaN            NaN   \n",
       "4            NaN            NaN            NaN            NaN            NaN   \n",
       "\n",
       "   rater3_trait2  rater3_trait3  rater3_trait4  rater3_trait5  rater3_trait6  \n",
       "0            NaN            NaN            NaN            NaN            NaN  \n",
       "1            NaN            NaN            NaN            NaN            NaN  \n",
       "2            NaN            NaN            NaN            NaN            NaN  \n",
       "3            NaN            NaN            NaN            NaN            NaN  \n",
       "4            NaN            NaN            NaN            NaN            NaN  \n",
       "\n",
       "[5 rows x 28 columns]"
      ]
     },
     "execution_count": 3,
     "metadata": {},
     "output_type": "execute_result"
    }
   ],
   "source": [
    "train_df.head()"
   ]
  },
  {
   "cell_type": "code",
   "execution_count": 4,
   "metadata": {},
   "outputs": [],
   "source": [
    "train_df = train_df[['essay_id','essay_set','essay','rater1_domain1','rater2_domain1','domain1_score','domain2_score']]"
   ]
  },
  {
   "cell_type": "code",
   "execution_count": 4,
   "metadata": {},
   "outputs": [],
   "source": [
    "es = train_df['essay']"
   ]
  },
  {
   "cell_type": "code",
   "execution_count": 5,
   "metadata": {},
   "outputs": [
    {
     "data": {
      "text/plain": [
       "\"Dear local newspaper, I think effects computers have on people are great learning skills/affects because they give us time to chat with friends/new people, helps us learn about the globe(astronomy) and keeps us out of troble! Thing about! Dont you think so? How would you feel if your teenager is always on the phone with friends! Do you ever time to chat with your friends or buisness partner about things. Well now - there's a new way to chat the computer, theirs plenty of sites on the internet to do so: @ORGANIZATION1, @ORGANIZATION2, @CAPS1, facebook, myspace ect. Just think now while your setting up meeting with your boss on the computer, your teenager is having fun on the phone not rushing to get off cause you want to use it. How did you learn about other countrys/states outside of yours? Well I have by computer/internet, it's a new way to learn about what going on in our time! You might think your child spends a lot of time on the computer, but ask them so question about the economy, sea floor spreading or even about the @DATE1's you'll be surprise at how much he/she knows. Believe it or not the computer is much interesting then in class all day reading out of books. If your child is home on your computer or at a local library, it's better than being out with friends being fresh, or being perpressured to doing something they know isnt right. You might not know where your child is, @CAPS2 forbidde in a hospital bed because of a drive-by. Rather than your child on the computer learning, chatting or just playing games, safe and sound in your home or community place. Now I hope you have reached a point to understand and agree with me, because computers can have great effects on you or child because it gives us time to chat with friends/new people, helps us learn about the globe and believe or not keeps us out of troble. Thank you for listening.\""
      ]
     },
     "execution_count": 5,
     "metadata": {},
     "output_type": "execute_result"
    }
   ],
   "source": [
    "es[0]"
   ]
  },
  {
   "cell_type": "code",
   "execution_count": 5,
   "metadata": {},
   "outputs": [],
   "source": [
    "scores = train_df['domain1_score']"
   ]
  },
  {
   "cell_type": "code",
   "execution_count": 6,
   "metadata": {},
   "outputs": [
    {
     "data": {
      "text/plain": [
       "60"
      ]
     },
     "execution_count": 6,
     "metadata": {},
     "output_type": "execute_result"
    }
   ],
   "source": [
    "import numpy as np\n",
    "np.max(scores)"
   ]
  },
  {
   "cell_type": "code",
   "execution_count": 3,
   "metadata": {},
   "outputs": [],
   "source": [
    "for (i,row) in train_df.iterrows():\n",
    "    #print(row)\n",
    "    if row.essay_set == 1:\n",
    "        train_df.loc[i, 'domain1_score'] = row['domain1_score'] - 2\n",
    "    if row['essay_set'] == 2:\n",
    "        train_df.loc[i, 'domain1_score'] =(row['domain1_score'] - 1)*2\n",
    "    if row['essay_set'] == 3 or 4:\n",
    "        train_df.loc[i, 'domain1_score'] =row['domain1_score']/3.0*10\n",
    "    if row['essay_set'] == 5 or 6:\n",
    "        train_df.loc[i, 'domain1_score']= row['domain1_score']/4.0*10\n",
    "    if row['essay_set'] == 7:\n",
    "        train_df.loc[i, 'domain1_score'] =row['domain1_score']/30.0\n",
    "    if row['essay_set'] == 8:\n",
    "        train_df.loc[i, 'domain1_score'] =row['domain1_score']/60.0"
   ]
  },
  {
   "cell_type": "code",
   "execution_count": 4,
   "metadata": {},
   "outputs": [
    {
     "name": "stdout",
     "output_type": "stream",
     "text": [
      "sucsks\n"
     ]
    }
   ],
   "source": [
    "a = 2\n",
    "if a == 1 or 2:\n",
    "    print('sucsks')"
   ]
  },
  {
   "cell_type": "code",
   "execution_count": null,
   "metadata": {},
   "outputs": [],
   "source": [
    "dict[]"
   ]
  },
  {
   "cell_type": "code",
   "execution_count": 6,
   "metadata": {},
   "outputs": [
    {
     "name": "stdout",
     "output_type": "stream",
     "text": [
      "Dear local newspaper, I think effects computers have on people are great learning skills/affects because they give us time to chat with friends/new people, helps us learn about the globe(astronomy) and keeps us out of troble! Thing about! Dont you think so? How would you feel if your teenager is always on the phone with friends! Do you ever time to chat with your friends or buisness partner about things. Well now - there's a new way to chat the computer, theirs plenty of sites on the internet to do so: @ORGANIZATION1, @ORGANIZATION2, @CAPS1, facebook, myspace ect. Just think now while your setting up meeting with your boss on the computer, your teenager is having fun on the phone not rushing to get off cause you want to use it. How did you learn about other countrys/states outside of yours? Well I have by computer/internet, it's a new way to learn about what going on in our time! You might think your child spends a lot of time on the computer, but ask them so question about the economy, sea floor spreading or even about the @DATE1's you'll be surprise at how much he/she knows. Believe it or not the computer is much interesting then in class all day reading out of books. If your child is home on your computer or at a local library, it's better than being out with friends being fresh, or being perpressured to doing something they know isnt right. You might not know where your child is, @CAPS2 forbidde in a hospital bed because of a drive-by. Rather than your child on the computer learning, chatting or just playing games, safe and sound in your home or community place. Now I hope you have reached a point to understand and agree with me, because computers can have great effects on you or child because it gives us time to chat with friends/new people, helps us learn about the globe and believe or not keeps us out of troble. Thank you for listening.\n"
     ]
    }
   ],
   "source": [
    "for e in es:\n",
    "    print(e)\n",
    "    break"
   ]
  },
  {
   "cell_type": "code",
   "execution_count": 7,
   "metadata": {},
   "outputs": [
    {
     "data": {
      "text/html": [
       "<div>\n",
       "<style scoped>\n",
       "    .dataframe tbody tr th:only-of-type {\n",
       "        vertical-align: middle;\n",
       "    }\n",
       "\n",
       "    .dataframe tbody tr th {\n",
       "        vertical-align: top;\n",
       "    }\n",
       "\n",
       "    .dataframe thead th {\n",
       "        text-align: right;\n",
       "    }\n",
       "</style>\n",
       "<table border=\"1\" class=\"dataframe\">\n",
       "  <thead>\n",
       "    <tr style=\"text-align: right;\">\n",
       "      <th></th>\n",
       "      <th>essay_id</th>\n",
       "      <th>essay_set</th>\n",
       "      <th>essay</th>\n",
       "      <th>rater1_domain1</th>\n",
       "      <th>rater2_domain1</th>\n",
       "      <th>domain1_score</th>\n",
       "    </tr>\n",
       "  </thead>\n",
       "  <tbody>\n",
       "    <tr>\n",
       "      <th>0</th>\n",
       "      <td>1</td>\n",
       "      <td>1</td>\n",
       "      <td>Dear local newspaper, I think effects computer...</td>\n",
       "      <td>4</td>\n",
       "      <td>4</td>\n",
       "      <td>8</td>\n",
       "    </tr>\n",
       "    <tr>\n",
       "      <th>1</th>\n",
       "      <td>2</td>\n",
       "      <td>1</td>\n",
       "      <td>Dear @CAPS1 @CAPS2, I believe that using compu...</td>\n",
       "      <td>5</td>\n",
       "      <td>4</td>\n",
       "      <td>9</td>\n",
       "    </tr>\n",
       "    <tr>\n",
       "      <th>2</th>\n",
       "      <td>3</td>\n",
       "      <td>1</td>\n",
       "      <td>Dear, @CAPS1 @CAPS2 @CAPS3 More and more peopl...</td>\n",
       "      <td>4</td>\n",
       "      <td>3</td>\n",
       "      <td>7</td>\n",
       "    </tr>\n",
       "    <tr>\n",
       "      <th>3</th>\n",
       "      <td>4</td>\n",
       "      <td>1</td>\n",
       "      <td>Dear Local Newspaper, @CAPS1 I have found that...</td>\n",
       "      <td>5</td>\n",
       "      <td>5</td>\n",
       "      <td>10</td>\n",
       "    </tr>\n",
       "    <tr>\n",
       "      <th>4</th>\n",
       "      <td>5</td>\n",
       "      <td>1</td>\n",
       "      <td>Dear @LOCATION1, I know having computers has a...</td>\n",
       "      <td>4</td>\n",
       "      <td>4</td>\n",
       "      <td>8</td>\n",
       "    </tr>\n",
       "  </tbody>\n",
       "</table>\n",
       "</div>"
      ],
      "text/plain": [
       "   essay_id  essay_set                                              essay  \\\n",
       "0         1          1  Dear local newspaper, I think effects computer...   \n",
       "1         2          1  Dear @CAPS1 @CAPS2, I believe that using compu...   \n",
       "2         3          1  Dear, @CAPS1 @CAPS2 @CAPS3 More and more peopl...   \n",
       "3         4          1  Dear Local Newspaper, @CAPS1 I have found that...   \n",
       "4         5          1  Dear @LOCATION1, I know having computers has a...   \n",
       "\n",
       "   rater1_domain1  rater2_domain1  domain1_score  \n",
       "0               4               4              8  \n",
       "1               5               4              9  \n",
       "2               4               3              7  \n",
       "3               5               5             10  \n",
       "4               4               4              8  "
      ]
     },
     "execution_count": 7,
     "metadata": {},
     "output_type": "execute_result"
    }
   ],
   "source": [
    "train_df.head()"
   ]
  },
  {
   "cell_type": "code",
   "execution_count": 14,
   "metadata": {},
   "outputs": [],
   "source": [
    "set_3 = train_df[train_df.essay_set == 6]"
   ]
  },
  {
   "cell_type": "code",
   "execution_count": 16,
   "metadata": {},
   "outputs": [
    {
     "data": {
      "text/html": [
       "<div>\n",
       "<style scoped>\n",
       "    .dataframe tbody tr th:only-of-type {\n",
       "        vertical-align: middle;\n",
       "    }\n",
       "\n",
       "    .dataframe tbody tr th {\n",
       "        vertical-align: top;\n",
       "    }\n",
       "\n",
       "    .dataframe thead th {\n",
       "        text-align: right;\n",
       "    }\n",
       "</style>\n",
       "<table border=\"1\" class=\"dataframe\">\n",
       "  <thead>\n",
       "    <tr style=\"text-align: right;\">\n",
       "      <th></th>\n",
       "      <th>essay_id</th>\n",
       "      <th>essay_set</th>\n",
       "      <th>essay</th>\n",
       "      <th>rater1_domain1</th>\n",
       "      <th>rater2_domain1</th>\n",
       "      <th>domain1_score</th>\n",
       "    </tr>\n",
       "  </thead>\n",
       "  <tbody>\n",
       "    <tr>\n",
       "      <th>8884</th>\n",
       "      <td>14834</td>\n",
       "      <td>6</td>\n",
       "      <td>There were many obstacles that the builders fa...</td>\n",
       "      <td>2</td>\n",
       "      <td>2</td>\n",
       "      <td>2</td>\n",
       "    </tr>\n",
       "    <tr>\n",
       "      <th>8885</th>\n",
       "      <td>14835</td>\n",
       "      <td>6</td>\n",
       "      <td>Him from the start, there would have been many...</td>\n",
       "      <td>3</td>\n",
       "      <td>3</td>\n",
       "      <td>3</td>\n",
       "    </tr>\n",
       "    <tr>\n",
       "      <th>8886</th>\n",
       "      <td>14836</td>\n",
       "      <td>6</td>\n",
       "      <td>The builders of the Empire State Building face...</td>\n",
       "      <td>3</td>\n",
       "      <td>4</td>\n",
       "      <td>4</td>\n",
       "    </tr>\n",
       "    <tr>\n",
       "      <th>8887</th>\n",
       "      <td>14837</td>\n",
       "      <td>6</td>\n",
       "      <td>In the passage The Mooring Mast by Marcia Amid...</td>\n",
       "      <td>1</td>\n",
       "      <td>1</td>\n",
       "      <td>1</td>\n",
       "    </tr>\n",
       "    <tr>\n",
       "      <th>8888</th>\n",
       "      <td>14838</td>\n",
       "      <td>6</td>\n",
       "      <td>The builders of the Empire State Building face...</td>\n",
       "      <td>3</td>\n",
       "      <td>3</td>\n",
       "      <td>3</td>\n",
       "    </tr>\n",
       "  </tbody>\n",
       "</table>\n",
       "</div>"
      ],
      "text/plain": [
       "      essay_id  essay_set                                              essay  \\\n",
       "8884     14834          6  There were many obstacles that the builders fa...   \n",
       "8885     14835          6  Him from the start, there would have been many...   \n",
       "8886     14836          6  The builders of the Empire State Building face...   \n",
       "8887     14837          6  In the passage The Mooring Mast by Marcia Amid...   \n",
       "8888     14838          6  The builders of the Empire State Building face...   \n",
       "\n",
       "      rater1_domain1  rater2_domain1  domain1_score  \n",
       "8884               2               2              2  \n",
       "8885               3               3              3  \n",
       "8886               3               4              4  \n",
       "8887               1               1              1  \n",
       "8888               3               3              3  "
      ]
     },
     "execution_count": 16,
     "metadata": {},
     "output_type": "execute_result"
    }
   ],
   "source": [
    "set_3.head()"
   ]
  },
  {
   "cell_type": "code",
   "execution_count": 15,
   "metadata": {},
   "outputs": [
    {
     "data": {
      "text/plain": [
       "\"There were many obstacles that the builders faced in attempting to have dirigibles dock at the Empire State Building. Safety was an issue with the dirigibles because of the highly flammable gas hydrogen. So, if the dirigibles explode over New York many people could be killed in the very populated. Another problem is keeping the derigible @CAPS1 so people can get off while the wind moves the back end of itself. The only way was to tie lead weights down in the back of the dirigible, but it would be dangerous over people down below. So, these obstacles workers faced, never got past them and so they made the world's highest soda fountain and tea garden for tourists in the observation area.\""
      ]
     },
     "execution_count": 15,
     "metadata": {},
     "output_type": "execute_result"
    }
   ],
   "source": [
    "set_3.iloc[0,2]"
   ]
  },
  {
   "cell_type": "code",
   "execution_count": 52,
   "metadata": {},
   "outputs": [],
   "source": [
    "from string import punctuation\n",
    "\n",
    "dict_set = set()\n",
    "for e in set_3.essay:\n",
    "    #print(e.split())\n",
    "    r = ''.join([c for c in e.lower() if not c in punctuation])\n",
    "    dict_set = dict_set.union(r.split())\n",
    "    #print(dict_set)"
   ]
  },
  {
   "cell_type": "code",
   "execution_count": 53,
   "metadata": {},
   "outputs": [
    {
     "data": {
      "text/plain": [
       "5743"
      ]
     },
     "execution_count": 53,
     "metadata": {},
     "output_type": "execute_result"
    }
   ],
   "source": [
    "len(dict_set)"
   ]
  },
  {
   "cell_type": "code",
   "execution_count": 54,
   "metadata": {},
   "outputs": [
    {
     "name": "stdout",
     "output_type": "stream",
     "text": [
      "{'riskalong', 'structurethe', 'abou', 'carried', 'rewards', 'utilize', 'designers', 'unprecedented', 'unaware', 'wrecking', 'frightened', 'haves', 'constructing', 'kinds', 'freely', 'riska', 'tumutuous', 'secret', 'dropoffpick', 'tyed', 'waight', 'aviation', 'functional', 'machine', 'motified', 'diridles', 'platform', 'revolutionary', 'smart', 'consernd', 'blump', 'usedal', 'dollarsanother', 'summit', 'exhibited', 'inflating', 'tauranacwith', 'dollers', 'unboard', 'supporting', 'unpredictable', 'collapein', 'complication', 'durgibles', 'realistic', 'mishap', 'siteation', 'num5', 'intact', 'who', 'side', 'keeps', 'theorythe', 'route', 'deform', 'each', 'diridibles', 'weighting', 'num1on', 'sealed', 'whould', 'procedures', 'disastrous', 'lose', 'shape', 'engeneers', 'acceptable', 'accomadate', 'faces', 'increases', 'swings', 'goas', 'adapt', 'seemed', 'stacle', 'those', 'speaks', 'handle', 'bound', 'purpose', 'flights', 'cataustrophic', 'dowstable', 'secretly', 'also', 'imediate', 'risking', 'chrystler', 'inlife', 'corner', 'dirigiblesfinally', 'plethora', 'flammablein', 'technicall', 'dririgible', 'essay', 'different', 'reframed', 'feats', 'spirit', 'house', 'mask', 'controll', 'passage', 'constructions', 'riesct', 'accessable', 'explain', 'condition', 'graph', 'hooking', 'unsuitable', 'interests', 'nearly', 'unnecessary', 'flyhold', 'redone', 'dirigables', 'doubled', 'obstacl', 'consulate', 'debt', 'ban', 'station', 'word', 'devestation', 'buliders', 'including', 'obsticals', 'mastthere', 'nether', 'windsthe', 'from', 'contently', 'find', 'lied', 'halted', 'hellem', 'toss', 'scraper', 'variety', 'architecks', 'mast', 'desired', 'futile', 'tallet', 'succeed', 'acciedent', 'reviewed', 'obstanke', 'afloat', 'component', 'lessen', 'fees', 'field', 'asked', 'strength', 'establish', 'throw', 'sparks', 'rethink', 'number', 'loosening', 'structured', 'jealous', 'zepplen', 'beforehand', 'everdone', 'whiping', 'roof', 'formed', 'constinously', 'collected', 'strapp', 'crew', 'more', 'unpaticent', 'landings', 'pages', 'arent', 'press', 'transmite', 'apparent', 'make', 'mainly', 'mess', 'instance', 'injure', 'mase', 'reported', 'shorter', 'drop', 'annanced', 'preety', 'danger', 'relating', 'prodley', 'chaos', 'costed', 'swivlle', 'between', '1930sa', 'obstactle', 'capabilities', 'inflammable', 'buiding', 'cover', 'flammablenature', 'three', 'mastin', 'sorts', 'afew', 'aera', 'has', 'beater', 'five', 'business', 'twentyfour', 'tunnel', 'places', 'advancement', 'showy', 'awesome', 'forever', 'nine', 'creates', 'glass', 'ahead', 'pushed', 'effectivness', 'lowbut', 'weathermany', 'constantly', 'based', 'presented', 'excessive', 'repairs', 'docs', 'goes', 'hooked', 'consern', 'nonfiction', 'advancing', 'planned', 'opinions', 'theremost', 'tackled', 'attention', 'looked', 'reinforced', 'constructedaccording', 'stock', 'solution', 'oddly', 'alot', 'replaced', 'nearby', 'risked', 'eventualy', 'discusted', 'outdo', 'carry', 'special', 'somthing', 'weight', 'simplicityalthough', 'quite', 'prepared', 'stress', 'devistated', 'corents', 'crisis', 'swival', 'feasible', 'citythe', 'whirlwind', 'view', 'madeoperated', 'evolveing', 'quotation', 'steelframed', 'sure', 'swung', 'withstand', 'twohundred', 'buldings', 'dirigiblesthe', 'guiding', 'operation', 'alltogether', 'arisen', 'dangerouss', 'conclusion', 'work', 'feeble', 'usual', 'wrapped', 'spend', 'aqlso', 'hull', 'forgeign', 'hoovering', 'complicationsseveral', 'list', 'aforementioned', 'attache', 'about', 'spikes', 'fundation', 'punishment', 'giant', 'proceeded', 'thousands', 'publicity', 'tha', 'ancker', 'edited', 'hoped', 'amounts', 'highlights', 'wirled', 'agood', 'plataform', 'went', 'civiliziansthose', 'citizens', 'excerp', 'bunch', 'likelyfinaly', 'dirigiblesone', 'taste', 'forget', 'waits', 'town', 'finaly', 'designer', 'posed', 'caps9', 'finishing', 'sounded', 'outstrip', 'using', 'firstly', 'saying', 'foundationsafety', 'processes', 'dificulties', 'particle', 'fasten', 'whenever', 'enclosed', 'original', 'artical', 'planting', 'themsecondly', 'chromenickle', 'baggage', 'weaken', 'so', 'anthore', 'obstruct', 'less', 'strung', 'month', 'num6', 'heading', 'currants', 'city', 'worriying', 'obstacleswith', 'vehicles', 'effort', 'contents', 'admitted', 'after', 'walked', 'architecs', 'dinger', 'buildinglastly', 'unscure', 'constructedthe', 'tragety', 'whale', 'crappy', 'closed', 'period', 'part', 'manner', '¶', 'advent', 'framework', 'states', 'disuse', 'solutions', 'unrealisticthe', 'managed', 'hardest', 'obstacole', 'endager', 'laggage', 'deadly', 'hasnt', 'ltogether', 'obstale', 'sucess', 'predictable', 'suggests', 'accross', 'acsident', 'catastrophic', 'eliminate', 'plumate', 'pressing', 'thankfully', 'here', 'arose', 'destined', 'edge', 'ticket', 'effectiveness', 'havin', 'purposes', 'fore', 'fruition', 'hitting', 'disarmed', 'fun', 'beging', 'overcome', 'brings', 'cities', 'aircraft', 'inhibit', 'serviced', 'up', 'completedanother', 'provided', 'tangled', 'takeoff', 'essentially', 'our', 'doomedmore', 'hindenburgstyle', 'pole', 'probaly', 'under', 'loosing', 'modes', 'stations', 'goals', 'examples', 'ballons', 'sit', 'relly', 'youre', 'dangor', 'airfields', 'injury', 'determined', 'far', 'risk', 'limps', 'came', 'break', 'fuel', 'flammenble', 'causes', 'fufill', 'preexisting', 'death', 'injuring', 'expensive', 'appear', 'cablewould', 'dumped', 'geatest', '1930', 'moving', 'prexisting', 'device', 'num1caps1', 'exisisting', 'crash', 'better', 'restructuring', 'equipted', 'last', 'itd', 'considered', 'revision', 'buildingthe', 'usualy', 'caps2american', 'learning', 'address', 'violant', 'eruption', 'sea', 'picked', 'professionals', 'gaining', 'lad', 'information', 'stres', 'self', 'glassed', 'filled', 'figuring', 'develop', 'vastly', 'aced', 'aiming', 'reload', 'els', 'pad', 'virtually', 'creative', 'fabric', 'stores', 'extrem', 'for', 'belived', 'rains', 'rightfully', 'forth', 'atmosphere', 'eighty', 'hinge', 'desasterous', 'winning', 'losses', 'dealed', 'obstienle', 'except', 'towering', 'civilian', 'applies', 'dozens', 'biulding', 'hindinburg', 'thwarted', 'architetures', 'buildingin', 'flamable', 'differents', 'tangling', 'almost', 'soon', 'i', 'windsother', 'preshure', 'velocity', 'unfesable', 'bagging', 'quarrel', 'fill', 'safer', 'costlyfatal', 'hauled', 'expert', '1', 'constructor', 'switching', 'nonexistence', 'secondly', 'raced', 'bethe', 'techical', 'additinoal', 'helps', 'excerpet', 'windy', 'caps8', 'dallors', 'following', 'minds', 'hovering', 'definitely', 'travel', 'environment', 'hole', 'constructed', 'spaced', 'dirigibels', 'loads', 'diridible', 'pulled', 'effected', 'focuses', 'deliever', 'misfortune', 'steps', 'gusts', 'arrived', 'propelled', 'pounds', 'caps6', 'hopeless', 'suitcases', 'acident', 'made', 'derigible', 'could', 'geersthese', 'oppertunity', 'twice', 'lingering', 'sake', 'persasures', 'modifications', 'double', 'forgotten', 'hardtoreach', 'density', 'larger', 'delt', 'ader', 'vessel', 'dirigibes', 'incredibly', 'basicly', 'news', 'winches', 'you', 'same', 'accomplishing', 'incidents', 'shinny', 'becomes', 'weighos', 'righ', 'still', 'fitting', 'modify', 'facinating', 'defeated', 'ontop', 'type', 'transmitte', 'bumps', 'delema', 'wasted', 'climite', 'postpon', 'forefront', 'flaw', 'reluctantly', 'leap', 'flight', 'officesmith', 'onethousand', 'civilization', '1920s', 'obveouse', 'highly', 'altitude', 'rational', 'majority', 'inuf', 'mastthis', 'chapter', 'move', 'huelium', 'didnt', 'consistantly', 'trade', 'desistiar', 'opening', 'passing', 'turned', 'they', 'populaded', 'pull', 'speedeven', 'navigated', 'emire', 'sat', 'prototype', 'inconsistent', 'woud', 'solving', 'german', 'approach', 'bacase', 'denselypopulated', 'costs', 'dollarsconsequently', 'mad', 'cornersother', 'similar', 'flow', 'confused', 'base', 'prevailed', 'differently', 'suppose', 'stuck', 'weighing', 'practicol', 'additions', 'chances', 'against', 'economic', 'beings', 'th', 'excrushiating', 'canot', 'questioned', 'advertising', 'plenty', 'safe', 'excuted', 'build', 'proceeding', 'realizing', 'condemn', 'violations', 'infamous', 'dropt', 'lightly', 'dencely', 'name', 'tittel', 'lawwise', 'succefully', 'wert', 'knew', 'aroundnum4', 'battleship', 'prints', 'lawin', 'causing', 'hence', 'maintain', 'enormous', 'flys', 'practical', 'makeing', 'equation', 'played', 'plagued', 'careful', 'painstaking', 'ruffer', 'constantely', 'atempd', 'sightseers', 'weatherwise', 'cumbersome', 'result', 'manuever', 'line', 'nemerous', 'moored', 'refuling', 'fluids', 'crazy', 'hydro', 'dynamic', 'asset', 'unpredictably', 'couldve', 'rotating', 'body', 'terminal', 'began', 'leads', 'tank', 'attached', 'flammible', 'nitrogen', 'caple', 'rusty', 'lüsteds', 'turn', 'equipment', 'bulders', 'navy', 'populate', 'president', 'thoughtout', 'exposed', 'stablish', 'unstoppable', 'aggresively', 'efficiently', 'bow', 'chalange', 'relize', 'currant', 'threatened', 'movement', 'nickel', 'worse', 'framing', 'heart', 'fufil', 'stopped', 'approached', 'detrimental', 'spacey', 'situationpara', 'catostrophic', 'momentanother', 'proper', 'support', 'author', 'pappellers', 'castistrophic', 'consist', 'erected', 'maimed', 'sort', 'extant', 'set', 'common', 'hundred', 'planes', 'hurt', 'moorning', 'hops', 'obstales', 'agreed', 'neither', 'waste', 'novel', 'inevitably', 'lay', 'funds', 'buildors', 'stayed', 'doubted', 'slightly', 'pointy', 'disaster', 'germans', 'consiquence', 'cleared', 'unliked', 'bottom', 'impposible', 'foot', 'tragic', 'inches', 'okay', 'planing', 'recently', 'fabiric', 'covered', 'impossibility', 'hurtthe', 'aspects', 'thru', 'some', 'mean', 'assumed', 'charge', 'caps1s', 'occuring', 'their', 'backs', 'fail', 'blinded', 'prevalent', 'possibleto', 'comming', 'overshadowed', 'lünden', 'describe', 'focus', 'firsted', 'saefty', 'obstruction', 'slowly', 'nevermind', 'be', 'thyre', 'attach', 'somebody', 'physically', 'reachedthe', 'whopping', 'enable', 'gamble', 'consulted', 'recorded', 'brainstorm', 'untill', 'glory', 'was', 'lookd', 'charred', 'transatlantic', 'corage', 'continually', 'imminent', 'realzed', 'entirely', 'nonamerican', 'checked', 'holds', 'restriction', 'obstaclesthat', 'swirling', 'experienced', 'theory', 'thrashing', 'enough', 'wihich', 'happend', 'equpment', 'workedtalked', 'torde', 'coupled', 'concluded', 'moore', 'busy', 'highaltitude', 'outweighed', 'signifigant', 'derigibles', 'finel', 'rain', 'team', 'landed', 'cold', 'best', 'efectly', 'drogen', 'record', 'ablaze', 'precautions', 'prominent', 'money', 'obtacle', 'newyork', 'interning', 'blimp', 'quality', 'renevations', 'worseanother', 'morning', 'desireable', 'realistically', 'bystanders', 'import', 'moments', 'minute', 'stylish', 'conserns', 'rarely', 'convince', 'structurally', 'frequent', 'met', 'hired', 'wreck', 'drift', 'beggining', 'buildingan', 'hazzard', 'transportational', 'clavan', 'predicted', 'dirigildes', 'affeted', 'safety', 'extremely', 'fatal', 'desgned', 'anywaysthe', 'awe', 'himself', 'safly', 'probably', 'governer', 'cautions', 'method', 'skyscrapper', 'notes', 'elsethat', 'weightless', 'stat', 'ticketing', 'seventeen', 'ingenious', 'flores', 'forageable', 'unhooked', 'surpass', 'outweigh', 'frome', 'quietly', 'dominating', 'caps1', 'mastoverall', 'annonced', 'sides', 'anyway', 'pointing', 'swireled', 'fulfill', 'cause', 'gustful', 'durable', 'enouh', 'opportunity', 'questions', 'capitain', 'page', 'presents', 'swaying', 'object', 'immenent', 'foundation', 'united', 'cruising', 'decide', 'state', 'windoverall', 'flat', 'obstacled', 'floor', 'fountain', 'officials', 'worked', 'pursue', 'stake', 'dream', 'obstact', 'wenches', 'immpossible', 'transported', 'trust', 'innovative', 'guarantee', 'include', 'alter', 'blew', 'country', 'windows', 'crafts', 'as', 'winch', 'morring', 'lastly', 'middle', 'hugealong', 'had', 'teathered', 'conception', 'flames', 'above', 'immense', 'motion', 'term', 'major', 'architectures', 'immediately', 'dollarsthe', 'talest', 'strenghen', 'failing', 'fifth', 'quitely', 'range', 'proably', 'modifey', 'wishful', 'dirrection', 'and', 'job', 'onslaught', 'obsticae', 'modernday', 'threatening', 'tell', 'reallife', 'performed', 'while', 'various', 'publics', 'reason', 'steepedback', 'chance', 'lofty', 'issues', 'gaseousfilled', 'unsafety', 'sheer', 'violet', 'ials', 'able', 'thewinds', 'production', 'dockas', 'investment', 'entirence', 'injuried', 'book', 'on', 'hoisted', 'completed', 'bundles', 'clamps', 'unit', 'moreover', 'impracticle', 'marked', 'countries', 'elevators', 'looms', 'unpredicting', 'puncher', 'give', 'therethe', 'is', 'unsured', 'obscure', 'shapes', 'roughness', 'brand', 'situation', 'months', 'may', 'integrity', 'air', 'nonsense', 'shell', 'driigble', 'ever', 'eightysixth', 'sensible', 'espectaculer', 'occur', 'usually', 'braught', 'obsitacl', 'symbolizes', 'pulling', 'energy', 'given', 'washington', 'unitestates', 'barrier', 'rest', 'reads', 'unidealistic', 'fetched', 'which', 'eightyfifth', 'salf', 'off', 'prohibiting', 'inconceivable', 'damage', 'fullfill', 'craze', 'potential', 'breaking', 'located', 'unwanted', 'fourth', '1929', 'looks', 'guy', 'seemingly', 'negatively', 'transimite', 'addresses', 'displays', 'insodent', 'desperate', 'subsequently', 'mechanical', 'wasnt', 'posible', 'carrying', 'cancel', 'hand', 'overall', 'docks', 'buildersfirst', 'accomplished', 'entered', 'theirs', 'choose', 'felt', 'case', 'expectation', 'inforced', 'motivation', 'site', 'fashionable', 'steelframe', 'easiest', 'rode', 'residentscitizens', 'diribles', 'unland', 'invest', 'unsolved', 'trageties', 'obatoce', 'hidrogen', 'readiness', 'violat', 'composition', 'ensuring', 'greats', 'periods', 'themit', 'wrote', 'obstacal', 'caps10', 'testing', 'blinps', 'insted', 'show', 'apperate', 'chromenickel', 'attempt', 'logical', 'horrifying', 'open', 'claimed', 'attahed', 'methods', 'sanction', 'procautions', 'pain', 'precisely', 'flooded', 'fiercely', 'inovation', 'strengthed', 'insuring', 'hangin', 'consept', 'reminded', 'buildings', 'serve', 'soft', 'avaiting', 'anothe', 'want', 'popular', 'lot', 'magnitude', 'prompted', 'airwaves', 'reasons', 'driver', 'problemsthe', 'prohibitting', 'reveals', 'newspapers', 'at', 'bear', 'mist', 'compared', 'obsticales', 'shaken', 'recreating', 'lifes', 'complicating', 'continuesly', 'bursted', 'speeds', 'wernt', 'detected', 'constely', 'during', 'hurtkilled', 'takeoffsanother', 'details', 'byalthough', 'proximity', 'tours', 'obstaclein', 'ludicrous', 'enuff', 'ideal', 'goods', 'durring', 'illustrates', 'gives', 'lead', 'impractical', 'payroll', 'structer', 'befrore', 'aroused', 'round', 'place', 'climatic', 'severely', 'couple', 'stuff', 'bussy', 'lexington', 'heavyweight', 'fastened', 'announces', 'purfictle', 'spikey', 'filed', 'now', 'shift', 'abolished', 'ancher', 'lending', 'explicate', 'climb', 'aviationrequires', 'everyday', 'laws', 'date', 'organization5', 'stockingfinally', 'constrousion', 'rules', 'defaults', 'builder', 'atemp', 'dow', 'attemply', 'unsafely', 'mastthe', 'suit', 'densiley', 'introduction', 'install', 'interference', 'finalized', 'lets', 'insides', 'bloks', 'four', 'developing', 'operate', 'midair', 'pretty', 'nerly', 'blimb', 'mundane', 'projects', 'delivery', 'travelled', 'inadequate', 'probly', 'meaning', 'taught', 'onpresently', 'affected', 't', 'addition', 'somehow', 'distribute', 'federal', 'administrative', 'twoandfrow', 'concers', 'dangerousi', 'currets', 'exactly', 'baffled', 'realization', 'are', 'shaking', 'tirering', 'lerned', 'edits', 'foolish', 'face', 'foremost', 'follows', 'clanging', 'fully', 'itone', 'collapseanother', 'crowds', 'travelin', 'excitement', 'children', 'tethered', 'financially', 'illegality', 'unknown', 'unreasonable', 'bustling', 'consult', 'halt', 'witnessed', 'placing', 'sharpe', 'frightening', 'complications', 'something', 'enforcement', 'problems', 'enginners', 'inability', 'crush', 'heard', 'till', 'voted', 'housing', 'poped', 'rushing', 'mastalso', 'course', 'little', 'potentialy', 'protect', 'hub', 'describies', 'restrict', 'landmark', 'thousandfoot', 'sporting', 'beautiful', 'seems', 'dang', 'event', 'sending', 'sidewalk', 'ones', 'reference', 'cept', 'rooftop', 'squishing', 'preasure', 'shiftyness', 'human', 'odds', 'indeed', 'complicated', 'ginormous', 'heights', 'approched', 'desely', 'scare', 'pice', 'neutralize', 'nesciaryanother', 'america', 'doesnt', 'serious', 'compete', 'constantley', 'stretching', 'inspections', 'reduse', 'internationally', 'grestest', 'balence', 'thing', 'lüstedto', 'implication', 'unreal', 'capitan', 'trying', 'biggest', 'incase', 'leaving', 'steering', 'streetsanother', 'reworking', 'dangerous', 'factual', 'thingsthe', 'mercy', 'amazingly', 'screw', 'pause', 'uneasy', 'shiny', 'lift', 'changeing', 'causeing', 'comparing', 'hydrogenusing', 'aroud', 'flamible', 'concerns', 'rise', 'counter', 'whip', 'black', 'outlined', 'luckily', 'change', 'un', 'obsticles', 'obstakle', 'help', 'through', 'constintly', 'grim', 'unsafe', 'hindenburg', 'wights', 'securly', 'begun', 'chaotic', 'thosand', 'conceived', 'begunwhen', 'inncodent', 'cons', 'gave', 'shall', 'competive', 'relation', 'housed', 'wand', 'unpractical', 'twist', 'decided', 'disregarded', 'engineers', 'around', 'progress', '1046', 'handling', 'caps7', 'pros', 'popularity', 'aeronautical', 'contributed', 'incredible', 'why', 'accomidate', 'directions', 'secured', 'over', 'portly', 'electronic', 'innocent', 'derailed', 'masted', 'defanitley', 'direct', 'dangerase', 'fascinating', 'tryn', 'aganist', 'written', 'unusable', 'goodyear', 'transport', 'pound', 'dockable', 'flag', 'thier', 'pictured', 'resolve', 'readers', 'impulsively', 'solvable', 'branish', 'posing', 'game', 'purpouse', 'cylinder', 'unloading', 'window', 'successfularchitects', 'successfully', 'goal', 'metropolis', 'women', 'aside', 'exchange', 'popuated', 'built', 'bussiniss', 'flammibility', 'landbord', 'pedestriansif', 'upgrade', 'consumed', 'ownes', 'warned', 'caps1sb', 'flyer', 'lands', 'strengthenedthe', 'varied', 'governor', 'currentsthey', 'large', 'december', 'adds', 'consequently', 'cut', 'early', 'alternate', 'shaped', 'cooperating', 'dangireous', 'knowned', 'propellers', 'thrown', 'pratact', 'pessure', 'erea', 'fragile', 'hieght', 'captain', 'ripped', 'realize', 'erupting', 'battling', 'velocities', 'tasks', 'advances', 'structurely', 'bilders', 'overly', 'frequently', 'restricted', 'held', 'dirigable', 'transmitting', 'focal', 'damages', 'suspended', 'john', 'famous', 'first', 'runs', 'remedy', 'hell', 'recieve', 'apperent', 'load', 'engineer', 'carefully', 'unsuccessful', 'controlling', 'chew', 'blindly', 'whom', 'traditionally', 'civilians', 'americanused', 'dissaperance', 'impracticality', 'pilots', 'moorin', 'fulfilled', 'touched', 'unpractable', 'killed', 'balanced', 'quits', 'supports', 'offas', 'preparation', 'obstructed', 'illuminate', 'confidence', 'tendencies', 'num1or', 'repair', 'local', 'aviators', 'mooring', 'points', 'urbanized', 'illinated', 'topic', 'developed', 'stability', 'overallit', 'obtained', 'arcitect', 'positive', 'thats', 'forging', 'aboat', 'pone', 'advanced', 'alsoif', 'crass', 'revolutionize', 'lak', 'populated', 'rejected', 'conider', 'begin', 'ignited', 'connects', 'rep', 'quickly', 'ten', 'tourists', 'ordered', 'maneuvering', 'quicker', 'often', 'highspeed', 'attempted', 'him', 'modifiy', 'circumstances', 'floating', 'fit', 'pilot', 'desided', 'like', 'told', 'interfered', 'flammabe', 'render', 'placed', 'strived', 'annother', 'aluminum', 'me', 'dangel', 'ligther', 'aswell', 'plus', 'execute', 'skyskraper', 'imaginations', 'discovered', 'thirdteen', 'citizen', 'brought', 'good', 'ways', 'messed', 'engeier', 'engough', 'dramicaclly', '¶s', 'progect', 'frameanother', 'board', 'modifyed', 'greatest', 'prohibited', 'ready', 'pick', 'arised', 'stacles', 'failuer', 'areadue', 'turning', 'perfect', 'least', 'blowing', 'dirigiles', 'moveable', 'york', 'unlike', 'dirigbles', 'date1', 'luck', 'go', 'sharp', 'undergoing', 'contends', 'thirties', 'vessels', 'amidon', 'dies', 'couldnt', 'tall', 'types', 'person1', 'solved', 'inflate', 'cautious', 'consited', 'rope', 'obsitcle', 'door', 'moorings', 'wieght', 'puts', 'amazing', 'clasp', 'spended', 'wing', 'sisty', 'downtown', 'massive', 'movements', 'live', 'room', 'previously', 'debris', 'dealt', 'useless', 'thoogh', 'hazards', 'right', 'critical', 'sceduals', 'order', 'height', 'sence', 'intercepted', 'volatile', 'futureistic', 'smallest', 'again', 'frame', 'piece', 'technologically', 'hazardous', 'process', 'heads', 'desprite', 'faceded', 'scenarios', 'symbols', 'ideaanother', 'underlying', 'departure', 'forward', 'cracked', 'fulfil', 'one', 'builtthere', 'citiesthis', 'burn', 'accadent', 'postponing', 'builers', 'beams', 'crashthe', 'friend', 'tpo', 'allowed', 'violated', 'concernsthe', 'ascend', 'alerted', 'hassle', 'argument', 'wraped', 'marcia', 'publicoverall', 'second', 'unfortunetly', 'prodiction', 'primary', 'ran', 'impediments', 'atteptin', 'frist', 'dissapeared', 'creators', 'powering', 'late', 'paraphrased', 'custimary', 'general', 'ob', 'dangling', 'eliminated', 'avoid', 'reson', 'explaining', 'revealing', 'dollar', 'cost', 'ton', 'meetings', 'imposible', 'cant', 'rearrange', 'accidently', 'aviator', 'experiments', 'theese', 'demolished', 'aprover', 'titled', 'onley', 'high', 'radical', 'tempting', 'kept', 'whe', 'together', 'decision', 'arise', 'practice', 'or', 'its', 'scifi', 'sought', 'theyre', 'ending', 'feat', 'stationd', 'ornament', 'unload', 'per', 'truly', 'sucsessful', 'highlyflammable', 'celebrate', 'add', 'refull', 'ornamental', 'nothing', 'delayed', 'dead', 'frameworkanother', 'across', 'leaglity', 'lining', 'ft', 'size', 'casualties', 'neglected', 'neighboring', 'compartment', 'organization1nt', 'no', 'diriglie', 'profit', 'perels', 'wait', 'rag', 'stressing', 'limets', 'hands', 'adapting', 'lastely', 'interfering', 'continuously', 'elevated', 'revolutionized', 'fiascoalso', 'effects', 'planfronts', 'come', 'disturb', 'legally', 'quotes', 'reach', 'having', 'isshues', 'densed', 'breakthrough', 'archatets', 'masthowever', 'did', 'port', 'main', 'serves', 'age', 'swerve', 'fiftythousand', 'tricks', 'unsteady', 'stimulating', 'meeting', 'receive', 'supported', 'uncomplete', 'source', 'gunna', 'margin', 'significantly', 'empire', 'constant', 'findly', 'authors', 'multiple', 'used', 'failedafter', 'therealthough', 'rapidy', 'harm', 'pre', 'further', 'thereit', 'isshue', 'illegally', 'simulated', 'swang', 'bothered', 'zone', 'tether', 'excerpt', 'invention', 'pivotal', 'gang', 'faded', 'pepole', 'lighter', 'balloons', 'availability', 'organization2s', 'obsticle', 'numerous', 'stregthen', 'airliners', 'prof', 'apprently', 'hazzards', 'thousend', 'detail', 'obstancle', 'dirigiblel', 'leaders', 'wolud', 'horrific', 'exoskeleton', 'informative', 'events', 'utterly', 'path', 'depended', 'half', 'perspective', 'acting', 'souport', 'counteract', 'applied', 'anthor', 'very', 'struck', 'acommodate', 'immobile', 'fearing', 'usage', 'suburban', 'thebuilders', 'past', 'worthwhile', 'location3', 'develope', 'becacse', 'contained', 'need', 'teather', 'solidified', 'instability', 'pedestrianslaw', 'mastby', 'district', 'turbulent', 'wether', 'stell', 'dates', 'resulting', 'mored', 'shipanother', 'stabledesigning', 'analized', 'questioning', 'confront', 'suddenly', 'earlier', 'thire', 'othe', 'design', 'p', 'worrys', 'obsolete', 'dangerthe', 'sweying', 'carefull', 'incodent', 'men', 'does', 'winching', 'refuel', 'calling', 'courses', 'frustrating', 'whatever', 'burst', 'resolved', 'placethe', 'rip', 'eiven', 'account', 'ofcourse', 'launch', 'with', 'neighter', 'theyd', 'num2paragraph', 'unsuccessfully', 'residents', 'builders', 'worker', 'mordern', 'physicalone', 'fireball', 'endangered', 'logistical', 'ge', 'practicing', 'usefulness', 'anchored', 'engineering', 'caused', 'bellowthe', 'rods', 'someone', 'redesigned', 'buildingother', 'recognized', 'willing', 'equiped', 'announced', 'surmounted', 'sway', 'coast', 'durgible', 'fist', 'to', 'forign', 'trip', 'reminder', 'arising', 'buffeted', 'handlea', 'action', 'according', 'dropping', 'putting', 'raised', 'demonstrates', 'fammable', 'proven', 'tougher', 'compitition', 'way', 'thirteen', 'dager', 'mastbefore', 'donethe', 'currats', 'foundational', 'biolent', 'stabilized', 'unsafeanother', 'many', 'combined', 'reconstructions', 'underside', 'weakness', 'policies', 'nice', 'rural', 'slight', 'blue', 'piolets', 'brutal', 'relizing', 'fetch', 'loading', 'necessary', 'clarifies', 'pioneers', 'distributed', 'hypothetically', 'contribute', 'dirigibe', 'befor', 'hundered', 'hope', 'unnoticed', 'relatively', 'successed', 'zeplin', 'obtecles', 'blows', 'said', 'moors', 'exerpt', 'conquer', 'ride', 'world', 'serverely', 'spending', 'concerned', 'global', 'obstace', 'moderate', 'num3', 'stationed', 'obstacals', 'summation', 'prohibites', 'visit', 'decks', 'lack', 'erratically', 'impracticalness', 'biulders', 'bundle', 'behind', 'either', 'fortysix', '6in', 'fuels', 'figured', 'discovery', 'buider', 'neiboring', 'fresh', 'crowd', 'buildinga', 'paid', 'copious', 'jobthere', 'fate', 'ameliorate', 'refer', 'businessmans', 'needed', 'makeng', 'scrap', 'warped', 'builbing', 'social', 'monumental', 'combusted', 'struggle', 'reinforcing', 'holdn', 'tufe', 'unsustainable', 'whether', 'obstactes', 'promising', 'timing', 'regardless', 'dispite', 'life', 'elements', 'succesful', 'derilibles', 'attched', 'what', 'atach', 'gaurenteed', 'mounting', 'suitble', 'attemps', 'resulted', 'loomed', 'worry', 'reflect', 'threw', 'overcame', 'smiths', 'near', 'changes', 'ultimate', 'approch', 'epitome', 'have', 'swireling', 'steep', 'refill', 'utilitarian', 'irrelevant', 'imposing', 'ware', 'doors', 'illeagle', 'remote', 'rotate', 'preventer', 'parts', 'lobby', 'demonstrated', 'sandbags', 'hasselsome', 'albeit', 'archetects', 'modifi', 'buoyant', 'machiens', 'rienforcing', 'mistake', 'gain', 'illegal', 'uable', 'diridgibles', 'crafting', 'restruture', 'swiveled', 'saft', 'even', 'luggage', 'observatory', 'sense', 'framelastly', 'seers', 'toweranother', 'importance', 'stresses', 'andor', 'uncontrolable', 'evenly', 'researching', 'crucial', 'involved', 'soda', 'electric', 'american', 'makes', 'complete', 'ad', 'tore', 'chemicals', 'alotthe', 'couldnot', 'street', 'saflley', 'factor', 'outstandingly', 'skeletal', 'asis', 'cargo', 'increased', 'riskto', 'encoutered', 'wrath', 'excert', 'claim', 'skinny', 'firsts', 'bringing', 'zepplin', 'comeing', 'obstable', 'poking', 'additionally', 'exhausted', 'reallized', 'cought', 'buildingthey', 'lots', 'knowing', 'won', 'plumet', 'stark', 'practicle', 'problemthe', 'weights', 'fiery', 'mount', 'wellliked', 'assure', 'accommodations', 'organization2', 'multicaps4', 'safty', 'durigible', 'outer', 'posidletys', 'installment', 'trick', 'sudently', 'ball', 'fad', 'running', 'originlly', 'spread', 'boarded', 'effect', 'substances', 'enormousity', 'hour', 'unstable', 'num1another', 'died', 'forein', 'valves', 'dwindled', 'residential', 'securing', 'condensed', 'buildingfirst', 'accidentally', 'reasing', 'hype', 'reconstruct', 'substance', 'enviroment', 'urealistic', 'occured', 'masts', 'equiment', 'drive', 'models', 'answer', 'harmed', 'foreseen', 'an', 'crusal', 'apparant', 'discovers', 'possibility', 'master', 'interfer', 'will', 'fourteen', 'viscinity', 'starting', 'accomplishedwhen', 'fish', 'expessally', 'stoped', 'violently', 'effectively', 'producing', 'wave', 'houlad', 'refueling', 'stage', 'deciding', 'lesson', 'airshipsthe', 'cilvians', 'competing', 'excellent', 'situations', 'reached', 'ened', 'shelf', 'concens', 'slogan', 'feilds', 'conical', 'touches', 'collapse', 'despite', 'sparking', 'foundations', 'ago', 'hindenburge', 'blow', 'adjusted', 'frameworks', 'fooy', 'learns', 'traveling', 'shinyaluminum', 'balance', 'dilemmas', 'stumping', 'possibley', 'bidding', 'architecture', 'prmitting', 'hoover', 'revelation', 'initially', 'al', 'waights', 'oppinions', 'useing', 'prone', 'woad', 'passengersnext', 'decoration', 'born', 'feild', 'prospect', 'loss', 'unfortunately', 'adressed', 'tea', 'fiercefuly', 'constanily', 'mode', 'violent', 'structeral', 'dated', 'underway', 'enclosure', 'weakened', 'undeveloped', 'tethers', 'happens', 'itsself', 'dirigibleonce', 'handful', 'transferred', 'fortysecond', 'quote', 'towards', 'devastaing', 'yorks', 'years', 'unreliable', 'offcourse', 'bump', 'puncturing', 'dealing', 'initiated', 'impossible', 'hydrogenand', 'tolls', 'resistance', 'probles', 'lium', 'flamability', 'brighter', 'understood', 'passangers', 'combination', 'refuled', 'edges', 'failer', 'legality', 'correspond', 'offer', 'droping', 'occurred', 'greater', 'short', 'fair', 'comes', 'building', 'accomade', 'lost', 'otherwise', 'flamming', 'shares', 'obvious', 'means', 'explains', 'inadvertently', 'baloons', 'attemt', 'difficut', 'dwarfed', 'worrying', 'beneficial', 'thay', 'geting', 'coming', 'devastating', 'moooring', 'lifetime', 'aspect', 'variables', 'wasting', 'distribution', 'imagine', 'installing', 'constatly', 'appeared', 'colapse', 'designated', 'sleeps', 'yorkeven', 'old', 'stand', 'poned', 'mastanother', 'commercial', 'combustiblethe', 'dissappeared', 'timethe', 'launching', 'dismay', 'itll', 'mandatory', 'renforced', 'higher', 'concern', 'actual', 'restrictions', 'newer', 'gondola', 'wanting', 'mastas', 'agaist', 'position', 'menuver', 'posted', 'againts', 'dangerouse', 'rushed', 'ranged', 'latest', 'detaching', 'obscured', 'concerne', 'thoughtes', 'abstacle', 'strong', 'thosandfoot', 'logistics', 'everywhere', 'ignit', 'increasing', 'camo', 'partthe', 'fame', 'thoughout', 'crutial', 'proposed', 'conclude', 'bargained', 'overwhelming', 'becuz', 'front', 'anticipated', 'hardships', 'num35', 'deeply', 'dangerously', 'uselessness', 'enforces', 'though', 'spark', 'deemed', 'stelfame', 'devastated', 'citydwellers', 'dismounting', 'pursuable', 'deathsanother', 'memorable', 'seventy', 'impossable', 'physical', 'talked', 'delivering', 'legal', 'earth', 'deregible', 'frames', 'thought', 'directional', 'surmounting', 'stood', 'playing', 'showed', 'pretend', 'hadnt', 'hopes', 'spun', 'wire', 'instead', 'pidestrians', 'fofil', 'primarilly', 'shatter', 'lust', 'controlall', 'downright', 'fourblocks', 'unsure', 'rising', 'greasest', 'preservation', 'financial', 'natures', 'real', 'wheather', 'atempt', 'variations', 'implying', 'conflict', '101st', 'knocking', 'frabric', 'densley', 'system', 'impact', 'confident', 'group', 'controlled', 'postponements', 'viewpoint', 'smith', 'free', 'jobin', 'unthoughtof', 'look', 'fixed', 'equipp', 'technologys', 'waive', 'theire', 'lying', 'caps1caps2', 'ingor', 'legislature', 'accured', 'inferno', 'lower', 'lightning', 'profitable', 'twisted', 'tip', 'solid', 'endure', 'placeanother', 'concieved', 'te', 'poping', 'pouncher', 'lightness', 'check', 'leaves', 'becuse', 'fatalities', 'prohibet', 'possibilities', 'correct', 'lakehurts', 'illegle', 'layout', 'valiant', 'pooring', 'wpeople', 'worlds', 'starts', 'obstables', 'pricey', 'delicate', 'responsibility', 'characteristic', 'thouandfoot', 'unmoving', 'dirigidle', 'coffin', 'reconstruction', 'precaution', 'power', 'aesthetically', 'updrafts', 'itall', 'added', 'flame', 'requiring', 'belowthe', 'factore', 'tryed', 'bitter', 'safetlyanother', 'informed', 'think', 'feul', 'adress', 'wanted', 'wished', 'distributing', 'denied', 'lucrative', 'gasses', 'areasanother', 'location', 'buildingfinally', 'minor', 'equipped', 'elsesecondly', 'away', 'yes', 'location1second', 'laden', 'remodifing', 'really', 'cityanother', 'dangled', 'flamibale', 'shows', 'definite', 'know', 'firethe', 'collaps', 'celebrated', 'prepare', 'awhile', 'selrve', 'installation', 'compatible', 'shove', 'modificautions', '1250', 'wrong', 'urban', 'demanded', 'enlightened', 'streets', 'announce', 'implace', 'witout', 'cable', 'implement', 'inevitable', 'citys', 'wtate', 'framwork', 'implies', 'unsafeness', 'danagers', 'unparallel', 'redesigning', 'masterpiece', 'horible', 'higabove', 'stepped', 'fam', 'polutedanother', 'airships', 'architectes', 'itthirdly', 'essential', 'accompany', 'permit', 'likely', 'modernize', 'owners', 'moment', 'percaution', 'buildersmost', 'cherry', 'isnt', 'altered', 'structure', 'caps10t', 'explosive', 'directly', 'map', 'previous', 'itselfcaps3', 'existed', 'practically', 'irrational', 'extreemely', 'development', 'skillful', 'suspending', 'erect', 'disasters', 'poses', 'dangorouse', 'level', 'neiborhoods', 'expected', 'gases', 'thethered', 'hight', 'creativity', 'fueled', 'idiots', 'thethe', 'mass', 'beatful', 'spearheaded', 'disobayed', 'milles', 'created', 'presure', 'columbia', 'rule', 'itthe', 'disrupt', 'alas', 'skeleton', 'rear', 'typically', 'environments', 'supplies', 'factoring', 'craft', 'sad', 'related', 'lawsafety', 'dockanother', 'dirigibleis', 'heavely', 'dangerousmany', 'dirilage', 'leak', 'raging', 'driagbles', 'restricting', 'actulty', 'theres', 'anti', 'ground', 'rates', 'capital', 'interesting', 'ment', 'center', 'areasthe', 'afterwards', 'fixable', 'setback', 'brilliant', 'swirvle', 'expense', 'spirling', 'instantly', 'dismissing', 'tickets', 'blocked', 'outlines', 'lit', 'frameparagraph', 'encountered', 'trial', 'lived', 'spear', 'fiasco', 'releasing', 'dirigibless', 'uilding', 'unavailable', 'haulled', 'makeup', 'modern', 'secton', 'todays', 'bigger', 'tittle', 'unwise', 'areaanother', 'instalation', 'num2the', 'several', 'therefore', 'seem', 'numberous', 'uncontrollable', 'possessed', 'ship', 'concept', 'required', 'tottally', 'bearing', 'livesi', 'wore', 'location1', 'shouldve', 'expectedal', 'obstacels', 'projected', 'builduing', 'ferocious', 'significant', 'ar', 'mostly', 'masters', 'enthusiastic', 'invole', 'proves', 'masting', 'dangerious', 'connect', 'droop', 'plaussible', 'phenomenal', 'theretheir', 'timeconsuming', 'initial', 'glimpse', 'kind', 'detailed', 'areain', 'speaking', 'flies', 'compition', 'just', 'broken', 'currentsthe', 'slim', 'neared', 'reduced', 'unstability', 'thirty', 'tear', 'chose', 'rather', 'weaker', 'dreams', 'getting', 'fused', 'hundren', 'pressure', 'presisely', 'threed', 'fallen', 'disappear', 'plument', 'suceessful', 'imitate', 'working', 'none', 'conductors', 'putt', 'yorkanother', 'belts', 'podestrions', 'constructers', 'adjust', 'plains', 'allw', 'pratical', 'hydrogenone', 'precious', 'government', 'accommodating', 'unfortunate', 'banned', 'staggering', 'foresaw', 'sent', 'kill', 'resident', 'happenedan', 'called', 'abundance', 'woldent', 'restableise', 'buildingslastly', 'failling', 'troubled', 'etc', 'comprehended', 'accounted', 'skyscrapers', 'journey', 'stanza', 'perhaps', 'itself', 'greates', 'muched', 'impressive', 'target', 'challenge', 'affecting', 'spanding', 'exist', 'werent', 'wide', 'prevention', 'flammablethe', 'challanges', 'fields', 'sadly', 'preparing', 'overseas', 'transporting', 'excerpts', 'two', 'difficult', 'forbids', 'micheenery', 'diasastrous', 'operator', 'havoc', 'fulled', 'besides', 'force', 'inovating', 'hang', 'pass', 'keeping', 'fufilled', 'determination', 'probable', 'wer', 'horrible', 'floatthe', 'error', 'difficultys', 'swept', 'text', 'currents', 'placethese', 'ends', 'dangleing', 'reliezed', 'thrash', 'stalled', 'backanother', 'saw', 'ugly', 'fuetle', 'changesalso', 'caps1yc', 'illigale', 'preventing', 'properply', 'controllwhich', 'amount', 'maintenance', 'haultcertain', 'tempted', 'breeze', 'swivil', 'tossed', 'crowded', 'lowthe', 'systems', 'living', 'structures', 'opstacles', 'paragraph', 'eneogh', 'consists', 'reconstructing', 'moveing', 'underwent', 'altering', 'exsisting', 'hadent', 'occurring', 'costing', 'sporadic', 'hung', 'absolute', 'roor', 'stands', 'believe', 'terrible', 'emphasized', 'dying', 'problemswhats', 'direction', 'neadless', 'series', 'unlawful', 'day', 'desk', 'illegalin', 'irvan', 'abuilding', 'sixtythousand', 'swayed', 'prior', 'ward', 'positioning', 'tested', 'decreasing', 'disasterous', 'expirament', 'meet', 'floated', 'attop', 'swivel', 'sould', 'citynature', 'swirl', 'archtects', 'faced', 'trafic', 'installed', 'immensely', 'ruined', 'factors', 'winds', 'extremly', 'rocket', 'react', 'disallowed', 'sucsesful', 'hitn', 'risks', 'imply', 'accommidate', 'densely', 'peoples', 'ibles', 'devising', 'shortlived', 'bigest', 'lifting', 'fullfilled', 'terms', 'harmful', 'price', 'inside', 'heed', 'money1', 'inpractical', 'owner', 'consitered', 'malfunction', 'crazily', 'placement', 'compensates', 'aroundthere', 'damaging', 'eight', 'fundamental', 'anouther', 'eleven', 'describes', 'mission', 'office', 'ankered', 'rapped', 'manuvering', 'achieved', 'solely', 'num1foot', 'existance', 'theories', 'shinned', 'electrical', 'consider', 'save', 'biggist', 'unloding', 'taken', 'shortsightedness', 'unforunantly', 'law', 'fly', 'stabilize', 'flyers', '1930s', 'spiral', 'bin', 'looking', 'stating', 'discouragement', 'benefits', 'we', 'unsafly', 'construct', 'intended', 'violating', 'everchanging', 'strengthened', 'ingeniose', 'array', 'landingdocking', 'defeat', 'override', 'overhead', 'ancoring', 'sideways', 'trajic', 'surrounded', 'encounter', 'hindered', 'experience', 'efficient', 'concidering', 'envisioned', 'going', 'forced', 'simile', 'flown', 'transportationthe', 'adding', 'wish', 'project', 'parially', 'moves', 'pedstrians', 'peoplethe', 'modifying', 'docking', 'tycoons', 'obstacles', 'dropped', 'similarly', 'attemp', 'buildersthis', 'thinking', 'produce', 'remodeling', 'approaching', 'hectic', 'clever', 'should', 'vanished', 'loft', 'drigibles', 'uncontraiable', 'adjustments', 'perfection', 'pay', 'structrial', 'roadblocks', 'alternatives', 'undercontrol', 'areathe', 'goodsafe', 'fall', 'rocketshaped', 'occasions', 'former', 'contraction', 'routes', 'backend', 'encouraged', 'burning', 'ings', '11', 'realized', 'cases', 'problamatic', 'troubling', 'unless', 'foreshadowing', 'govener', 'offered', 'costly', 'sturdy', 'mid', 'clearly', 'climate', 'stop', 'accomplishment', 'custom', 'funny', 'refused', 'firestartersecond', 'converted', 'destroyed', 'obstical', 'captin', 'wascontrol', 'shifting', 'extending', 'most', 'abandoned', 'conquered', 'owers', 'obsacle', 'ruin', 'whipping', 'raise', 'enormouse', 'wrap', 'bay', 'popping', 'hanging', 'die', 'vilant', 'reconize', 'spreading', 'aparent', 'adopt', 'planners', 'problem', 'rid', 'architechs', 'due', 'swinging', 'success', 'dribbles', 'involving', 'enigmatic', 'spining', 'intuitive', 'machinery', 'postone', 'shapped', 'run', 'stay', 'than', 'governments', 'would', 'abandoning', 'regards', 'grand', 'considering', 'num1s', 'bid', 'dilemma', 'zeppelin', 'ase', 'areas', 'mother', 'nonus', 'until', 'changing', 'challengers', 'immediate', '1931', 'scared', 'obsticlas', 'attempting', 'circle', 'dense', 'ambitions', 'persisted', 'resupport', 'refule', 'words', 'examles', 'anxious', 'easy', 'vicious', 'buffet', 'thouse', 'another', 'gearcaps1', 'spires', 'elevations', 'gears', 'wasthey', 'haveing', 'inflated', 'anyways', 'anginst', 'factores', 'get', 'aware', 'yet', 'prohibits', 'duties', 'sentence', 'well', 'dangle', 'blown', 'seen', 'hwo', 'succession', 'alway', 'elevenhundred', 'tough', 'addressed', 'scinc', 'accumulated', 'buildinghaving', 'violate', 'cantroll', 'hoist', 'glassedin', 'flammable', 'occurr', 'whydrogen', 'produced', 'predicte', 'swivll', 'egineers', 'push', 'landingsecondly', 'predicting', 'surely', 'optimistically', 'lever', 'hardship', 'helim', 'modernation', 'windpressurs', 'transportantion', 'slow', 'themselfs', 'zepplins', 'designing', 'cablethe', 'knowledge', 'weighths', 'displayed', 'finished', 'stunt', 'outcomes', 'attemping', 'ignored', 'proved', 'fro', 'strongin', 'perfusive', 'corners', 'importantly', 'sceleton', 'forbidden', 'certainly', 'grew', 'trials', 'tampered', 'mas', 'workanother', 'num2', 'falling', 'exploded', 'nor', 'secure', 'flaming', '250', 'spinning', 'saking', 'lin', 'largely', 'publicthere', 'ammendments', 'waist', 'decorative', 'approval', 'rebuilt', 'frustration', 'cabled', 'tower', 'intefered', 'hours', 'worried', 'activity', 'reader', 'defects', 'puzzle', 'pieces', 'person1s', 'extreme', 'efforts', 'cornfield', 'shockingly', 'opinion', 'accidental', 'rase', 'doll', 'collapsingthe', 'surve', 'shortly', 'moring', 'ignite', 'offpick', 'tail', 'transmitt', 'sways', 'unboarding', 'straw', 'altitudes', 'functioning', 'airborne', 'verry', 'accessible', 'problematic', 'concernin', 'moreanother', 'intensely', 'gargantuan', 'difference', 'steer', 'vehecales', 'nature', 'unsturdy', 'consular', 'unnatural', 'fifthteen', 'plausibly', 'workablethe', 'postpone', 'myriad', 'both', 'flowed', 'useand', 'night', 'provide', 'appearance', 'outcome', 'surging', 'visibly', 'try', 'flood', 'weak', 'saddly', 'spent', 'revolved', 'disbanded', 'beginning', 'begining', 'strutural', 'might', 'dedication', 'areacaps1', 'puncture', 'remembered', 'peak', 'anymore', 'acomplish', 'tells', 'catch', 'cald', 'developers', 'thus', 'knocked', 'mixed', 'accomodate', 'violen', 'problemconcern', 'parking', 'normal', 'letting', 'loose', 'eayser', 'evident', 'interpretation', 'everybody', 'plummet', 'become', 'buillders', 'facest', 'apparently', 'strengthend', 'tools', 'postponed', 'diigibles', 'buildingone', 'reasonproblem', 'dont', 'bare', 'destroy', 'bend', 'wind', 'punkener', 'reprocusions', 'hyrogen', 'captains', 'framewor', 'ishuse', 'in', 'whipped', 'resources', 'organization3', 'obstacale', 'unmanageable', 'weather', 'alliviate', 'next', 'shore', 'purposed', 'bc', 'fort', 'citizenswhen', 'reconstructed', 'decides', 'wounded', 'top', 'surrounding', 'envelopes', 'archetect', 'sufficiently', 'gutsey', 'accommodate', 'themselves', 'lastley', 'car', 'concoction', 'hydrogenfilled', 'airports', 'forfirst', 'jerseythe', 'swevel', 'stregthing', 'deck', 'greatly', 'jealousy', 'expand', 'do', 'acomidate', 'served', 'attracting', 'claims', 'consulting', 'passed', 'bat', 'organization1', 'jobs', 'supervision', 'swivelling', 'falls', 'act', 'paper', 'arguably', 'worket', 'strain', 'daunting', 'afraid', 'usedthe', 'improve', 'noted', 'thereone', 'explodes', 'couldn', 'anything', 'discussions', 'stressed', 'tricky', 'food', 'suggested', 'spinnig', 'tere', 'wouldbe', 'unused', 'poor', 'opportunities', 'fifteen', 'heat', 'streetthe', 'consistently', 'shp', 'longerthe', 'incountered', 'finall', 'shipsdocking', 'couse', 'alleged', 'anchors', 'her', 'toughest', 'media', 'seriously', 'stationary', 'haulted', 'reluctant', 'interest', 'outrageously', 'devices', 'raises', 'how', '1937these', 'injuries', 'helpful', 'subject', 'eachother', 'materials', 'obstactles', 'teen', 'machienery', 'reduce', 'enflamed', 'post', 'hydrogena', 'powers', 'rose', 'handlethe', 'unideal', 'noncaps1', 'bee', 'dirigibleheld', 'devistating', 'forceful', 'existing', 'noticed', 'thoughtful', 'comeone', '185foot', 'digarble', 'elders', 'flameable', 'endeavor', 'todo', 'pottential', 'closely', 'steady', 'signs', 'diriibles', 'frane', 'commented', 'relized', 'unfixable', 'fills', 'rediculous', 'being', '46', 'overpower', 'pointless', 'tying', 'suched', 'downfall', 'expload', 'intertwined', 'certain', 'concluding', 'repeat', 'desingners', 'popurtion', 'foreseeable', 'endanger', 'promblem', 'dirigles', 'artitechs', 'tour', 'highe', 'lacked', 'along', 'atempting', 'not', 'millions', 'land', 'customarily', 'shelved', 'figure', 'overlooked', 'intentions', 'foriegn', 'blim', 'natur', 'useful', 'road', 'stationa', 'num1', 'reaching', 'podestriens', 'bacicaly', 'wear', 'white', 'citythis', 'ridiculous', 'waiting', 'took', 'increasingly', 'final', 'enthusiasm', 'transmitted', 'doom', 'cityin', 'mention', 'dirt', 'skilled', 'twelve', 'expect', 'hardly', 'describable', 'gas', 'slap', 'flamibility', 'uncontroble', 'revealed', 'permitted', 'coud', 'disassembled', 'metal', 'confronted', 'wantd', 'injured', 'foreign', 'spotted', 'poot', 'holding', 'neccssary', 'rason', 'employees', 'dockthese', 'own', 'leader', 'dirilgables', 'gass', 'illuminated', 'kidding', 'incorporate', 'distinctive', 'studying', 'threat', 'cheap', 'struchure', 'active', 'damageanother', 'sso', 'finding', 'edit', 'gradually', 'caps1the', 'arrested', 'allow', 'connected', 'transform', 'read', 'dirigle', 'slightest', 'pedestrian', 'ideaoverall', 'towork', 'suscesfuly', 'take', 'hydroge', 'naval', 'stories', 'farfetched', 'led', 'explained', 'inovative', 'parked', 'nevertheless', 'rocketshape', 'countless', 'simpilest', 'buildingtheir', 'year', 'futuristic', 'bilding', 'much', 'person', 'assigned', 'upgraded', 'arounda', 'desire', 'arrangements', 'he', 'plain', 'combustible', 'transfer', 'desighn', 'structural', 'happenthird', 'controling', 'dock', 'certin', '¶num3', 'expanded', 'gandala', 'increase', 'projectthe', 'undergo', 'win', 'exact', 'devastatingone', 'specific', 'plaes', 'areasin', 'location2', 'obliviousness', 'excited', 'hielium', 'tailend', 'only', 'workers', 'harsh', 'feel', 'note', 'densly', 'material', 'demise', 'suppost', 'regular', 'refurbish', 'sign', 'losing', 'suburb', 'agains', 'excess', 'diminish', 'says', 'aircrafts', 'manever', 'hoisting', 'doubt', 'practicalities', 'since', 'fourterm', 'contributing', 'dockingfirstly', 'dreamed', 'hurried', 'drove', 'forbade', 'tremendous', 'specifically', 'cotton', 'enormously', 'watching', 'form', 'cruise', 'sixtey', 'occurringyou', 'devastation', 'drigbles', 'start', 'streghten', 'battle', 'fram', 'angeles', 'ecnoliged', 'cord', 'strayed', 'taller', 'total', 'hopeful', 'hellium', 'gonna', 'put', 'prove', 'lightweight', 'combustable', 'table', 'cars', 'droped', 'fight', 'dirgible', 'familiar', 'weighs', 'severity', 'withe', 'problemwhen', 'worth', 'lawthe', 'stumbled', 'kinks', 'beenabove', 'composed', 'safley', 'humongous', 'enhance', 'bypass', 'feature', 'archetectures', 'block', 'function', 'controllers', 'mph', 'resons', 'disputes', 'wouldnt', 'jump', 'desirable', 'she', 'jersey', 'becoming', 'succeeding', 'obstaclesthere', 'durables', 'fuell', 'tethor', 'imense', 'chrome', 'overambitious', 'onboard', 'circles', 'clad', 'option', 'ludacris', 'other', 'summed', 'point', 'spendings', 'mistakes', 'been', 'knock', 'acomidated', 'region', 'masses', 'powerful', 'prime', 'alltitude', 'altleast', 'flamlable', 'dirigiblels', 'constent', 'saftly', 'exsiting', 'agianst', 'understand', 'particular', 'buy', 're', 'newly', 'concerning', 'these', 'ostentatious', 'topof', 'wiping', 'spelled', 'youanother', 'avoidable', 'followed', 'progression', 'frameworkin', 'limitations', 'doolars', 'snuck', 'argumentsconfusment', 'require', 'magnificent', 'grow', 'shapp', 'pedetrians', 'believed', 'balloon', 'hailed', 'admit', 'lusted', 'planed', 'yorkthe', 'exit', 'paved', 'ose', 'differences', 'investments', 'new', 'capability', 'begginningthe', 'bellow', 'tale', 'modernizing', 'unrealized', 'dockif', 'regulations', 'somewere', 'exceedingly', 'tracks', 'possibly', 'approximately', 'water', 'mindblowing', 'crashed', 'unfortunaetly', 'situationsafety', 'mere', 'hairthey', 'resting', 'discussed', 'fierce', 'stressthe', 'tribulates', 'match', 'sturdiness', 'justifies', 'electricity', 'constructors', 'powerfull', 'sixteen', 'wip', 'needle', 'priority', 'elevator', 'rooms', 'attaining', 'shifing', 'busiest', 'miraculous', 'diffuclt', 'monstrous', 'firework', 'herself', 'hardunsafe', 'caution', 'horribly', 'ext', 'hard', 'test', 'trouble', 'limbs', 'reduction', 'correctly', 'machines', 'dockin', 'agree', 'buildingbefore', 'crashing', 'merely', 'reasonable', 'selfsthe', 'pedastrians', 'suffered', 'astronaumical', 'speard', 'practicity', 'impassible', 'inventions', 'tuge', 'possible', 'hat', 'collapsed', 'onto', 'extend', 'discusses', 'accordance', 'govenment', 'technique', 'badthe', 'towered', 'mile', 'turns', 'harder', 'roaring', 'were', 'niether', 'flock', 'usable', 'modified', 'reasoning', 'attraction', 'foolhardy', 'smartest', 'known', 'modifie', 'uncontrolably', 'aircurrents', 'accustomed', 'collapes', 'par', 'abuve', 'making', 'evidence', 'recreate', 'weighed', 'affraid', 'discontinuation', 'things', 'engine', 'but', 'unfortunatly', 'survive', 'mind', 'constanly', 'rage', 'conflicts', 'explaine', 'flew', 'dirigiblesblimbs', 'streems', 'airplane', 'true', 'anyday', 'exert', 'oxygen', 'arm', 'achieve', 'bother', 'enoungh', 'found', 'overapopulated', 'see', 'matter', 'areasthere', 'paying', 'talk', 'landthe', 'offsafety', 'establishes', 'selfsafty', 'avenue', 'jam', 'tactic', 'likes', 'wonder', 'effective', 'wells', 'rough', 'earning', 'highest', 'disembark', 'basic', 'difficulties', 'alowed', 'knows', 'quick', 'repairing', 'dificult', 'inocent', 'dope', 'debate', 'redesine', 'garden', 'hazard', 'writing', 'builings', 'oposition', 'alow', 'underneath', 'invested', 'caps1y', 'others', 'breach', 'dangeling', 'shut', 'techniques', 'presidents', 'straight', 'glimphs', 'builtone', 'tedious', 'acumulate', 'instant', 'hiding', 'deal', 'refining', 'sefty', 'strategically', 'person2', 'malfunctions', 'unquestionable', 'renovate', 'overcoming', 'windstorm', 'buldas', 'upheld', 'forgot', 'centers', 'population', 'renovations', 'traffic', 'impracticalities', 'passenger', 'eventuly', 'sneaking', 'shipped', 'convincing', 'certainty', 'storms', 'international', 'pursued', 'firsty', 'archietects', 'catostrophicthe', 'foresee', 'especially', 'by', 'obsacles', 'topal', 'ruled', 'platformlike', 'nessisary', 'dirible', 'else', 'pop', 'issue', 'into', 'para', 'maneuvered', 'whose', 'wald', 'buildes', 'identification', 'harnessing', 'seven', 'shot', 'pedestriansone', 'ambitious', 'outlawing', 'dingle', 'accumulating', 'lüsted', 'girigibles', 'pparent', 'regulating', 'fears', 'strengthening', 'stairs', 'crashes', 'regarded', 'thickly', 'role', 'manoverability', 'reinforce', '102', 'wile', 'steppedback', 'mentions', 'vilent', 'expertesein', 'it', 'science', 'obstecles', 'cam', 'insufficient', 'oat', 'options', 'blimbs', 'rocketship', 'stated', 'moured', 'dirigiblesblimps', 'rock', 'opposed', 'services', 'monitored', 'concider', 'when', 'sits', 'problemsanother', 'aspiration', 'digribles', 'bureaucracy', 'incapability', 'daring', 'normally', 'entire', 'accesable', 'sutible', 'flammableal', 'procceded', 'operating', 'blocks', 'insecurity', 'quit', 'inef', 'within', 'wraping', '102nd', 'driving', 'motionless', 'buildingon', 'deathtrap', 'disappointed', 'landing', 'crumble', 'onthe', 'apart', 'heigh', 'vigourously', 'writes', 'beable', 'fased', 'reliable', 'already', 'taksk', 'paramount', 'time', 'upwards', 'forfill', 'awalys', 'lawsmost', 'unrealistic', 'workinprogress', 'counterweights', 'imposed', 'use', 'unexpected', 'farther', 'catastrophe', 'badly', 'flaws', 'dirigiblesthey', 'recent', 'section', 'platformin', 'tied', 'optimistic', 'blimpssome', 'twirl', 'highley', 'roomsthey', 'destruction', 'atop', 'dirigibles', 'drigible', 'arrive', 'remain', 'tightly', 'surpassed', 'capable', 'then', 'technologies', 'legislation', 'chemistry', 'engeineeres', 'celebrating', 'docked', 'man', 'consdiring', 'disrupted', 'explode', 'thos', 'helium', 'alarm', 'completing', 'punctured', 'lifted', 'isue', 'unfortunatlley', 'count', 'ill', 'safeways', 'learn', 'succesfully', 'popped', 'unpredictible', 'safely', 'bright', 'shouldnt', 'finnally', 'conflicting', 'thourgh', 'invincable', 'tofly', 'dangorous', 'num3as', 'recognize', 'stead', 'hurst', 'historical', 'strengten', 'displaying', 'creator', 'fallowings', 'illogical', 'thoughts', 'workthe', 'happened', 'tallest', 'lines', 'overtook', 'credibility', 'invented', 'society', 'maneuver', 'facing', 'transmit', 'powered', 'us', 'hoor', 'exsplosion', 'fantastic', 'eyes', 'halfway', 'eliminating', 'beauty', 'compensate', 'thwy', 'pedistrians', 'zeppelins', 'renevisions', 'toll', 'nail', 'architects', 'space', 'weigh', 'tethering', 'difficulty', 'durigibles', 'steel', 'dome', 'modifing', 'inefficient', 'motification', 'accidents', 'because', 'weighted', 'tons', 'wants', 'awake', 'task', 'miles', 'safest', 'vision', 'happing', 'arms', 'offone', 'thougt', 'violation', 'describing', 'intake', 'feuling', 'fire', 'title', 'shaft', 'responded', 'enforc', 'needs', 'providing', 'therethere', 'frameworkwhen', 'shiffting', 'moved', 'properly', 'struggles', 'fear', 'gear', 'airship', 'areasfirst', 'blimps', 'prooved', 'nonlegal', 'snag', 'ripping', 'furthermore', 'tremondos', 'failure', 'frameworklastly', 'exploding', 'tauranac', 'exceed', 'study', 'yorkin', 'conditions', 'settlements', 'small', 'hot', 'left', 'framesafety', 'happy', 'piolots', 'arrangement', 'got', 'contain', 'staying', 'paragraphs', 'upon', 'rate', 'expensiveanother', 'construction', 'ultimately', 'hold', 'understanding', 'nesescary', 'transmited', 'caps3', 'stateing', 'forces', 'impaled', 'vehicle', 'sixty', 'reality', 'executed', 'challenging', 'pushing', 'easier', 'attemting', 'supposed', 'astounding', 'problemsto', 'diriglbe', 'backup', 'num7', 'environmental', 'tops', 'remodeled', 'illiogal', 'nobody', 'sumputous', 'converse', 'dared', 'widely', 'relevantly', 'diregible', 'rush', 'eficiently', 'ed', 'anchor', 'withhold', 'procedure', 'alone', 'reading', 'mayjor', 'suggest', 'inflict', 'pusing', 'quest', 'helping', 'beat', 'ornametation', 'happen', 'piolet', 'rubbers', 'blimplike', 'substantial', 'remained', 'limited', 'released', 'aproach', 'endangering', 'fulfilling', 'portion', 'anchoring', 'gained', 'discarded', 'baloon', 'workable', 'irradically', 'purpuses', 'hoax', 'strees', 'rigorous', 'ballon', 'flawed', 'pg', 'stabilizing', 'property', 'populatedanother', 'masta', 'fast', 'realities', 'aborted', 'grave', 'this', 'visiting', 'evidently', 'follow', 'hasits', 'ensure', 'convinient', 'wich', 'inroled', 'shake', 'light', 'big', 'setbacks', 'diringibles', 'insurmountable', 'accedent', 'important', 'forms', 'accommidation', 'ove', 'redesgning', 'correctaly', 'third', 'ships', 'intent', 'obsticale', 'con', 'navys', 'step', 'six', 'sapoosed', 'detach', 'touch', 'heliumwhich', 'headed', 'unique', 'torture', 'ceetain', 'expirences', 'competion', 'frameworkthe', 'among', 'heavily', 'obligations', 'choice', 'disembarking', 'improbable', 'ranging', 'perilous', 'illigal', 'ocuring', 'sneaky', 'magnified', 'resolt', 'disappearance', 'gigantic', 'plane', 'atempted', 'visual', 'overpowering', 'motify', 'hit', 'leasoned', 'friendly', 'tilt', 'conductor', 'stopping', 'keep', 'wold', 'mastcaps2', 'sometimes', 'pasengers', 'differer', 'competition', 'features', 'modernly', 'sleeve', 'struggled', 'themthe', 'monts', 'empile', 'sky', 'gravity', 'fine', 'must', 'sound', 'harms', 'destination', 'low', 'designed', 'suitable', 'attenting', 'money1the', 'ancor', 'awaynot', 'sucessful', 'sized', 'unturful', 'attempemt', 'begins', 'contributor', 'inhabitants', 'intentionally', 'describle', 'aeras', 'attentions', 'uptop', 'obstaclesin', 'padestrans', 'somewhat', 'date1s', 'spontaneous', 'hydrogen', 'growing', 'transportation', 'citylastly', 'skyscraper', 'becaus', 'diriglble', 'flying', 'dockvery', 'benefit', 'imagination', 'pointed', 'any', 'solveone', 'arond', 'portrays', 'ney', 'ecspecially', 'happening', 'requirements', 'introduced', 'leagally', 'shattered', 'num1the', 'novelty', 'observation', 'stepback', 'complex', 'modification', 'genius', '1937', 'floors', 'dreamunfortunatly', 'permitting', 'every', 'roaming', 'deaths', 'beyond', 'ie', 'architectworkers', 'float', 'dilemnas', 'sparer', 'analyze', 'severe', 'impacient', 'sinerios', 'uncontrolled', 'undesired', 'workload', 'noticing', 'therefor', 'threeal', 'combat', 'cancelled', 'closeness', 'especilly', 'conclution', 'foundationthe', 'supplied', 'catching', 'homes', 'fell', 'highlyflamable', 'lawbreaking', 'infront', 'tossing', 'madeanother', 'illegall', 'consuming', 'fix', 'imitated', 'dirigiples', 'cross', 'tend', 'unfortuntly', 'quoating', 'stemmed', 'unsuccess', 'dirigiblesin', 'flyinging', 'humans', 'disastorous', 'ideaalthough', 'luxury', 'blast', 'verses', 'terner', 'jerseynature', 'enemy', 'pioners', 'company', 'lined', 'storage', 'talks', 'catastrofick', 'back', 'gangplank', 'manage', 'aroundbuilders', 'dockthe', 'meant', 'filling', 'blimpanother', 'taler', 'actually', 'ordinarily', 'chord', 'continue', 'perfectly', 'shifted', 'obastacles', 'create', 'forthe', 'simple', 'extra', 'egregious', 'devise', 'ornamentation', 'bulding', 'pertaining', 'traveled', 'oblivious', 'helped', 'enginering', 'potentially', 'obstaclesthe', 'discontinued', 'shells', 'dirrigible', 'capricious', 'caught', 'rapidly', 'fixing', 'difficultanother', 'results', 'naturethe', 'beside', 'challenges', 'plan', 'airplanes', 'wary', 'head', 'prevailing', 'easily', 'architector', 'epecting', 'estimated', 'dissappear', 'getin', 'broke', 'such', '85th', 'architectural', 'saved', 'picks', 'remodel', 'forbidding', 'longht', 'vacillating', 'watch', 'hault', 'tried', 'forbid', 'simply', 'unseen', 'successful', 'securely', 'talking', 'fling', 'diffrent', 'swong', 'smooth', 'cech', 'buildingas', 'drag', 'pose', 'invent', 'buildup', 'marvelous', 'preventions', 'brief', 'aloft', 'appealing', 'where', 'reconsider', 'selection', 'dreamal', 'aflame', 'lake', 'papers', 'currentsin', 'ornate', 'attaching', 'out', 'finish', 'extension', 'tragedy', 'sounds', 'designings', 'problemb', 'acording', 'designs', 'workout', 'say', 'burg', 'anticipation', 'monument', 'plate', 'boilders', 'hindenburgs', 'dirrections', 'transportations', 'altogether', 'my', 'flammablelüsted', 'tiring', 'outsides', 'obviously', 'unsecure', 'current', 'failedsafety', 'impediment', 'troubles', 'wher', 'call', 'belonged', 'storeys', 'confusion', 'quiet', 'spike', 'durining', 'heavy', 'spot', 'today', 'whole', 'walking', 'model', 'buildingsit', 'question', 'unsolve', 'breaching', 'simelar', 'informant', 'downnum1', 's', 'lakehurst', 'jumped', 'gone', 'wouldve', 'siz', 'attainable', 'matters', 'buildig', 'somewhere', 'prohibit', 'negligence', 'sight', 'colapsing', 'proble', 'contractors', 'lives', 'dowtown', 'strap', 'below', 'single', 'significance', 'originally', 'peakthe', 'los', 'expenses', 'technological', 'sleave', 'tourist', 'thrilled', 'narrator', 'sturcture', 'comments', 'involve', 'aboard', 'thirdly', 'safethe', 'wellknown', 'disapperead', 'intense', 'hook', 'inpractable', 'of', 'if', 'let', 'solve', 'wasnot', 'risky', 'ilegal', 'gales', 'whas', 'abandonment', 'before', 'politics', 'nonusable', 'cool', 'mentioned', 'too', 'intelligent', 'naturefinally', 'competes', 'changed', 'fires', 'adversities', 'jutting', 'chemical', 'involvethe', 'punture', 'proving', 'aero', 'pierced', 'wieghts', 'bestedone', 'definatly', 'pops', 'settled', 'hapened', 'refraimed', 'swing', 'yorkhowever', 'absolutely', 'irving', 'problemanother', 'wild', 'peers', 'untied', 'service', 'itselflanding', 'uncertainty', 'amplified', 'tugging', 'steal', 'equal', 'stan', 'conclucion', 'affect', 'convert', 'suffer', 'speed', 'reverse', 'passengers', 'withlast', 'chrysler', 'rained', 'safetly', 'combated', 'obtacles', 'shock', 'fortifying', 'dollares', 'skepticle', 'destroying', 'aspirations', 'dirig', 'airspace', 'cotastrophic', 'basically', 'decline', 'date2s', 'framethe', 'safeanother', 'constructionif', 'people', 'accedents', 'aricle', 'contractor', 'densey', 'securit', 'eventually', 'malicious', 'largest', 'succeeded', 'sb', 'unavailability', 'transferring', 'harming', 'delivered', 'obstacle', 'thousand', 'framethis', 'streams', 'induce', 'natural', 'retired', 'lã¼sted', 'wonderful', 'flammability', 'shocked', 'skyline', 'ealse', 'boardingobservation', 'troudle', 'square', 'seeing', 'standing', 'stainless', 'unpredictabled', 'blinp', 'scientifically', 'majestic', 'damaged', 'regarding', 'tests', 'orbit', 'entier', 'competitive', 'calm', 'geographical', 'arrose', 'gotten', 'negatives', 'skyscraping', 'surfaced', '6', 'redo', 'uncontrollably', 'swiveling', 'gen', 'however', 'plank', 'elevation', 'blinding', 'floats', 'framein', 'burned', 'dringibles', 'plausible', 'unforecast', 'blowup', 'consideration', 'key', 'uses', 'hes', 'there', 'newfound', 'ignore', 'desighned', 'boarding', 'navigate', 'idea', 'cease', 'without', 'starters', 'allowing', 'article', 'pit', 'inccident', 'date2', 'tethed', 'era', 'dirgibles', 'predict', 'incoming', 'disappeared', 'worldwide', 'faster', 'relate', 'worrie', 'comma', 'once', 'contact', 'obstecals', 'tie', 'dagerous', 'allows', 'thraghat', 'outdated', 'mounted', 'framed', 'renovation', 'leading', 'fifty', 'unable', 'prevented', 'dident', 'a', 'rebuild', 'rapid', 'travelinganother', 'takes', 'belowthese', 'threaten', 'dirigibleif', 'towers', 'inviorment', 'endured', 'backthese', 'rectify', 'cleary', 'proceed', 'park', 'attemption', 'quoted', 'dangers', 'wont', 'industry', 'tension', 'operations', 'giving', 'allways', 'acadent', 'technical', 'associated', 'remains', 'controls', 'rewarding', 'incident', 'plummeting', 'airdock', 'dirigble', 'ocean', 'them', 'faults', 'straightforward', 'finishedthe', 'shifts', 'ring', 'notice', 'feet', 'redesign', 'gust', 'hefty', 'refering', 'opened', 'roofs', 'learned', 'crown', 'wings', 'buiders', 'stays', 'aid', 'buit', 'times', 'ability', 'tecnologys', 'propeller', 'showing', 'suites', 'attitude', 'informs', 'hindenburgtype', 'safethere', 'demands', 'complicostions', 'purely', 'drastic', 'forcefull', 'fact', 'remotely', 'bricks', 'everything', 'focused', 'doomed', 'reenforced', 'objective', 'surreal', 'cemented', 'failed', 'usa', 'dirigible', 'forgein', 'crushed', 'apon', 'thered', 'great', 'never', 'eleagl', 'cannot', 'upset', 'access', 'undocked', 'extravagant', 'area', 'leave', 'diminished', 'stepsback', 'caps2', 'his', 'writer', 'history', 'teeming', 'attempts', 'pacific', 'worries', 'commonly', 'couldent', 'control', 'deteriorated', 'realised', 'exsplains', 'maker', 'caps5', 'needing', 'additional', 'resolvedlastly', 'setting', 'objects', 'builing', 'dirigiblesanother', 'outside', 'hinden', 'stable', 'jeopardy', 'pyramid', 'present', 'explainning', 'num2s', 'chalenging', 'relive', 'id', 'dollars', 'gets', 'visited', 'unlikely', 'witch', 'obstecle', 'jeopardize', 'structuring', 'vast', 'trafficking', 'desing', 'therein', 'labor', 'transnitted', 'stronger', 'prevents', 'rodders', 'plop', 'menuvers', 'accomplish', 'presence', 'unpractible', 'neve', 'bit', '185', 'february', 'described', 'established', 'snap', 'progressed', 'easly', 'emerged', 'the', 'collide', 'allowable', 'predestrains', 'proof', 'future', 'moor', 'refuelingone', 'hover', 'u', 'devistation', 'haded', 'caps4', 'delemas', 'ive', 'projectoverall', 'strengthen', 'lawfirst', 'expectations', 'influentiel', 'horse', 'your', 'extended', 'continued', 'allowance', 'technically', 'wildly', 'newspaper', 'sittoation', 'vicinity', 'iron', 'ammount', 'flourish', 'story', 'neccarasarythose', 'experts', 'research', 'searching', 'stages', 'consequences', 'example', 'whinch', 'takethe', 'endangers', 'finds', 'desinged', 'facts', 'fairly', 'buidiers', 'num4', 'challenged', 'architect', 'feer', 'longer', 'walk', 'long', 'oservation', 'saftey', 'generally', 'untold', 'extreamely', 'manuver', 'avation', 'onanother', 'stumble', 'footage', 'fashion', 'promblems', 'strict', 'likly', 'appling', 'dollarssafety', 'mark', 'chores', 'end', 'showend', 'plans', 'pedestrians', '¶num1', 'distance', 'preventative', 'windsblimps', 'banning', 'suited', 'nineteen', 'completion', 'destryed', 'imagined', 'ful', 'balloona', 'started', 'stick', 'failures', 'surface', 'driggibles', 'holes', 'perceivably', 'truth', 'bring', 'prevent', 'waver', 'aganst', 'biuldings', 'shutting', 'pedestriansanother', 'fueling', 'shifty', 'terribly', 'clear', 'always', 'depending', 'complicate', 'feared', 'huge', 'ordinary', 'ling', 'provider', 'jeopardized', 'taking', 'public', 'mayor', 'alterations', 'explosion', 'few', 'als', 'unimaginable', 'lallow', 'although', 'acomidations', 'heavyer', 'foundationnearly', 'consisted', 'ideas', 'serving', 'publicly', 'aginst', 'draw', 'doing', 'brew', 'sprung', 'bad', 'bording', 'levers', 'named', 'naturally', 'destiny', 'ease', 'travelers', 'desion', 'unplausable', 'peice', 'strictly', 'alotomoney', 'creation', 'ropes', 'included', 'wins', 'containing', 'planning', 'nonstop', 'accommadate', 'practicality', 'enter', 'all', 'nonexistent', 'forbidded', 'unforeseen', 'lowaltitude', 'archetes', 'workes', 'limits', 'cited', 'anywhere', 'later', 'waving', 'national', 'manifest', 'researched', 'originaly', 'impracticalfinally', 'close', 'send', 'atrocity', 'element', 'windsair', 'pleasing', 'hydrogn', 'commodly', 'ambition', 'buidings', 'combustion', 'especialy', 'spire', 'unpracticle', 'rudders', 'fandation', 'everyone', 'veryhard', 'excuse', 'shown', 'bimp', 'entering', 'blind', 'dunk', 'ended', 'disregarding', 'killing', 'compotition', 'menny', 'scrapped', 'mater', 'that', 'improvement', 'catches', 'avoided', 'revoked', 'predictions', 'inforce', 'location4', 'pouring', 'accident', 'care', 'worst', 'nowhere', 'notbuilt', 'pedestrans', 'attatched', 'fir', 'wrapping', 'afixed', 'down', 'beating', 'poorly', 'length', 'improvements', 'inconsitent', 'calculate', 'purpast', 'negative', 'expecially', 'disconnected', 'devoted', 'approved', 'dirgigible', 'spin', 'lowflying', 'swivle', 'threats', 'countrys', 'technology', 'arranging', 'statement', 'thirteenfirst', 'friends', 'packed', 'authored', 'location1in', 'creating', 'propostorous', 'maybe', 'corse', 'observing', 'cooperate', 'offnature', 'hundreds', 'evolved', 'sayed', 'hurting', 'wood', 'play', 'itselfthe', 'completely', 'limit', 'done', 'crack', 'amongst', 'areasif', 'product', 'flour', 'anyone', 'full', 'can', 'comprehension', 'resided', 'finally', 'bursting', 'throughout', 'erratic', 'proform', 'dockings', 'compleatly', 'accually', 'ocured', 'blatant', 'highoverall', 'multitude', 'became', 'likey', 'works', 'slowed', 'handled', 'exploaded', 'deliver', 'saftay'}\n"
     ]
    }
   ],
   "source": [
    "print(dict_set)"
   ]
  },
  {
   "cell_type": "code",
   "execution_count": 39,
   "metadata": {},
   "outputs": [],
   "source": [
    "a = set()\n",
    "b = set([3,7,6])"
   ]
  },
  {
   "cell_type": "code",
   "execution_count": 41,
   "metadata": {},
   "outputs": [
    {
     "data": {
      "text/plain": [
       "set()"
      ]
     },
     "execution_count": 41,
     "metadata": {},
     "output_type": "execute_result"
    }
   ],
   "source": [
    "a"
   ]
  },
  {
   "cell_type": "code",
   "execution_count": 4,
   "metadata": {},
   "outputs": [
    {
     "ename": "NameError",
     "evalue": "name 'path' is not defined",
     "output_type": "error",
     "traceback": [
      "\u001b[0;31m\u001b[0m",
      "\u001b[0;31mNameError\u001b[0mTraceback (most recent call last)",
      "\u001b[0;32m<ipython-input-4-eb025fc11c03>\u001b[0m in \u001b[0;36m<module>\u001b[0;34m()\u001b[0m\n\u001b[0;32m----> 1\u001b[0;31m \u001b[0;32mwith\u001b[0m \u001b[0mopen\u001b[0m\u001b[0;34m(\u001b[0m\u001b[0mpath\u001b[0m\u001b[0;34m,\u001b[0m \u001b[0;34m'rb'\u001b[0m\u001b[0;34m)\u001b[0m \u001b[0;32mas\u001b[0m \u001b[0mf\u001b[0m\u001b[0;34m:\u001b[0m\u001b[0;34m\u001b[0m\u001b[0m\n\u001b[0m\u001b[1;32m      2\u001b[0m   \u001b[0mcontents\u001b[0m \u001b[0;34m=\u001b[0m \u001b[0mf\u001b[0m\u001b[0;34m.\u001b[0m\u001b[0mread\u001b[0m\u001b[0;34m(\u001b[0m\u001b[0;34m)\u001b[0m\u001b[0;34m\u001b[0m\u001b[0m\n",
      "\u001b[0;31mNameError\u001b[0m: name 'path' is not defined"
     ]
    }
   ],
   "source": [
    "with open(path, 'rb') as f:\n",
    "  contents = f.read()"
   ]
  },
  {
   "cell_type": "code",
   "execution_count": 3,
   "metadata": {},
   "outputs": [],
   "source": [
    "test_df = pd.read_table('./essay_dataset/test_set.tsv',encoding = \"ISO-8859-1\")"
   ]
  },
  {
   "cell_type": "code",
   "execution_count": 4,
   "metadata": {},
   "outputs": [
    {
     "data": {
      "text/html": [
       "<div>\n",
       "<style scoped>\n",
       "    .dataframe tbody tr th:only-of-type {\n",
       "        vertical-align: middle;\n",
       "    }\n",
       "\n",
       "    .dataframe tbody tr th {\n",
       "        vertical-align: top;\n",
       "    }\n",
       "\n",
       "    .dataframe thead th {\n",
       "        text-align: right;\n",
       "    }\n",
       "</style>\n",
       "<table border=\"1\" class=\"dataframe\">\n",
       "  <thead>\n",
       "    <tr style=\"text-align: right;\">\n",
       "      <th></th>\n",
       "      <th>essay_id</th>\n",
       "      <th>essay_set</th>\n",
       "      <th>essay</th>\n",
       "      <th>domain1_predictionid</th>\n",
       "      <th>domain2_predictionid</th>\n",
       "    </tr>\n",
       "  </thead>\n",
       "  <tbody>\n",
       "    <tr>\n",
       "      <th>0</th>\n",
       "      <td>2383</td>\n",
       "      <td>1</td>\n",
       "      <td>I believe that computers have a positive effec...</td>\n",
       "      <td>2383</td>\n",
       "      <td>NaN</td>\n",
       "    </tr>\n",
       "    <tr>\n",
       "      <th>1</th>\n",
       "      <td>2384</td>\n",
       "      <td>1</td>\n",
       "      <td>Dear @CAPS1, I know some problems have came up...</td>\n",
       "      <td>2384</td>\n",
       "      <td>NaN</td>\n",
       "    </tr>\n",
       "    <tr>\n",
       "      <th>2</th>\n",
       "      <td>2385</td>\n",
       "      <td>1</td>\n",
       "      <td>Dear to whom it @MONTH1 concern, Computers are...</td>\n",
       "      <td>2385</td>\n",
       "      <td>NaN</td>\n",
       "    </tr>\n",
       "    <tr>\n",
       "      <th>3</th>\n",
       "      <td>2386</td>\n",
       "      <td>1</td>\n",
       "      <td>Dear @CAPS1 @CAPS2, @CAPS3 has come to my atte...</td>\n",
       "      <td>2386</td>\n",
       "      <td>NaN</td>\n",
       "    </tr>\n",
       "    <tr>\n",
       "      <th>4</th>\n",
       "      <td>2387</td>\n",
       "      <td>1</td>\n",
       "      <td>Dear Local newspaper, I think that people have...</td>\n",
       "      <td>2387</td>\n",
       "      <td>NaN</td>\n",
       "    </tr>\n",
       "  </tbody>\n",
       "</table>\n",
       "</div>"
      ],
      "text/plain": [
       "   essay_id  essay_set                                              essay  \\\n",
       "0      2383          1  I believe that computers have a positive effec...   \n",
       "1      2384          1  Dear @CAPS1, I know some problems have came up...   \n",
       "2      2385          1  Dear to whom it @MONTH1 concern, Computers are...   \n",
       "3      2386          1  Dear @CAPS1 @CAPS2, @CAPS3 has come to my atte...   \n",
       "4      2387          1  Dear Local newspaper, I think that people have...   \n",
       "\n",
       "   domain1_predictionid  domain2_predictionid  \n",
       "0                  2383                   NaN  \n",
       "1                  2384                   NaN  \n",
       "2                  2385                   NaN  \n",
       "3                  2386                   NaN  \n",
       "4                  2387                   NaN  "
      ]
     },
     "execution_count": 4,
     "metadata": {},
     "output_type": "execute_result"
    }
   ],
   "source": [
    "test_df.head()"
   ]
  },
  {
   "cell_type": "code",
   "execution_count": 8,
   "metadata": {},
   "outputs": [
    {
     "data": {
      "text/html": [
       "<div>\n",
       "<style scoped>\n",
       "    .dataframe tbody tr th:only-of-type {\n",
       "        vertical-align: middle;\n",
       "    }\n",
       "\n",
       "    .dataframe tbody tr th {\n",
       "        vertical-align: top;\n",
       "    }\n",
       "\n",
       "    .dataframe thead th {\n",
       "        text-align: right;\n",
       "    }\n",
       "</style>\n",
       "<table border=\"1\" class=\"dataframe\">\n",
       "  <thead>\n",
       "    <tr style=\"text-align: right;\">\n",
       "      <th></th>\n",
       "      <th>essay_id</th>\n",
       "      <th>essay_set</th>\n",
       "      <th>essay</th>\n",
       "      <th>rater1_domain1</th>\n",
       "      <th>rater2_domain1</th>\n",
       "      <th>domain1_score</th>\n",
       "    </tr>\n",
       "  </thead>\n",
       "  <tbody>\n",
       "  </tbody>\n",
       "</table>\n",
       "</div>"
      ],
      "text/plain": [
       "Empty DataFrame\n",
       "Columns: [essay_id, essay_set, essay, rater1_domain1, rater2_domain1, domain1_score]\n",
       "Index: []"
      ]
     },
     "execution_count": 8,
     "metadata": {},
     "output_type": "execute_result"
    }
   ],
   "source": [
    "train_df[train_df.essay_id == 2383]"
   ]
  },
  {
   "cell_type": "code",
   "execution_count": null,
   "metadata": {},
   "outputs": [],
   "source": []
  }
 ],
 "metadata": {
  "kernelspec": {
   "display_name": "Python 3",
   "language": "python",
   "name": "python3"
  },
  "language_info": {
   "codemirror_mode": {
    "name": "ipython",
    "version": 3
   },
   "file_extension": ".py",
   "mimetype": "text/x-python",
   "name": "python",
   "nbconvert_exporter": "python",
   "pygments_lexer": "ipython3",
   "version": "3.6.4"
  }
 },
 "nbformat": 4,
 "nbformat_minor": 2
}
